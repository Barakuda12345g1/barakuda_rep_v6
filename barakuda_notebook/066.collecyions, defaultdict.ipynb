{
 "cells": [
  {
   "cell_type": "markdown",
   "metadata": {},
   "source": [
    "## Модуль Counter из библиотеки collections"
   ]
  },
  {
   "cell_type": "code",
   "execution_count": null,
   "metadata": {},
   "outputs": [
    {
     "name": "stdout",
     "output_type": "stream",
     "text": [
      "Counter({'red': 1})\n",
      "Counter({'red': 4, 'black': 3, 'blue': 2, 'white': 1})\n",
      "Counter({'red': 3, 'black': 3, 'blue': 2, 'white': 1})\n",
      "3\n",
      "0\n",
      "9\n",
      "dict_values([3, 2, 3, 1])\n"
     ]
    }
   ],
   "source": [
    "# используем обьект Counter из модуля collections\n",
    "from collections import Counter\n",
    "# создаем пустой обьект Counter\n",
    "c = Counter()\n",
    "\n",
    "# смотрим что синтаксис похож на работу со словарем\n",
    "c['red'] += 1\n",
    "print(c)\n",
    "\n",
    "# используем список для посчета цветов\n",
    "cars = ['red', 'blue', 'black', 'black', 'black', 'red', 'blue', 'red', 'white']\n",
    "# знаем что можно посчитать при поvоoи цикла \n",
    "for car in cars:\n",
    "    c[car] += 1\n",
    "# посчитали и аккуратно положили в словарь\n",
    "print(c)    \n",
    "\n",
    "# делаем то же самое, но уже при помощи обьекта Counter\n",
    "c = Counter(cars)\n",
    "print(c)\n",
    "\n",
    "# узнаем, что если обратиться к счетчку по ключу\n",
    "# то мы обращаемся к значению как при работе со словарем\n",
    "print(c['red'])\n",
    "\n",
    "# узнаем, что если обрааться по несуществующеу ключу,\n",
    "# то будет возвращено количество 0\n",
    "print(c['purple']) \n",
    "\n",
    "# сомотрим, что были посчитаны значения словаря в обьекте Counter(cars)\n",
    "print(sum(c.values()))\n",
    "\n",
    "# смотрим, как выглядет обьект при такой конструкции\n",
    "print(c.values())\n",
    "\n"
   ]
  },
  {
   "cell_type": "markdown",
   "metadata": {},
   "source": [
    "## операции с Counter"
   ]
  },
  {
   "cell_type": "code",
   "execution_count": null,
   "metadata": {},
   "outputs": [
    {
     "name": "stdout",
     "output_type": "stream",
     "text": [
      "Counter({'black': 4, 'yellow': 3, 'white': 2})\n",
      "Counter({'white': 3, 'red': 2, 'black': 2, 'yellow': 2})\n",
      "Counter({'black': 6, 'white': 5, 'yellow': 5, 'red': 2})\n",
      "Counter({'black': 2, 'yellow': 1, 'white': -1, 'red': -2})\n",
      "Counter({'black': 2, 'yellow': 1})\n"
     ]
    }
   ],
   "source": [
    "# импорт библиотеки обязателен\n",
    "from collections import Counter\n",
    "# считаем одинаковые элементы \n",
    "cars_moscow = ['black', 'black', 'white', 'black', 'black', 'white', 'yellow', 'yellow', 'yellow']\n",
    "cars_spb = ['red', 'black', 'black', 'white', 'white', 'yellow', 'yellow', 'red', 'white']\n",
    "# сохраняем обьект в переменную\n",
    "counter_moscow = Counter(cars_moscow)\n",
    "counter_spb = Counter(cars_spb)\n",
    "\n",
    "print(counter_moscow)\n",
    "print(counter_spb)\n",
    "\n",
    "# смотри на сложение двух счетчиков \n",
    "print(counter_moscow + counter_spb)\n",
    "\n",
    "# смотрим на операцию вычитания при помощи метода subtract\n",
    "counter_moscow.subtract(counter_spb)\n",
    "print(counter_moscow)\n",
    "\n",
    "# пересоздаем переменную, потому что она изменилась\n",
    "counter_moscow = Counter(cars_moscow)\n",
    "counter_spb = Counter(cars_spb)\n",
    "# смотрим на анолог вычитания, он менее информамтивен\n",
    "print(counter_moscow - counter_spb)\n"
   ]
  },
  {
   "cell_type": "markdown",
   "metadata": {},
   "source": [
    "## Дополнительные функции"
   ]
  },
  {
   "cell_type": "code",
   "execution_count": 11,
   "metadata": {},
   "outputs": [
    {
     "name": "stdout",
     "output_type": "stream",
     "text": [
      "black black black black white white yellow yellow yellow\n",
      "['black', 'white', 'yellow']\n",
      "{'black': 4, 'white': 2, 'yellow': 3}\n",
      "[('black', 4), ('yellow', 3), ('white', 2)]\n",
      "[('black', 4), ('yellow', 3)]\n",
      "Counter()\n"
     ]
    }
   ],
   "source": [
    "# импорт библиотеки обязателен\n",
    "from collections import Counter\n",
    "\n",
    "cars_moscow = ['black', 'black', 'white', 'black', 'black', 'white', 'yellow', 'yellow', 'yellow']\n",
    "cars_spb = ['red', 'black', 'black', 'white', 'white', 'yellow', 'yellow', 'red', 'white']\n",
    "\n",
    "counter_moscow = Counter(cars_moscow)\n",
    "\n",
    "# смотрим как работаю вместе оператор '*' и метод .elements\n",
    "print(*counter_moscow.elements())  \n",
    "\n",
    "# выводим в качестве списка из уникальных элементов\n",
    "# при помощи конструкции list()\n",
    "print(list(counter_moscow))\n",
    "\n",
    "# превращает подсчет в словарь\n",
    "print(dict(counter_moscow))\n",
    "\n",
    "# смортим как при помощи метода .most_common получается \n",
    "# список из кортежей в порядке убываемости\n",
    "print(counter_moscow.most_common())\n",
    "\n",
    "# видим что указав в аргуенте число\n",
    "# получаем такое количество наиболее встречаемых кортежей\n",
    "print(counter_moscow.most_common(2))\n",
    "\n",
    "# запоминаем что функция .clear() обнуляет счетчик\n",
    "counter_moscow.clear()\n",
    "print(counter_moscow)\n",
    "\n",
    "\n"
   ]
  },
  {
   "cell_type": "markdown",
   "metadata": {},
   "source": [
    "## Нок и Нод"
   ]
  },
  {
   "cell_type": "code",
   "execution_count": 7,
   "metadata": {},
   "outputs": [
    {
     "name": "stdout",
     "output_type": "stream",
     "text": [
      "360\n"
     ]
    }
   ],
   "source": [
    "# нахожу наименьшее общее кратное\n",
    "# 15 = 3 * 5  \n",
    "# 18 = 2 * 3 * 3 \n",
    "# 24 = 2 * 2 * 2 * 3\n",
    "print(3 * 5 * 2 * 3 * 2 * 2)"
   ]
  },
  {
   "cell_type": "markdown",
   "metadata": {},
   "source": [
    "### На какое наибольшее количество малых групп можно разделить 90 детей и 24 учителя, чтобы в каждой группе было одинаковое количество детей и одинаковое количество учителей?"
   ]
  },
  {
   "cell_type": "code",
   "execution_count": null,
   "metadata": {},
   "outputs": [],
   "source": [
    "# Находим наибольший общий делитель\n",
    "90 = 5 * 3 * 3 * 2\n",
    "24 = 2 * 2 * 2 * 3\n",
    "2 * 3 = 6\n",
    "\n",
    "\n"
   ]
  },
  {
   "cell_type": "markdown",
   "metadata": {},
   "source": [
    "## defaultdict"
   ]
  },
  {
   "cell_type": "code",
   "execution_count": null,
   "metadata": {},
   "outputs": [
    {
     "name": "stdout",
     "output_type": "stream",
     "text": [
      "{1: ['Ivanov', 'Kuznetsova'], 4: ['Smirnov'], 3: ['Petrov', 'Markov'], 2: ['Nikitina', 'Pavlov']}\n"
     ]
    }
   ],
   "source": [
    "# создаем спискок из которого сотавим словарь с номраи групп\n",
    "# и соответветствующим им фамилиям\n",
    "students = [('Ivanov',1),('Smirnov',4),('Petrov',3),('Kuznetsova',1), \\\n",
    "('Nikitina',2),('Markov',3),('Pavlov',2)]\n",
    "# создаем словарь для хранения\n",
    "groups = dict()\n",
    "# исползуем для решения задачи цикл\n",
    "for student, group in students:\n",
    "    # необходимо создать списки для групп\n",
    "    if group not in groups:\n",
    "        groups[group] = list()\n",
    "    # приступаем к заполнению\n",
    "    groups[group].append(student)\n",
    "\n",
    "# смотрим результат\n",
    "print(groups)    \n"
   ]
  },
  {
   "cell_type": "code",
   "execution_count": 13,
   "metadata": {},
   "outputs": [
    {
     "ename": "KeyError",
     "evalue": "1",
     "output_type": "error",
     "traceback": [
      "\u001b[0;31m---------------------------------------------------------------------------\u001b[0m",
      "\u001b[0;31mKeyError\u001b[0m                                  Traceback (most recent call last)",
      "Cell \u001b[0;32mIn[13], line 8\u001b[0m\n\u001b[1;32m      5\u001b[0m groups \u001b[38;5;241m=\u001b[39m \u001b[38;5;28mdict\u001b[39m()\n\u001b[1;32m      7\u001b[0m \u001b[38;5;28;01mfor\u001b[39;00m student, group \u001b[38;5;129;01min\u001b[39;00m students:\n\u001b[0;32m----> 8\u001b[0m     \u001b[43mgroups\u001b[49m\u001b[43m[\u001b[49m\u001b[43mgroup\u001b[49m\u001b[43m]\u001b[49m\u001b[38;5;241m.\u001b[39mappend(students)\n\u001b[1;32m     10\u001b[0m \u001b[38;5;28mprint\u001b[39m(groups)\n",
      "\u001b[0;31mKeyError\u001b[0m: 1"
     ]
    }
   ],
   "source": [
    "# видим, что такой код вызовет ошибку\n",
    "students = [('Ivanov',1),('Smirnov',4),('Petrov',3),('Kuznetsova',1), \\\n",
    "('Nikitina',2),('Markov',3),('Pavlov',2)]\n",
    "\n",
    "groups = dict()\n",
    "\n",
    "for student, group in students:\n",
    "    groups[group].append(students)\n",
    "\n",
    "print(groups)\n"
   ]
  },
  {
   "cell_type": "code",
   "execution_count": null,
   "metadata": {},
   "outputs": [
    {
     "name": "stdout",
     "output_type": "stream",
     "text": [
      "defaultdict(<class 'list'>, {1: ['Ivanov', 'Kuznetsova'], 4: ['Smirnov'], 3: ['Petrov', 'Markov'], 2: ['Nikitina', 'Pavlov']})\n",
      "['Petrov', 'Markov']\n",
      "[]\n",
      "defaultdict(<class 'list'>, {1: ['Ivanov', 'Kuznetsova'], 4: ['Smirnov'], 3: ['Petrov', 'Markov'], 2: ['Nikitina', 'Pavlov'], 2021: []})\n",
      "<class 'dict'>\n",
      "<class 'collections.defaultdict'>\n",
      "{}\n",
      "defaultdict(None, {})\n"
     ]
    }
   ],
   "source": [
    "students = [('Ivanov',1),('Smirnov',4),('Petrov',3),('Kuznetsova',1), \\\n",
    "('Nikitina',2),('Markov',3),('Pavlov',2)]\n",
    "\n",
    "# делаем проще используем defaultdict, \n",
    "# из встроенной библиотеки collectins\n",
    "from collections import defaultdict\n",
    "# создем переменную в которой буем хранить defaultdict \n",
    "# со значениями list()\n",
    "groups = defaultdict(list)\n",
    "for student, group in students:\n",
    "    groups[group].append(student)\n",
    "    \n",
    "# смотрим на результат\n",
    "print(groups)    \n",
    "    \n",
    "# понимаем что значение можно получить как из обычного словаря\n",
    "print(groups[3])    \n",
    "\n",
    "# видим, что такая запись добавит в словарь пустой список\n",
    "print(groups[2021])\n",
    "print(groups)\n",
    "\n",
    "# не забываем использовать type, чтобы узнать\n",
    "# с обьектом какого типа имеем дело\n",
    "dict_object = dict()\n",
    "defaultdict_object = defaultdict()\n",
    "\n",
    "print(type(dict_object))\n",
    "print(type(defaultdict_object))\n",
    "\n",
    "# видим отличие соваря и соваря по уолчанию\n",
    "print(dict_object)\n",
    "print(defaultdict_object)\n"
   ]
  }
 ],
 "metadata": {
  "kernelspec": {
   "display_name": ".venv",
   "language": "python",
   "name": "python3"
  },
  "language_info": {
   "codemirror_mode": {
    "name": "ipython",
    "version": 3
   },
   "file_extension": ".py",
   "mimetype": "text/x-python",
   "name": "python",
   "nbconvert_exporter": "python",
   "pygments_lexer": "ipython3",
   "version": "3.12.3"
  }
 },
 "nbformat": 4,
 "nbformat_minor": 2
}
