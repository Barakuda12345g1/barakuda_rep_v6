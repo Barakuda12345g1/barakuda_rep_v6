{
 "cells": [
  {
   "cell_type": "markdown",
   "metadata": {},
   "source": [
    "## OrderedDict"
   ]
  },
  {
   "cell_type": "code",
   "execution_count": null,
   "metadata": {},
   "outputs": [
    {
     "name": "stdout",
     "output_type": "stream",
     "text": [
      "OrderedDict({'Ivan': 19, 'Mark': 25, 'Andrey': 23, 'Maria': 20})\n",
      "OrderedDict({'Ivan': 19, 'Mark': 25, 'Andrey': 23, 'Maria': 20})\n",
      "OrderedDict({'Ivan': 19, 'Mark': 25, 'Andrey': 23, 'Maria': 20})\n",
      "OrderedDict({'Ivan': 19, 'Maria': 20, 'Andrey': 23, 'Mark': 25})\n",
      "OrderedDict({'Ivan': 19, 'Maria': 20, 'Andrey': 23, 'Mark': 25, 'Nikita': 18})\n",
      "OrderedDict({'Ivan': 19, 'Maria': 20, 'Mark': 25, 'Nikita': 18})\n",
      "OrderedDict({'Ivan': 19, 'Maria': 20, 'Mark': 25, 'Nikita': 18, 'Andrey': 23})\n",
      "3.12.3 (main, Nov  6 2024, 18:32:19) [GCC 13.2.0]\n"
     ]
    }
   ],
   "source": [
    "# получаем обьек OrderedDict\n",
    "from collections import OrderedDict\n",
    "# добавляем список для превращения в словарь\n",
    "data = [('Ivan', 19),('Mark', 25),('Andrey', 23),('Maria', 20)]\n",
    "# сохраняем порядок дрбавления\n",
    "ordered_client_ages = OrderedDict(data)\n",
    "# видим что при повторении в словаре не меняется порядок\n",
    "print(ordered_client_ages)\n",
    "print(ordered_client_ages)\n",
    "print(ordered_client_ages)\n",
    "\n",
    "# сортируем элементы словаря по второму значению при помощи sorted\n",
    "ordered_client_ages = OrderedDict(sorted(data, key=lambda x: x[1]))\n",
    "# проверяем сортировку\n",
    "print(ordered_client_ages)\n",
    "\n",
    "# видим что новое значение добавляется в конец\n",
    "ordered_client_ages['Nikita'] = 18\n",
    "# смотрим на результат\n",
    "print(ordered_client_ages)\n",
    "\n",
    "# видим что удалив элемент и добавив его, он окажется в конце\n",
    "del ordered_client_ages['Andrey']\n",
    "print(ordered_client_ages)\n",
    "ordered_client_ages['Andrey'] = 23\n",
    "print(ordered_client_ages)\n",
    "\n",
    "# при помощи модуля sys узнаем текущуюю версию Python,\n",
    "# для проверки совместимости кода\n",
    "\n",
    "import sys\n",
    "print(sys.version)"
   ]
  },
  {
   "cell_type": "markdown",
   "metadata": {},
   "source": [
    "## deque"
   ]
  },
  {
   "cell_type": "code",
   "execution_count": 20,
   "metadata": {},
   "outputs": [
    {
     "name": "stdout",
     "output_type": "stream",
     "text": [
      "deque([])\n",
      "deque(['Ivanov', 'Petrov', 'Smirnov', 'Tikhonoav'])\n",
      "Smirnov\n",
      "First client:  Ivanov\n",
      "Second client:  Petrov\n",
      "deque(['Smirnov', 'Tikhonoav'])\n",
      "deque(['Vip-client', 'Smirnov', 'Tikhonoav'])\n",
      "deque(['Vip-client', 'Smirnov'])\n",
      "deque(['Ivanov', 'Petrov', 'Tikhonova'])\n",
      "deque([1, 2, 3, 4, 5, 11, 12, 13, 14, 15, 16, 17])\n",
      "deque([17, 16, 15, 14, 13, 12, 11, 1, 2, 3, 4, 5])\n"
     ]
    }
   ],
   "source": [
    "# начинае пользоваться deque\n",
    "from collections import deque\n",
    "dq = deque()\n",
    "print(dq)\n",
    "\n",
    "# создаем обьект deque\n",
    "clients = deque()\n",
    "# видим что добавление работает как и со списком\n",
    "clients.append('Ivanov')\n",
    "clients.append('Petrov')\n",
    "clients.append('Smirnov')\n",
    "clients.append('Tikhonoav')\n",
    "# проверяе добавление\n",
    "print(clients)\n",
    "\n",
    "# видим что дека работает с индексами, как и со списками\n",
    "print(clients[2])\n",
    "\n",
    "# извлекаем с самого начала, как и во аремя очередности\n",
    "first_client = clients.popleft()\n",
    "second_client = clients.popleft()\n",
    "# смотрим как мы извлекли из деки первые элементы по очереди\n",
    "print('First client: ', first_client)\n",
    "print('Second client: ', second_client)\n",
    "# подтвердаем, что в деке нет первых двух элементов\n",
    "print(clients)\n",
    "\n",
    "# смотрим на пуш при помощи appendleft\n",
    "clients.appendleft('Vip-client')\n",
    "# наблюдаем за результатом\n",
    "print(clients)\n",
    "\n",
    "# смотрим как забирать элемент с конца\n",
    "tired_client = clients.pop()\n",
    "print(clients)\n",
    "\n",
    "# создем деку заного для того чтобы научиться удалять элементы по индексу\n",
    "clients = deque(['Ivanov', 'Petrov', 'Smirnov', 'Tikhonova'])\n",
    "# стираем эемент при помои встроенной конструкции del\n",
    "del clients[2]\n",
    "print(clients)\n",
    "\n",
    "# создем новую очередь для добаления очереди с переди и сзади\n",
    "shop = deque([1, 2, 3, 4, 5])\n",
    "shop.extend([11, 12, 13, 14, 15, 16, 17])\n",
    "print(shop)\n",
    "#  добавляем в начало по очереди каждый элемент деки\n",
    "shop = deque([1, 2, 3, 4, 5])\n",
    "shop.extendleft([11, 12, 13, 14, 15, 16, 17])\n",
    "print(shop)\n",
    "\n",
    "\n"
   ]
  },
  {
   "cell_type": "markdown",
   "metadata": {},
   "source": [
    "### Очередь с ограниченной максимальной длинной"
   ]
  },
  {
   "cell_type": "code",
   "execution_count": null,
   "metadata": {},
   "outputs": [
    {
     "name": "stdout",
     "output_type": "stream",
     "text": [
      "deque([], maxlen=3)\n",
      "deque([5, 6, 7], maxlen=3)\n",
      "deque([1, 2, 3], maxlen=3)\n",
      "deque([2, 3, 8], maxlen=3)\n"
     ]
    }
   ],
   "source": [
    "# очереди можно задать аксимальную длинну\n",
    "limited = deque(maxlen=3)\n",
    "print(limited)\n",
    "\n",
    "# запоминаем что остаются только последние элементы\n",
    "limited_from_list = deque([1, 2, 3, 4, 5, 6, 7], maxlen=3)\n",
    "print(limited_from_list)\n",
    "\n",
    "# смотрим на то что показывеется конец очереди\n",
    "limited.extend([1, 2, 3])\n",
    "print(limited)\n",
    "\n",
    "# видим что из-за указанной длинны однерка удаляется\n",
    "limited.append(8)\n",
    "print(limited)\n"
   ]
  },
  {
   "cell_type": "code",
   "execution_count": null,
   "metadata": {},
   "outputs": [
    {
     "name": "stdout",
     "output_type": "stream",
     "text": [
      "7\n",
      "20.77; 21.27; 22.16; 23.3; 24.44; 24.94; 25.56; 26.2; 25.97; 25.94; 25.57; 25.1; 24.81; 24.21; 23.23; 22.57; 21.41; 20.4; 19.6; 19.1; 19.04; 18.96; 19.44; 20.01; 20.67; "
     ]
    }
   ],
   "source": [
    "# создаем список для итерирования\n",
    "temps = [20.6, 19.4, 19.0, 19.0, 22.1,\n",
    "        22.5, 22.8, 24.1, 25.6, 27.0,\n",
    "        27.0, 25.6, 26.8, 27.3, 22.5,\n",
    "        25.4, 24.4, 23.7, 23.6, 22.6,\n",
    "        20.4, 17.9, 17.3, 17.3, 18.1,\n",
    "        20.1, 22.2, 19.8, 21.3, 21.3,\n",
    "        21.9]\n",
    "\n",
    "# создаем дек для дальнейших расчетов \n",
    "days = deque(maxlen=7)\n",
    "# видим, что при поощи такой конструкции\n",
    "# можно просмотреть заданное в аргуменнте число макисальной длинны\n",
    "print(days.maxlen)\n",
    "# считаем скользящую среднюю для каждой новой семидневки\n",
    "for temp in temps:\n",
    "    # заполняем deque\n",
    "    days.append(temp)\n",
    "    # как только зполнилось до семи мы делаем подсчет\n",
    "    if len(days) == days.maxlen:\n",
    "        # каждый раз подсчет происходит\n",
    "        # без бывшего первого элемента и с новым элементом в конце\n",
    "        print(round(sum(days) / len(days), 2), end='; ')"
   ]
  },
  {
   "cell_type": "markdown",
   "metadata": {},
   "source": [
    "### Дополнительные функции"
   ]
  },
  {
   "cell_type": "markdown",
   "metadata": {},
   "source": [
    "#### reverse"
   ]
  },
  {
   "cell_type": "code",
   "execution_count": null,
   "metadata": {},
   "outputs": [
    {
     "name": "stdout",
     "output_type": "stream",
     "text": [
      "deque([5, 4, 3, 2, 1])\n"
     ]
    }
   ],
   "source": [
    "dq = deque([1, 2, 3, 4, 5])\n",
    "#  переворачиваем все\n",
    "dq.reverse()\n",
    "print(dq)\n"
   ]
  },
  {
   "cell_type": "markdown",
   "metadata": {},
   "source": [
    "#### rotate"
   ]
  },
  {
   "cell_type": "code",
   "execution_count": 41,
   "metadata": {},
   "outputs": [
    {
     "name": "stdout",
     "output_type": "stream",
     "text": [
      "deque([4, 5, 1, 2, 3])\n",
      "deque([3, 4, 5, 1, 2])\n"
     ]
    }
   ],
   "source": [
    "dq = deque([1, 2, 3, 4, 5])\n",
    "# преносим два элемента из конца в начало\n",
    "dq.rotate(2)\n",
    "print(dq)\n",
    "\n",
    "dq = deque([1, 2, 3, 4, 5])\n",
    "# переносим элементы из начала в конец\n",
    "dq.rotate(-2)\n",
    "print(dq)\n"
   ]
  },
  {
   "cell_type": "markdown",
   "metadata": {},
   "source": [
    "#### index и count"
   ]
  },
  {
   "cell_type": "code",
   "execution_count": null,
   "metadata": {},
   "outputs": [
    {
     "name": "stdout",
     "output_type": "stream",
     "text": [
      "3\n",
      "5\n",
      "0\n"
     ]
    },
    {
     "ename": "ValueError",
     "evalue": "25 is not in deque",
     "output_type": "error",
     "traceback": [
      "\u001b[0;31m---------------------------------------------------------------------------\u001b[0m",
      "\u001b[0;31mValueError\u001b[0m                                Traceback (most recent call last)",
      "Cell \u001b[0;32mIn[48], line 11\u001b[0m\n\u001b[1;32m      8\u001b[0m \u001b[38;5;28mprint\u001b[39m(dq\u001b[38;5;241m.\u001b[39mcount(\u001b[38;5;241m15\u001b[39m))\n\u001b[1;32m     10\u001b[0m \u001b[38;5;66;03m# смотрим, что печать не суествующего элемента по индексу приводит к ошибке\u001b[39;00m\n\u001b[0;32m---> 11\u001b[0m \u001b[38;5;28mprint\u001b[39m(\u001b[43mdq\u001b[49m\u001b[38;5;241;43m.\u001b[39;49m\u001b[43mindex\u001b[49m\u001b[43m(\u001b[49m\u001b[38;5;241;43m25\u001b[39;49m\u001b[43m)\u001b[49m)\n",
      "\u001b[0;31mValueError\u001b[0m: 25 is not in deque"
     ]
    }
   ],
   "source": [
    "# печатаем элемент по индексу в очереди\n",
    "dq = deque([1, 2, 3, 4, 2, 4, 3, 6, 4, 4, 4])\n",
    "print(dq.index(4))\n",
    "\n",
    "# видим что в дек можно найти количестово вхождений \n",
    "print(dq.count(4))\n",
    "\n",
    "# подсчет несуществующего элемента дает ноль\n",
    "print(dq.count(15))\n",
    "\n",
    "# смотрим, что печать не суествующего элемента по индексу приводит к ошибке\n",
    "print(dq.index(25))\n"
   ]
  },
  {
   "cell_type": "markdown",
   "metadata": {},
   "source": [
    "#### clear"
   ]
  },
  {
   "cell_type": "code",
   "execution_count": null,
   "metadata": {},
   "outputs": [
    {
     "name": "stdout",
     "output_type": "stream",
     "text": [
      "deque([])\n"
     ]
    }
   ],
   "source": [
    "dq = deque([1, 2, 3, 4, 5, 6, 7, 8, 9, 10, 11, 12, 13, 14, 15])\n",
    "# стираем дек методом clear\n",
    "dq.clear()\n",
    "# видим пустую деку\n",
    "print(dq)"
   ]
  },
  {
   "cell_type": "markdown",
   "metadata": {},
   "source": [
    "## Задание 3.2"
   ]
  },
  {
   "cell_type": "markdown",
   "metadata": {},
   "source": [
    "Дан список из кортежей temps. На первом месте в кортеже указан год в виде строки, а на втором — средняя температура января в Петербурге в указанном году.\n",
    "\n",
    "Напишите функцию check(temps), которая будет выводить словарь, в котором ключи — годы, а значения — показатели температуры. Ключи необходимо отсортировать в порядке убывания соответствующих им температур."
   ]
  },
  {
   "cell_type": "code",
   "execution_count": null,
   "metadata": {},
   "outputs": [
    {
     "name": "stdout",
     "output_type": "stream",
     "text": [
      "OrderedDict({'2001': -2.5, '2000': -4.4, '2002': -4.4, '2003': -9.5})\n"
     ]
    }
   ],
   "source": [
    "temps = [('2000', -4.4), ('2001', -2.5), ('2002', -4.4), ('2003', -9.5)]\n",
    "\n",
    "def check(temps):\n",
    "    result = OrderedDict(sorted(temps, key=lambda x: -x[1]))\n",
    "    # печатаем так, пото му что тренажер требует,\n",
    "    # чтобы ответ печаталься в функции, а не возвращался через return\n",
    "    print(result)\n",
    "\n",
    "check(temps)"
   ]
  }
 ],
 "metadata": {
  "kernelspec": {
   "display_name": ".venv",
   "language": "python",
   "name": "python3"
  },
  "language_info": {
   "codemirror_mode": {
    "name": "ipython",
    "version": 3
   },
   "file_extension": ".py",
   "mimetype": "text/x-python",
   "name": "python",
   "nbconvert_exporter": "python",
   "pygments_lexer": "ipython3",
   "version": "3.12.3"
  }
 },
 "nbformat": 4,
 "nbformat_minor": 2
}
