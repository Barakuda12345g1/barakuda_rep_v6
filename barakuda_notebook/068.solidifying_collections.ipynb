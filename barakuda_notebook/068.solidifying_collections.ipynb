{
 "cells": [
  {
   "cell_type": "markdown",
   "metadata": {},
   "source": [
    "## Задание 4.3"
   ]
  },
  {
   "cell_type": "markdown",
   "metadata": {},
   "source": [
    "Напишите функцию brackets(line), которая определяет, является ли последовательность из круглых скобок line правильной.\n",
    "\n",
    "**Примечание 1.** Какая последовательность скобок правильная?\n",
    "\n",
    "Правильной скобочной последовательностью назовём такую последовательность скобок, в которой для каждой открывающей скобки есть последующая соответствующая ей закрывающая скобка. Соответственно, остальные скобочные последовательности назовём неправильными. Пустую строку будем считать правильной последовательностью.\n",
    "\n",
    "**Примечание 2.** Для решения этой задачи потребуется использовать стек.\n",
    "\n",
    "Посимвольно переберите строку. Если встретилась открывающаяся скобка, положите её в стек. Если встретилась закрывающаяся скобка, извлеките скобку из стека.\n",
    "\n",
    "- Если стек пустой, то есть извлечь скобку нельзя, последовательность неправильная.\n",
    "- Если строка закончилась и стек стал пустым, последовательность правильная.\n",
    "- Если в стеке остались скобки, последовательность неправильная.\n"
   ]
  },
  {
   "cell_type": "code",
   "execution_count": 15,
   "metadata": {},
   "outputs": [
    {
     "name": "stdout",
     "output_type": "stream",
     "text": [
      "True\n",
      "True\n",
      "False\n"
     ]
    }
   ],
   "source": [
    "# импортируем deque, чтобы одновременно использовать функционал очереди и стека\n",
    "from collections import deque\n",
    "\n",
    "\n",
    "# решаем задачу при помощи функции\n",
    "def brackets(line):\n",
    "    # с очередью можно реализовать более легкий подход для решения задачи\n",
    "    # создаю очередь, чтобы засовывать и убирать скобки\n",
    "    dq = deque()\n",
    "    # если введенная строка пустая, то возвращаем True\n",
    "    if line == '':\n",
    "        return True       \n",
    "    # рассматриваем каждый символ\n",
    "    for symbol in line:\n",
    "        if symbol == '(':\n",
    "            dq.append('(')\n",
    "        if symbol == ')':\n",
    "            # возвращаем False если для закрывающей скобки\n",
    "            # нет соответствующей \n",
    "            # открывающей скобки\n",
    "            if len(dq) == 0:\n",
    "                return False\n",
    "            # иначе все в порядке\n",
    "            else:\n",
    "                dq.pop()\n",
    "    # возвращаем True, еси количество открывающих скобок\n",
    "    # равна количеству закрывающих\n",
    "    if len(dq) == 0:\n",
    "        return True\n",
    "    # проверка на количество элементов в очереди даст нам ответ на вопрос\n",
    "    # а есть ли для открывающей скобки соответствуюая закрывающая скобка          \n",
    "    if len(dq) >= 1:\n",
    "        return False    \n",
    "        \n",
    "\n",
    "print(brackets(\"(()())\"))\n",
    "# True\n",
    "print(brackets(\"\"))\n",
    "# True\n",
    "print(brackets(\"(()()))\"))\n",
    "# False\n",
    "\n"
   ]
  },
  {
   "cell_type": "code",
   "execution_count": 16,
   "metadata": {},
   "outputs": [
    {
     "name": "stdout",
     "output_type": "stream",
     "text": [
      "deque(['(', '('])\n",
      "deque([])\n"
     ]
    }
   ],
   "source": [
    "# запоминае как работает .pop() и .append() \n",
    "dq = deque()\n",
    "dq.append('(')\n",
    "dq.append('(')\n",
    "print(dq)\n",
    "dq.pop()\n",
    "dq.pop()\n",
    "print(dq)"
   ]
  },
  {
   "cell_type": "markdown",
   "metadata": {},
   "source": [
    "## Задание 4.4"
   ]
  },
  {
   "cell_type": "markdown",
   "metadata": {},
   "source": [
    "В импортируемых в тренировочном редакторе кода переменных center, south и north хранятся списки из перечней купленных позиций в трёх торговых точках, расположенных в разных районах города.\n",
    "\n",
    "Вначале избавьтесь от излишней вложенности: в каждой переменной (center, south, north) должен храниться объединённый список купленных товаров без разбиения по чекам.\n",
    "\n",
    "Пример: [['Milk', 'Bread'], ['Meat']] -> ['Milk', 'Bread', 'Meat']\n",
    "\n",
    "После этого определите, **в каком магазине было куплено больше всего товаров.**"
   ]
  },
  {
   "cell_type": "markdown",
   "metadata": {},
   "source": [
    "Задание выполнено в тренировочном редакторе кода "
   ]
  },
  {
   "cell_type": "code",
   "execution_count": null,
   "metadata": {},
   "outputs": [],
   "source": [
    "# Это тренировочный редактор кода. Вы можете ввести любой код ниже.\n",
    "# После этого нажмите кнопку «Выполнить», чтобы увидеть результат.\n",
    "\n",
    "# Следующая строка необходима для системной работы редактора.\n",
    "# В ней импортируются объекты, которые могут вам понадобиться при выполнении некоторых заданий в процессе прохождения курса.\n",
    "# Не удаляйте этот импорт!\n",
    "from hidden import *\n",
    "from collections import Counter\n",
    "from collections import deque\n",
    "from collections import OrderedDict\n",
    "\n",
    "\n",
    "dq = deque()\n",
    "for check in center:\n",
    "    dq.append(check)\n",
    "dq_v2 = deque()\n",
    "for elem in dq:\n",
    "    dq_v2.extend(elem)\n",
    "print(len(dq_v2))\n",
    "\n",
    "dq_south = deque()\n",
    "for check in south:\n",
    "    dq_south.append(check)\n",
    "dq_v2_south = deque()\n",
    "for elem in dq_south:\n",
    "    dq_v2_south.extend(elem)\n",
    "print(len(dq_v2_south))   \n",
    "\n",
    "# пополняем deque списками-чеками\n",
    "dq_north = deque()\n",
    "# получаем список со вложенными списками\n",
    "for check in north:\n",
    "    dq_north.append(check)\n",
    "# создаем пустую очередь для выпрямления воженных списков\n",
    "dq_v2_north = deque()\n",
    "for elem in dq_north:\n",
    "    dq_v2_north.extend(elem)\n",
    "# смотрим на количество элементов для сравнения\n",
    "print(len(dq_v2_north))    \n",
    "\n",
    "# узнаем какое количество каждого товара в форме словаря \n",
    "center_count = Counter(dq_v2)\n",
    "south_count = Counter(dq_v2_south)\n",
    "north_count = Counter(dq_v2_north)\n",
    "\n",
    "# создаем из словаря список с кортежами, чтобы отсортировать\n",
    "# в порядке возрастания\n",
    "north_tuple = north_count.items()\n",
    "# преврашаем обьект dict_items в список для удобства\n",
    "north_tuple = list(north_tuple)\n",
    "north_tuple.sort(key=lambda x: x[1])\n",
    "# смотрим на товар который покупали мегьше всего\n",
    "print(north_tuple[0][1])\n",
    "\n",
    "# смотрим сколько раз был куплен Bread\n",
    "print(center_count['Bread'])\n",
    "print(north_count['Bread'])\n",
    "\n",
    "# создаю пустую очередь, чтобы пополнить ее популярным товаром\n",
    "popular_dq = deque()\n",
    "# создаю три цикла, чтобы узнать в каком списке есть товар который приобретали больше чем тот же самый товар вместе в двух других списках\n",
    "for elem in center_count:\n",
    "    if center_count[elem] > south_count[elem] + north_count[elem]:\n",
    "        popular_dq.append(elem)\n",
    "print(popular_dq)  \n",
    "\n",
    "for elem in south_count:\n",
    "    if south_count[elem] > center_count[elem] + north_count[elem]:\n",
    "        popular_dq.append(elem)\n",
    "print(popular_dq)\n",
    "\n",
    "for elem in north_count:\n",
    "    if north_count[elem] > center_count[elem] + south_count[elem]:\n",
    "        popular_dq.append(elem)\n",
    "print(popular_dq)        \n",
    "\n",
    "# находим общее количество покупок товаров во всех магазинах вместе\n",
    "all_count = center_count + south_count + north_count    \n",
    "# чтобы достать значения во вложенных кортежах, помещаем все в переменную\n",
    "all_tuple = all_count.most_common(2)\n",
    "print(all_tuple[1][1])\n",
    "\n",
    "\n"
   ]
  },
  {
   "cell_type": "markdown",
   "metadata": {},
   "source": [
    "## Задание 4.9"
   ]
  },
  {
   "cell_type": "markdown",
   "metadata": {},
   "source": [
    "Дан список кортежей ratings, где каждый кортеж содержит название и рейтинг кафе.\n",
    "\n",
    "Необходимо отсортировать список по убыванию рейтинга. Если рейтинги совпадают, то кафе должны быть дополнительно отсортированы в алфавитном порядке.\n",
    "\n",
    "После сортировки создайте упорядоченный словарь cafes, используя модуль collections. Ключами должны быть названия кафе, а значениями — их рейтинги.\n",
    "\n",
    "Используйте следующий список с рейтингами кафе:\n"
   ]
  },
  {
   "cell_type": "code",
   "execution_count": 17,
   "metadata": {},
   "outputs": [
    {
     "name": "stdout",
     "output_type": "stream",
     "text": [
      "[('WokToWork', 4.9), ('WokAndRice', 4.9), ('General Foods', 4.8), ('New Age', 4.6), ('Belissimo', 4.5), ('CakeAndCoffee', 4.2), ('CakeOClock', 4.2), ('CakeTime', 4.1), ('Nice Cakes', 3.9), ('Old York', 3.3), ('Old Gold', 3.3), ('Old Wine Cellar', 3.3)]\n",
      "defaultdict(<class 'list'>, {4.9: ['WokToWork', 'WokAndRice'], 4.8: ['General Foods'], 4.6: ['New Age'], 4.5: ['Belissimo'], 4.2: ['CakeAndCoffee', 'CakeOClock'], 4.1: ['CakeTime'], 3.9: ['Nice Cakes'], 3.3: ['Old York', 'Old Gold', 'Old Wine Cellar']})\n",
      "defaultdict(<class 'list'>, {4.9: ['WokAndRice', 'WokToWork'], 4.8: ['General Foods'], 4.6: ['New Age'], 4.5: ['Belissimo'], 4.2: ['CakeAndCoffee', 'CakeOClock'], 4.1: ['CakeTime'], 3.9: ['Nice Cakes'], 3.3: ['Old Gold', 'Old Wine Cellar', 'Old York']})\n",
      "dict_items([(4.9, ['WokAndRice', 'WokToWork']), (4.8, ['General Foods']), (4.6, ['New Age']), (4.5, ['Belissimo']), (4.2, ['CakeAndCoffee', 'CakeOClock']), (4.1, ['CakeTime']), (3.9, ['Nice Cakes']), (3.3, ['Old Gold', 'Old Wine Cellar', 'Old York'])])\n",
      "deque(['WokAndRice', 'WokToWork', 'General Foods', 'New Age', 'Belissimo', 'CakeAndCoffee', 'CakeOClock', 'CakeTime', 'Nice Cakes', 'Old Gold', 'Old Wine Cellar', 'Old York'])\n",
      "OrderedDict({'WokToWork': 4.9, 'WokAndRice': 4.9, 'General Foods': 4.8, 'New Age': 4.6, 'Belissimo': 4.5, 'CakeAndCoffee': 4.2, 'CakeOClock': 4.2, 'CakeTime': 4.1, 'Nice Cakes': 3.9, 'Old York': 3.3, 'Old Gold': 3.3, 'Old Wine Cellar': 3.3})\n",
      "[('WokAndRice', 4.9), ('WokToWork', 4.9), ('General Foods', 4.8), ('New Age', 4.6), ('Belissimo', 4.5), ('CakeAndCoffee', 4.2), ('CakeOClock', 4.2), ('CakeTime', 4.1), ('Nice Cakes', 3.9), ('Old Gold', 3.3), ('Old Wine Cellar', 3.3), ('Old York', 3.3)]\n",
      "OrderedDict({'WokAndRice': 4.9, 'WokToWork': 4.9, 'General Foods': 4.8, 'New Age': 4.6, 'Belissimo': 4.5, 'CakeAndCoffee': 4.2, 'CakeOClock': 4.2, 'CakeTime': 4.1, 'Nice Cakes': 3.9, 'Old Gold': 3.3, 'Old Wine Cellar': 3.3, 'Old York': 3.3})\n"
     ]
    }
   ],
   "source": [
    "from collections import deque\n",
    "from collections import defaultdict\n",
    "from collections import OrderedDict\n",
    "\n",
    "\n",
    "ratings = [\n",
    "('Old York', 3.3), ('New Age', 4.6), ('Old Gold', 3.3), ('General Foods', 4.8),\n",
    "('Belissimo', 4.5), ('CakeAndCoffee', 4.2), ('CakeOClock', 4.2), ('CakeTime', 4.1),\n",
    "('WokToWork', 4.9), ('WokAndRice', 4.9), ('Old Wine Cellar', 3.3), ('Nice Cakes', 3.9)\n",
    "]\n",
    "\n",
    "ratings.sort(key=lambda x: -x[1])\n",
    "print(ratings)\n",
    "\n",
    "dq = deque()\n",
    "restraunt_dict = defaultdict(list)\n",
    "for restraunt, rating in ratings:\n",
    "    restraunt_dict[rating].append(restraunt)\n",
    "print(restraunt_dict)    \n",
    "# рассмариваем значение каждого элемента и сортируем его по алфавиту\n",
    "for elem in restraunt_dict:\n",
    "    restraunt_dict[elem].sort()\n",
    "    \n",
    "print(restraunt_dict)    \n",
    "\n",
    "print(restraunt_dict.items())\n",
    "# соединяем все в одной очереди, чтобы потом все собрать в словарь    \n",
    "for elem in restraunt_dict:\n",
    "    dq.extend(restraunt_dict[elem])        \n",
    "print(dq)\n",
    "\n",
    "# создаем упорядоченный словарь из исходного списка, \n",
    "# чтобы брать от туда значения рейтинга и перемозать новый словарь\n",
    "ratings_dict = OrderedDict(ratings)\n",
    "print(ratings_dict)\n",
    "# пустой список нужен для хранения кортежей в которых первый элемент имя,\n",
    "# а второй рейтинг\n",
    "sorted_ratings = list()\n",
    "# проходимся по сортированной очереди и берем значения из орингинального \n",
    "# словаря\n",
    "for elem in dq:\n",
    "    # в список будем поещать будущие кортежи для дальнейшего трансфера\n",
    "    correct_list = list()\n",
    "    # вытаскиваем значения\n",
    "    if elem in ratings_dict:\n",
    "        # помещаем имя\n",
    "        correct_list.append(elem)\n",
    "        # и добавляем его рейтинг\n",
    "        correct_list.append(ratings_dict[elem])\n",
    "    # отправляем готовый список в форме кортежа в общий список        \n",
    "    sorted_ratings.append(tuple(correct_list))\n",
    "    # персоздаем и подгатавливаем список для новой итерации\n",
    "    correct_list = list()    \n",
    "        \n",
    "print(sorted_ratings)        \n",
    "        \n",
    "# создаю упорядоченный словарь\n",
    "cafes = OrderedDict(sorted_ratings)\n",
    "print(cafes)        \n",
    "        "
   ]
  },
  {
   "cell_type": "code",
   "execution_count": null,
   "metadata": {},
   "outputs": [
    {
     "name": "stdout",
     "output_type": "stream",
     "text": [
      "OrderedDict({'WokAndRice': 4.9, 'WokToWork': 4.9, 'General Foods': 4.8, 'New Age': 4.6, 'Belissimo': 4.5, 'CakeAndCoffee': 4.2, 'CakeOClock': 4.2, 'CakeTime': 4.1, 'Nice Cakes': 3.9, 'Old Gold': 3.3, 'Old Wine Cellar': 3.3, 'Old York': 3.3})\n"
     ]
    }
   ],
   "source": [
    "from collections import deque\n",
    "from collections import defaultdict\n",
    "from collections import OrderedDict\n",
    "\n",
    "\n",
    "ratings = [\n",
    "('Old York', 3.3), ('New Age', 4.6), ('Old Gold', 3.3), ('General Foods', 4.8),\n",
    "('Belissimo', 4.5), ('CakeAndCoffee', 4.2), ('CakeOClock', 4.2), ('CakeTime', 4.1),\n",
    "('WokToWork', 4.9), ('WokAndRice', 4.9), ('Old Wine Cellar', 3.3), ('Nice Cakes', 3.9)\n",
    "]\n",
    "\n",
    "ratings.sort(key=lambda x: -x[1])\n",
    "# в пустой deque будем собирать правельную очередность имен ресторанов\n",
    "dq = deque()\n",
    "# создаем словарь у которого список со значениями\n",
    "# для дальнейшей сортировки по алфавиту\n",
    "restraunt_dict = defaultdict(list)\n",
    "for restraunt, rating in ratings:\n",
    "    restraunt_dict[rating].append(restraunt)    \n",
    "# рассмариваем значение каждого элемента и сортируем его по алфавиту\n",
    "for elem in restraunt_dict:\n",
    "    restraunt_dict[elem].sort()\n",
    "# соединяем все в одной очереди, чтобы потом все собрать в словарь    \n",
    "for elem in restraunt_dict:\n",
    "    dq.extend(restraunt_dict[elem])        \n",
    "# создаем упорядоченный словарь из исходного списка, \n",
    "# чтобы брать от туда значения рейтинга и пересоздать новый словарь\n",
    "ratings_dict = OrderedDict(ratings)\n",
    "# пустой список нужен для хранения кортежей в которых первый элемент имя,\n",
    "# а второй рейтинг\n",
    "sorted_ratings = list()\n",
    "# проходимся по сортированной очереди и берем значения из орингинального \n",
    "# словаря\n",
    "for elem in dq:\n",
    "    # в список будем поещать будущие кортежи для дальнейшего трансфера\n",
    "    correct_list = list()\n",
    "    # вытаскиваем значения\n",
    "    if elem in ratings_dict:\n",
    "        # помещаем имя\n",
    "        correct_list.append(elem)\n",
    "        # и добавляем его рейтинг\n",
    "        correct_list.append(ratings_dict[elem])\n",
    "    # отправляем готовый список в форме кортежа в общий список        \n",
    "    sorted_ratings.append(tuple(correct_list))\n",
    "    # персоздаем и подгатавливаем список для новой итерации\n",
    "    correct_list = list()    \n",
    "        \n",
    "        \n",
    "# создаю упорядоченный словарь\n",
    "cafes = OrderedDict(sorted_ratings)\n",
    "#print(cafes) "
   ]
  },
  {
   "cell_type": "markdown",
   "metadata": {},
   "source": [
    "## Задание 4.10"
   ]
  },
  {
   "cell_type": "markdown",
   "metadata": {},
   "source": [
    "Напишите функцию task_manager(tasks), которая принимает список задач tasks для нескольких серверов. Каждый элемент списка состоит из кортежа (<номер задачи>, <название сервера>, <высокий приоритет задачи>).\n",
    "\n",
    "Функция должна создавать словарь и заполнять его задачами по следующему принципу: название сервера — ключ, по которому хранится очередь задач для конкретного сервера.\n",
    "\n",
    "Если поступает задача без высокого приоритета (последний элемент кортежа — False), добавить номер задачи в конец очереди. Если приоритет высокий, добавить номер в начало.\n",
    "\n",
    "Для словаря используйте defaultdict, для очереди — deque.\n",
    "\n",
    "Функция возвращает полученный словарь с задачами."
   ]
  },
  {
   "cell_type": "code",
   "execution_count": null,
   "metadata": {},
   "outputs": [
    {
     "name": "stdout",
     "output_type": "stream",
     "text": [
      "defaultdict(<class 'collections.deque'>, {'office': deque([36871, 40690, 33850]), 'voltage': deque([41667, 35364])})\n"
     ]
    }
   ],
   "source": [
    "# получаю функционал из collections\n",
    "from collections import defaultdict\n",
    "from collections import deque\n",
    "\n",
    "\n",
    "tasks = [(36871, 'office', False),\n",
    "(40690, 'office', False),\n",
    "(35364, 'voltage', False),\n",
    "(41667, 'voltage', True),\n",
    "(33850, 'office', False)]\n",
    "\n",
    "\n",
    "# пишем текс функции\n",
    "def task_manager(tasks):\n",
    "    # создаем обьект defaultdict для последующего заполнения\n",
    "    # обьект deque может быть пополняем спереди\n",
    "    tasks_dict = defaultdict(deque)\n",
    "    # смотрим на каждый элемент\n",
    "    for number, name, priority in tasks:\n",
    "        # определяем с какой стороны добавлять\n",
    "        if priority == False:\n",
    "            # создаем постоянно обновляемую деку по назначению\n",
    "            exampe_deque = deque()\n",
    "            # пополняем\n",
    "            exampe_deque.append(number)\n",
    "            # расширяем словарь по необходимому ключу\n",
    "            tasks_dict[name].extend(exampe_deque)\n",
    "        # определяем с какой стороны добавлять\n",
    "        if priority == True:\n",
    "            exampe_deque = deque()\n",
    "            exampe_deque.append(number)\n",
    "            tasks_dict[name].extendleft(exampe_deque)\n",
    "\n",
    "    return tasks_dict\n",
    "\n",
    "print(task_manager(tasks))    \n",
    "    \n",
    "    "
   ]
  }
 ],
 "metadata": {
  "kernelspec": {
   "display_name": ".venv",
   "language": "python",
   "name": "python3"
  },
  "language_info": {
   "codemirror_mode": {
    "name": "ipython",
    "version": 3
   },
   "file_extension": ".py",
   "mimetype": "text/x-python",
   "name": "python",
   "nbconvert_exporter": "python",
   "pygments_lexer": "ipython3",
   "version": "3.12.3"
  }
 },
 "nbformat": 4,
 "nbformat_minor": 2
}
