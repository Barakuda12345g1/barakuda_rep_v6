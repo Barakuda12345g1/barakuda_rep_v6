{
 "cells": [
  {
   "cell_type": "markdown",
   "metadata": {},
   "source": [
    "## Библиотека Numpy"
   ]
  },
  {
   "cell_type": "code",
   "execution_count": null,
   "metadata": {},
   "outputs": [
    {
     "name": "stdout",
     "output_type": "stream",
     "text": [
      "65536\n",
      "32768.0\n",
      "32767.0\n"
     ]
    }
   ],
   "source": [
    "# узнаем какое количество цифор, которые могут поместиться в 16 бит\n",
    "a = 2 ** 16\n",
    "print(a)\n",
    "# узнаем нжнюю границу диапазоноа чисел\n",
    "b = a / 2\n",
    "print(b)\n",
    "# узнаем верхнюю границу числового диапозоно по формуле\n",
    "c = (b * 2)/ 2 - 1\n",
    "print(c)"
   ]
  },
  {
   "cell_type": "markdown",
   "metadata": {},
   "source": [
    "### Целочисленный тип дынных в Numpy"
   ]
  },
  {
   "cell_type": "code",
   "execution_count": null,
   "metadata": {},
   "outputs": [
    {
     "data": {
      "text/plain": [
       "iinfo(min=-9223372036854775808, max=9223372036854775807, dtype=int64)"
      ]
     },
     "execution_count": 15,
     "metadata": {},
     "output_type": "execute_result"
    }
   ],
   "source": [
    "import numpy as np\n",
    "\n",
    "# узнаем о диапозоне чисел при поимощи np.iinfo\n",
    "np.iinfo(np.int64)"
   ]
  },
  {
   "cell_type": "code",
   "execution_count": 30,
   "metadata": {},
   "outputs": [
    {
     "name": "stdout",
     "output_type": "stream",
     "text": [
      "25\n",
      "<class 'numpy.int8'>\n",
      "124\n",
      "<class 'numpy.uint8'>\n",
      "<class 'numpy.int32'>\n",
      "<class 'int'>\n",
      "<class 'numpy.uint32'>\n",
      "<class 'numpy.uint32'>\n",
      "1025\n",
      "<class 'numpy.int32'>\n"
     ]
    }
   ],
   "source": [
    "# будем использовать сокращение ипортируемой библиотеки\n",
    "import numpy as np\n",
    "\n",
    "# создаем тип данных .int8 при момощи модуля numpy\n",
    "a = np.int8(25)\n",
    "print(a)\n",
    "\n",
    "# узнаем тип данных\n",
    "print(type(a))\n",
    "\n",
    "# узнаем информацию о диапозоне чисел int8\n",
    "# при помощи метода .iinfo\n",
    "np.iinfo(np.int64)\n",
    "# видим, что выше представленный метод можно применить\n",
    "#np.iinfo(a) \n",
    "\n",
    "# смотрим как выглядит тип даных uint(8)\n",
    "b = np.uint8(124)\n",
    "print(b)\n",
    "# утверждаем, что данный тип данных uint\n",
    "print(type(b))\n",
    "# получаем краткую информацию\n",
    "np.iinfo(b)\n",
    "\n",
    "# запоминаем, что тип данных np.uint32 изменяется,если его переназначить  \n",
    "a = np.int32(1000)\n",
    "print(type(a))\n",
    "a = 256\n",
    "print(type(a))\n",
    "a = np.uint32(2500)\n",
    "print(type(a))\n",
    "# запоинаем, что арефмитические операции сохраняют тип данных np\n",
    "b = a + 25 \n",
    "# уттвержаем, что тип данных numpy остаеться при сложении с int\n",
    "print(type(b)) \n",
    "\n",
    "#  запоминаем, что тип данных numpy меняется на старший\n",
    "# при арифметической операции между этими типами данных\n",
    "a = np.int32(1000)\n",
    "b = np.int8(25)\n",
    "c = a + b\n",
    "print(c)\n",
    "print(type(c))"
   ]
  },
  {
   "cell_type": "code",
   "execution_count": null,
   "metadata": {},
   "outputs": [
    {
     "ename": "OverflowError",
     "evalue": "Python integer 260 out of bounds for int8",
     "output_type": "error",
     "traceback": [
      "\u001b[0;31m---------------------------------------------------------------------------\u001b[0m",
      "\u001b[0;31mOverflowError\u001b[0m                             Traceback (most recent call last)",
      "Cell \u001b[0;32mIn[22], line 5\u001b[0m\n\u001b[1;32m      1\u001b[0m \u001b[38;5;28;01mimport\u001b[39;00m \u001b[38;5;21;01mnumpy\u001b[39;00m \u001b[38;5;28;01mas\u001b[39;00m \u001b[38;5;21;01mnp\u001b[39;00m\n\u001b[1;32m      4\u001b[0m \u001b[38;5;66;03m# видим что,число изменяется при переполнении возожных диапозонов\u001b[39;00m\n\u001b[0;32m----> 5\u001b[0m a \u001b[38;5;241m=\u001b[39m \u001b[43mnp\u001b[49m\u001b[38;5;241;43m.\u001b[39;49m\u001b[43mint8\u001b[49m\u001b[43m(\u001b[49m\u001b[38;5;241;43m260\u001b[39;49m\u001b[43m)\u001b[49m\n\u001b[1;32m      6\u001b[0m \u001b[38;5;28mprint\u001b[39m(\u001b[38;5;28mtype\u001b[39m(a))\n\u001b[1;32m      8\u001b[0m \u001b[38;5;66;03m# видим, что при переполнении возникает ошибка  \u001b[39;00m\n",
      "\u001b[0;31mOverflowError\u001b[0m: Python integer 260 out of bounds for int8"
     ]
    }
   ],
   "source": [
    "import numpy as np\n",
    "\n",
    "\n",
    "# видим что,число изменяется при переполнении возожных диапозонов\n",
    "# a = np.int8(260)\n",
    "# print(type(a))\n",
    "\n",
    "# видим, что при переполнении возникает ошибка  \n",
    "a = np.int32(2123123123)\n",
    "b = np.int32(2116234459)\n",
    "# видим, что возникает переполнение и предупреждение\n",
    "print(a + b)\n",
    "print(np.int64(a) + np.int64(b))\n",
    "\n"
   ]
  },
  {
   "cell_type": "markdown",
   "metadata": {},
   "source": [
    "### Типы данных с плавающей точкой в numpy"
   ]
  },
  {
   "cell_type": "code",
   "execution_count": 28,
   "metadata": {},
   "outputs": [
    {
     "name": "stdout",
     "output_type": "stream",
     "text": [
      "Machine parameters for float32\n",
      "---------------------------------------------------------------\n",
      "precision =   6   resolution = 1.0000000e-06\n",
      "machep =    -23   eps =        1.1920929e-07\n",
      "negep =     -24   epsneg =     5.9604645e-08\n",
      "minexp =   -126   tiny =       1.1754944e-38\n",
      "maxexp =    128   max =        3.4028235e+38\n",
      "nexp =        8   min =        -max\n",
      "smallest_normal = 1.1754944e-38   smallest_subnormal = 1.4012985e-45\n",
      "---------------------------------------------------------------\n",
      "\n",
      "4.12\n",
      "4.13\n",
      "4.12\n",
      "4.125\n",
      "4.125\n"
     ]
    }
   ],
   "source": [
    "# обзательный импорт модуля numpy\n",
    "import numpy as np\n",
    "\n",
    "\n",
    "# узнаем краткую информацию о диапозоне и типе\n",
    "np.finfo(np.float16)\n",
    "# видим, что максимальное numpy-число имеет пямять 128 бит\n",
    "print(np.finfo(np.float32))\n",
    "#np.finfo(np.float64)\n",
    "#np.finfo(np.float128)\n",
    "\n",
    "# проверяем, действтельность того что, точность числа np.floa16 = 0.001\n",
    "print(np.float16(4.12))\n",
    "print(np.float16(4.13))\n",
    "print(np.float16(4.123))\n",
    "print(np.float16(4.124))\n",
    "print(np.float16(4.125))"
   ]
  },
  {
   "cell_type": "markdown",
   "metadata": {},
   "source": [
    "### Дополнительные типы данных в numpy"
   ]
  },
  {
   "cell_type": "code",
   "execution_count": null,
   "metadata": {},
   "outputs": [
    {
     "name": "stdout",
     "output_type": "stream",
     "text": [
      "{'bool': <class 'numpy.bool'>, 'float16': <class 'numpy.float16'>, 'float32': <class 'numpy.float32'>, 'float64': <class 'numpy.float64'>, 'longdouble': <class 'numpy.longdouble'>, 'complex64': <class 'numpy.complex64'>, 'complex128': <class 'numpy.complex128'>, 'clongdouble': <class 'numpy.clongdouble'>, 'bytes_': <class 'numpy.bytes_'>, 'str_': <class 'numpy.str_'>, 'void': <class 'numpy.void'>, 'object_': <class 'numpy.object_'>, 'datetime64': <class 'numpy.datetime64'>, 'timedelta64': <class 'numpy.timedelta64'>, 'int8': <class 'numpy.int8'>, 'byte': <class 'numpy.int8'>, 'uint8': <class 'numpy.uint8'>, 'ubyte': <class 'numpy.uint8'>, 'int16': <class 'numpy.int16'>, 'short': <class 'numpy.int16'>, 'uint16': <class 'numpy.uint16'>, 'ushort': <class 'numpy.uint16'>, 'int32': <class 'numpy.int32'>, 'intc': <class 'numpy.int32'>, 'uint32': <class 'numpy.uint32'>, 'uintc': <class 'numpy.uint32'>, 'int64': <class 'numpy.int64'>, 'long': <class 'numpy.int64'>, 'uint64': <class 'numpy.uint64'>, 'ulong': <class 'numpy.uint64'>, 'longlong': <class 'numpy.longlong'>, 'ulonglong': <class 'numpy.ulonglong'>, 'intp': <class 'numpy.int64'>, 'uintp': <class 'numpy.uint64'>, 'double': <class 'numpy.float64'>, 'cdouble': <class 'numpy.complex128'>, 'single': <class 'numpy.float32'>, 'csingle': <class 'numpy.complex64'>, 'half': <class 'numpy.float16'>, 'bool_': <class 'numpy.bool'>, 'int_': <class 'numpy.int64'>, 'uint': <class 'numpy.uint64'>, 'float': <class 'numpy.float64'>, 'complex': <class 'numpy.complex128'>, 'object': <class 'numpy.object_'>, 'bytes': <class 'numpy.bytes_'>, 'a': <class 'numpy.bytes_'>, 'int': <class 'numpy.int64'>, 'str': <class 'numpy.str_'>, 'unicode': <class 'numpy.str_'>, 'float128': <class 'numpy.longdouble'>, 'complex256': <class 'numpy.clongdouble'>}\n",
      "52\n",
      "<class 'numpy.bool'>\n",
      "<class 'numpy.bytes_'>\n",
      "<class 'numpy.clongdouble'>\n",
      "<class 'numpy.complex128'>\n",
      "<class 'numpy.complex64'>\n",
      "<class 'numpy.datetime64'>\n",
      "<class 'numpy.float16'>\n",
      "<class 'numpy.float32'>\n",
      "<class 'numpy.float64'>\n",
      "<class 'numpy.int16'>\n",
      "<class 'numpy.int32'>\n",
      "<class 'numpy.int64'>\n",
      "<class 'numpy.int8'>\n",
      "<class 'numpy.longdouble'>\n",
      "<class 'numpy.longlong'>\n",
      "<class 'numpy.object_'>\n",
      "<class 'numpy.str_'>\n",
      "<class 'numpy.timedelta64'>\n",
      "<class 'numpy.uint16'>\n",
      "<class 'numpy.uint32'>\n",
      "<class 'numpy.uint64'>\n",
      "<class 'numpy.uint8'>\n",
      "<class 'numpy.ulonglong'>\n",
      "<class 'numpy.void'>\n"
     ]
    }
   ],
   "source": [
    "# чтобы узнать сколько в модуле numpy существует типов данных\n",
    "# пишем следующий код\n",
    "print(np.sctypeDict)\n",
    "# узнае количество типов данных в текуей версс numpy\n",
    "print(len(np.sctypeDict))\n",
    "# вышлядит красиво\n",
    "print(*sorted(map(str, set(np.sctypeDict.values()))), sep='\\n') "
   ]
  },
  {
   "cell_type": "code",
   "execution_count": null,
   "metadata": {},
   "outputs": [
    {
     "name": "stdout",
     "output_type": "stream",
     "text": [
      "<class 'bool'>\n",
      "<class 'numpy.bool'>\n",
      "<class 'numpy.bool'>\n",
      "True\n",
      "True\n"
     ]
    }
   ],
   "source": [
    "# работаем с типаи данныи bool, np.bool, np.bool_\n",
    "a = True\n",
    "print(type(a))\n",
    "a = np.bool(a)\n",
    "print(type(a))\n",
    "a= np.bool_(a)\n",
    "print(type(a))\n",
    "# смотрим что и типы и сами значения равны,\n",
    "# не как в сарых версиях\n",
    "print(np.bool(True) == np.bool_(True))\n",
    "print(type(np.bool(True)) == type(np.bool_(True)))\n"
   ]
  },
  {
   "cell_type": "code",
   "execution_count": 40,
   "metadata": {},
   "outputs": [
    {
     "name": "stdout",
     "output_type": "stream",
     "text": [
      "<class 'str'>\n",
      "<class 'numpy.str_'>\n"
     ]
    }
   ],
   "source": [
    "a = 'Hello world!'\n",
    "print(type(a))\n",
    "\n",
    "# видим, что такой тип существует в старых версиях numpy\n",
    "#a = np.str(a)\n",
    "#print(type(a))\n",
    "\n",
    "# при таком написании кода все работает\n",
    "a = np.str_(a)\n",
    "print(type(a))"
   ]
  },
  {
   "cell_type": "markdown",
   "metadata": {},
   "source": [
    "## Задание 5.5"
   ]
  },
  {
   "cell_type": "markdown",
   "metadata": {},
   "source": [
    "Преобразуйте число -456 в беззнаковый целый тип данных с выделенной памятью 1 байт. Запишите полученное после преобразования число.\n",
    "\n",
    "Примечание: в версиях NumPy 2.0 и выше при попытке данного преобразования возникает исключение OverflowError. Для выполнения этого задания используйте более раннюю версию библиотеки, или подумайте, по какому принципу происходит это преобразование, и найдите ответ, используя оператор %."
   ]
  },
  {
   "cell_type": "code",
   "execution_count": 9,
   "metadata": {},
   "outputs": [
    {
     "data": {
      "text/plain": [
       "256"
      ]
     },
     "execution_count": 9,
     "metadata": {},
     "output_type": "execute_result"
    }
   ],
   "source": [
    "import numpy as np\n",
    "\n",
    "np.iinfo(np.int8)\n",
    "#print(5 % 3)\n",
    "#print(np.uint8(-456))\n",
    "#print(456 % 255)\n",
    "2 ** 8"
   ]
  },
  {
   "cell_type": "code",
   "execution_count": null,
   "metadata": {},
   "outputs": [
    {
     "ename": "OverflowError",
     "evalue": "Python integer 260 out of bounds for int8",
     "output_type": "error",
     "traceback": [
      "\u001b[0;31m---------------------------------------------------------------------------\u001b[0m",
      "\u001b[0;31mOverflowError\u001b[0m                             Traceback (most recent call last)",
      "Cell \u001b[0;32mIn[25], line 6\u001b[0m\n\u001b[1;32m      1\u001b[0m \u001b[38;5;28;01mimport\u001b[39;00m \u001b[38;5;21;01mnumpy\u001b[39;00m \u001b[38;5;28;01mas\u001b[39;00m \u001b[38;5;21;01mnp\u001b[39;00m\n\u001b[1;32m      3\u001b[0m \u001b[38;5;66;03m# a = np.uint8(-1)\u001b[39;00m\n\u001b[1;32m      4\u001b[0m \u001b[38;5;66;03m# print(a)\u001b[39;00m\n\u001b[0;32m----> 6\u001b[0m a \u001b[38;5;241m=\u001b[39m \u001b[43mnp\u001b[49m\u001b[38;5;241;43m.\u001b[39;49m\u001b[43mint8\u001b[49m\u001b[43m(\u001b[49m\u001b[38;5;241;43m260\u001b[39;49m\u001b[43m)\u001b[49m\n\u001b[1;32m      7\u001b[0m \u001b[38;5;28mprint\u001b[39m(a)\n",
      "\u001b[0;31mOverflowError\u001b[0m: Python integer 260 out of bounds for int8"
     ]
    }
   ],
   "source": [
    "import numpy as np\n",
    "\n",
    "# узнаем, что с шагом в 256 остается остаток, \n",
    "# а если число миносовое, то считается как диапозон \n",
    "# a = np.uint8(-1)\n",
    "# print(a)\n",
    "\n",
    "# a = np.int8(260)\n",
    "# print(a)\n",
    "\n"
   ]
  }
 ],
 "metadata": {
  "kernelspec": {
   "display_name": ".venv",
   "language": "python",
   "name": "python3"
  },
  "language_info": {
   "codemirror_mode": {
    "name": "ipython",
    "version": 3
   },
   "file_extension": ".py",
   "mimetype": "text/x-python",
   "name": "python",
   "nbconvert_exporter": "python",
   "pygments_lexer": "ipython3",
   "version": "3.12.3"
  }
 },
 "nbformat": 4,
 "nbformat_minor": 2
}
