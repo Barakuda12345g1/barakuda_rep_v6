{
 "cells": [
  {
   "cell_type": "markdown",
   "id": "6998bbc5",
   "metadata": {},
   "source": [
    "## Масивы в numpy"
   ]
  },
  {
   "cell_type": "markdown",
   "id": "bbffdc1b",
   "metadata": {},
   "source": [
    "### Создание масива из списка"
   ]
  },
  {
   "cell_type": "code",
   "execution_count": 1,
   "id": "7b7641c5",
   "metadata": {},
   "outputs": [
    {
     "data": {
      "text/plain": [
       "array([1, 2, 3, 4, 5, 6])"
      ]
     },
     "execution_count": 1,
     "metadata": {},
     "output_type": "execute_result"
    }
   ],
   "source": [
    "# Ипользуем библиотеку numpy\n",
    "import numpy as np\n",
    "# создаем массив при помощи np.array()\n",
    "arr = np.array([1, 2, 3, 4, 5, 6])\n",
    "# печатаем массив\n",
    "arr"
   ]
  },
  {
   "cell_type": "code",
   "execution_count": 6,
   "id": "6091ec3b",
   "metadata": {},
   "outputs": [
    {
     "name": "stdout",
     "output_type": "stream",
     "text": [
      "<class 'numpy.ndarray'>\n"
     ]
    }
   ],
   "source": [
    "# функция возвращает обьект типа ndarray, n-dimensional array\n",
    "print(type(arr))"
   ]
  },
  {
   "cell_type": "code",
   "execution_count": null,
   "id": "ca005396",
   "metadata": {},
   "outputs": [
    {
     "data": {
      "text/plain": [
       "array([[  1,   2,   3,   4,   5],\n",
       "       [ 10,  11,  12,  13,  14],\n",
       "       [111, 112, 113, 114, 115]])"
      ]
     },
     "execution_count": 9,
     "metadata": {},
     "output_type": "execute_result"
    }
   ],
   "source": [
    "# создаем двумерный массив\n",
    "nd_arr = np.array([[1, 2, 3, 4, 5],\n",
    "                  [10, 11, 12, 13, 14],\n",
    "                  [111, 112,113,114,115]\n",
    "                  ])\n",
    "nd_arr"
   ]
  },
  {
   "cell_type": "markdown",
   "id": "a8cef486",
   "metadata": {},
   "source": [
    "### Типы данных в массиве"
   ]
  },
  {
   "cell_type": "code",
   "execution_count": 5,
   "id": "026fe186",
   "metadata": {},
   "outputs": [
    {
     "data": {
      "text/plain": [
       "dtype('int64')"
      ]
     },
     "execution_count": 5,
     "metadata": {},
     "output_type": "execute_result"
    }
   ],
   "source": [
    "# проверяем какой тип данных модуль numpy создает по умолчанию\n",
    "arr = np.array([1, 2, 3, 4, 5])\n",
    "arr.dtype"
   ]
  },
  {
   "cell_type": "code",
   "execution_count": null,
   "id": "e8ed4307",
   "metadata": {},
   "outputs": [
    {
     "data": {
      "text/plain": [
       "array([1, 2, 3, 4, 5], dtype=int8)"
      ]
     },
     "execution_count": 6,
     "metadata": {},
     "output_type": "execute_result"
    }
   ],
   "source": [
    "# задаем тип данных массива по умолчанию\n",
    "arr = np.array([1, 2, 3, 4, 5], dtype=np.int8)\n",
    "# видим что, без вункции print выводится наш массив\n",
    "arr"
   ]
  },
  {
   "cell_type": "code",
   "execution_count": null,
   "id": "c339975d",
   "metadata": {},
   "outputs": [
    {
     "name": "stderr",
     "output_type": "stream",
     "text": [
      "/tmp/ipykernel_4882/950604027.py:1: DeprecationWarning: NumPy will stop allowing conversion of out-of-bound Python integers to integer arrays.  The conversion of 1500 to int8 will fail in the future.\n",
      "For the old behavior, usually:\n",
      "    np.array(value).astype(dtype)\n",
      "will give the desired result (the cast overflows).\n",
      "  arr[2] = 1500\n"
     ]
    },
    {
     "data": {
      "text/plain": [
       "array([  1,   2, -36,   4,   5], dtype=int8)"
      ]
     },
     "execution_count": 7,
     "metadata": {},
     "output_type": "execute_result"
    }
   ],
   "source": [
    "# результат будет с ошибкой, потому что мы выходим за диапозон\n",
    "# допустимых значений\n",
    "arr[2] = 1500\n",
    "arr"
   ]
  },
  {
   "cell_type": "code",
   "execution_count": null,
   "id": "de81e80a",
   "metadata": {},
   "outputs": [
    {
     "data": {
      "text/plain": [
       "array([  1,   2, 125,   4,   5], dtype=int8)"
      ]
     },
     "execution_count": 8,
     "metadata": {},
     "output_type": "execute_result"
    }
   ],
   "source": [
    "# для чисел типа float необходимо сначала привести к правельному типу данных\n",
    "arr[2] = 125.2\n",
    "arr"
   ]
  },
  {
   "cell_type": "code",
   "execution_count": 8,
   "id": "297fc99f",
   "metadata": {},
   "outputs": [
    {
     "data": {
      "text/plain": [
       "array([ 1,  2, 29,  4,  5,  6])"
      ]
     },
     "execution_count": 8,
     "metadata": {},
     "output_type": "execute_result"
    }
   ],
   "source": [
    "# строка с цифромым значением будет приведена к заданному типу данных int8\n",
    "arr[2] = '29'\n",
    "arr"
   ]
  },
  {
   "cell_type": "code",
   "execution_count": 7,
   "id": "7c3acbe1",
   "metadata": {},
   "outputs": [
    {
     "ename": "ValueError",
     "evalue": "invalid literal for int() with base 10: 'boss'",
     "output_type": "error",
     "traceback": [
      "\u001b[0;31m---------------------------------------------------------------------------\u001b[0m",
      "\u001b[0;31mValueError\u001b[0m                                Traceback (most recent call last)",
      "Cell \u001b[0;32mIn[7], line 2\u001b[0m\n\u001b[1;32m      1\u001b[0m \u001b[38;5;66;03m# видим, что если строка не цифра, то будет ошибка\u001b[39;00m\n\u001b[0;32m----> 2\u001b[0m \u001b[43marr\u001b[49m\u001b[43m[\u001b[49m\u001b[38;5;241;43m2\u001b[39;49m\u001b[43m]\u001b[49m \u001b[38;5;241m=\u001b[39m \u001b[38;5;124m'\u001b[39m\u001b[38;5;124mboss\u001b[39m\u001b[38;5;124m'\u001b[39m\n\u001b[1;32m      3\u001b[0m arr\n",
      "\u001b[0;31mValueError\u001b[0m: invalid literal for int() with base 10: 'boss'"
     ]
    }
   ],
   "source": [
    "# видим, что если строка не цифра, то будет ошибка\n",
    "arr[2] = 'boss'\n",
    "arr"
   ]
  },
  {
   "cell_type": "code",
   "execution_count": null,
   "id": "16241fcd",
   "metadata": {},
   "outputs": [
    {
     "data": {
      "text/plain": [
       "array([ 1.,  2., 29.,  4.,  5.,  6.], dtype=float128)"
      ]
     },
     "execution_count": 9,
     "metadata": {},
     "output_type": "execute_result"
    }
   ],
   "source": [
    "# меняем тип данных на числа с плавающей точкой\n",
    "arr = np.float128(arr)\n",
    "arr"
   ]
  },
  {
   "cell_type": "code",
   "execution_count": null,
   "id": "cbacbbf9",
   "metadata": {},
   "outputs": [
    {
     "name": "stdout",
     "output_type": "stream",
     "text": [
      "[13456  1845 -4563   100  2000]\n"
     ]
    },
    {
     "data": {
      "text/plain": [
       "array([-112,   53,   45,  100,  -48], dtype=int8)"
      ]
     },
     "execution_count": 12,
     "metadata": {},
     "output_type": "execute_result"
    }
   ],
   "source": [
    "# видим что в тип данных с меньшей емкостью не будут храниться числа,\n",
    "# которые требуют больше памяти\n",
    "arr = np.array([13456, 1845, -4563, 100, 2000], dtype=np.int32)\n",
    "\n",
    "print(arr)\n",
    "arr = np.int8(arr)\n",
    "# все числа кроме ста записались неверно\n",
    "arr"
   ]
  },
  {
   "cell_type": "markdown",
   "id": "00352cfb",
   "metadata": {},
   "source": [
    "### Свойство numpy-массивов"
   ]
  },
  {
   "cell_type": "code",
   "execution_count": null,
   "id": "99305bce",
   "metadata": {},
   "outputs": [
    {
     "data": {
      "text/plain": [
       "array([1, 2, 3, 4, 5], dtype=int8)"
      ]
     },
     "execution_count": 15,
     "metadata": {},
     "output_type": "execute_result"
    }
   ],
   "source": [
    "# сдоздаем одномерный и двухмерный массив для дальнейшей работы\n",
    "arr = np.array([1, 2, 3, 4, 5], dtype=np.int8)\n",
    "nd_arr = np.array([[14, 26, 19],\n",
    "                  [45, 67,12], \n",
    "                  [98, 78, 56]\n",
    "                  ], dtype=np.int16)"
   ]
  },
  {
   "cell_type": "markdown",
   "id": "c0ba0e39",
   "metadata": {},
   "source": [
    "#### атрибут .ndim"
   ]
  },
  {
   "cell_type": "code",
   "execution_count": 18,
   "id": "9d0cdbdf",
   "metadata": {},
   "outputs": [
    {
     "name": "stdout",
     "output_type": "stream",
     "text": [
      "1\n"
     ]
    },
    {
     "data": {
      "text/plain": [
       "2"
      ]
     },
     "execution_count": 18,
     "metadata": {},
     "output_type": "execute_result"
    }
   ],
   "source": [
    "# запоминаем, что с помощью .ndim можно узнать размернось массива\n",
    "print(arr.ndim)\n",
    "nd_arr.ndim"
   ]
  },
  {
   "cell_type": "markdown",
   "id": "d606506b",
   "metadata": {},
   "source": [
    "#### атрибут .size"
   ]
  },
  {
   "cell_type": "code",
   "execution_count": 20,
   "id": "6c9dd95e",
   "metadata": {},
   "outputs": [
    {
     "name": "stdout",
     "output_type": "stream",
     "text": [
      "5\n"
     ]
    },
    {
     "data": {
      "text/plain": [
       "9"
      ]
     },
     "execution_count": 20,
     "metadata": {},
     "output_type": "execute_result"
    }
   ],
   "source": [
    "# узнаем информацмю об общем количестве элементов\n",
    "print(arr.size)\n",
    "nd_arr.size\n"
   ]
  },
  {
   "cell_type": "markdown",
   "id": "797006e2",
   "metadata": {},
   "source": [
    "#### атрибут .shape"
   ]
  },
  {
   "cell_type": "code",
   "execution_count": 21,
   "id": "8a3743fe",
   "metadata": {},
   "outputs": [
    {
     "name": "stdout",
     "output_type": "stream",
     "text": [
      "(5,)\n"
     ]
    },
    {
     "data": {
      "text/plain": [
       "(3, 3)"
      ]
     },
     "execution_count": 21,
     "metadata": {},
     "output_type": "execute_result"
    }
   ],
   "source": [
    "# смотрим как выводиться форма numpy-массива в виде кортежа\n",
    "print(arr.shape)\n",
    "nd_arr.shape"
   ]
  },
  {
   "cell_type": "markdown",
   "id": "2864a8ca",
   "metadata": {},
   "source": [
    "#### атрибут .itemsize"
   ]
  },
  {
   "cell_type": "code",
   "execution_count": null,
   "id": "48134878",
   "metadata": {},
   "outputs": [
    {
     "name": "stdout",
     "output_type": "stream",
     "text": [
      "1\n"
     ]
    },
    {
     "data": {
      "text/plain": [
       "2"
      ]
     },
     "execution_count": 22,
     "metadata": {},
     "output_type": "execute_result"
    }
   ],
   "source": [
    "# узнаем количество занимаемого места в памяти в байтах\n",
    "print(arr.itemsize) \n",
    "nd_arr.itemsize"
   ]
  },
  {
   "cell_type": "markdown",
   "id": "2e8c5089",
   "metadata": {},
   "source": [
    "### Заполнение новых массивов"
   ]
  },
  {
   "cell_type": "markdown",
   "id": "b37f736f",
   "metadata": {},
   "source": [
    "#### np.zeros()"
   ]
  },
  {
   "cell_type": "code",
   "execution_count": 25,
   "id": "54966978",
   "metadata": {},
   "outputs": [
    {
     "data": {
      "text/plain": [
       "array([0., 0., 0., 0., 0.])"
      ]
     },
     "execution_count": 25,
     "metadata": {},
     "output_type": "execute_result"
    }
   ],
   "source": [
    "# создаем массив из нулей, заданной формы, для дальнейшего заполнения\n",
    "zerose_1d = np.zeros(5)\n",
    "zerose_1d"
   ]
  },
  {
   "cell_type": "code",
   "execution_count": null,
   "id": "ec7d7467",
   "metadata": {},
   "outputs": [
    {
     "name": "stdout",
     "output_type": "stream",
     "text": [
      "(3, 4, 3)\n"
     ]
    }
   ],
   "source": [
    "# создаем трехмерный numpy-массив с заданной формы и типом\n",
    "zerose_3d = np.zeros((3, 4, 3), dtype=np.float32)\n",
    "print(zerose_3d.shape) "
   ]
  },
  {
   "cell_type": "markdown",
   "id": "677d51d6",
   "metadata": {},
   "source": [
    "#### np.arrange([start,], stop, [step,], dtype=None)"
   ]
  },
  {
   "cell_type": "code",
   "execution_count": 38,
   "id": "bfbbf642",
   "metadata": {},
   "outputs": [
    {
     "name": "stdout",
     "output_type": "stream",
     "text": [
      "[0 1 2 3 4]\n",
      "[2.5 3.5 4.5]\n",
      "[2.5 3.  3.5 4.  4.5]\n"
     ]
    },
    {
     "data": {
      "text/plain": [
       "array([2.5, 3. , 3.5, 4. , 4.5], dtype=float16)"
      ]
     },
     "execution_count": 38,
     "metadata": {},
     "output_type": "execute_result"
    }
   ],
   "source": [
    "# видим, что функция .arrange может выводить список чисел с типом данных float\n",
    "print(np.arange(5))\n",
    "print(np.arange(2.5, 5))\n",
    "# функция .arange может передивигаться с шагом 0.5\n",
    "print(np.arange(2.5, 5, 0.5))\n",
    "# удостоверились, что np.arange создает массив с типом данных float\n",
    "np.arange(2.5, 5, 0.5, dtype=np.float16)"
   ]
  },
  {
   "cell_type": "markdown",
   "id": "1db66851",
   "metadata": {},
   "source": [
    "#### np.linspace(start, stop, num=50, endpoint=True, retstep=True, dtype=None)"
   ]
  },
  {
   "cell_type": "code",
   "execution_count": null,
   "id": "0169696b",
   "metadata": {},
   "outputs": [
    {
     "data": {
      "text/plain": [
       "array([1.        , 1.11111111, 1.22222222, 1.33333333, 1.44444444,\n",
       "       1.55555556, 1.66666667, 1.77777778, 1.88888889, 2.        ])"
      ]
     },
     "execution_count": 39,
     "metadata": {},
     "output_type": "execute_result"
    }
   ],
   "source": [
    "# смотрим как работает функция linspace ,которая более предпочтетельнее\n",
    "# при работе с дробными числами\n",
    "arr = np.linspace(1, 2, 10)\n",
    "arr"
   ]
  },
  {
   "cell_type": "code",
   "execution_count": 40,
   "id": "a3bb5fae",
   "metadata": {},
   "outputs": [
    {
     "data": {
      "text/plain": [
       "array([1. , 1.1, 1.2, 1.3, 1.4, 1.5, 1.6, 1.7, 1.8, 1.9])"
      ]
     },
     "execution_count": 40,
     "metadata": {},
     "output_type": "execute_result"
    }
   ],
   "source": [
    "# включаем последнююю цивру в массив\n",
    "arr = np.linspace(1, 2, 10, endpoint=False)\n",
    "arr"
   ]
  },
  {
   "cell_type": "code",
   "execution_count": 8,
   "id": "692ef752",
   "metadata": {},
   "outputs": [
    {
     "name": "stdout",
     "output_type": "stream",
     "text": [
      "0.1111111111111111\n"
     ]
    }
   ],
   "source": [
    "# Узнаем как работает возвращаемость размера шага массива\n",
    "arr, step = np.linspace(1, 2, 10, endpoint=True, retstep=True)\n",
    "# запоминаем, что вторым значением выводиться шаг масива, при redstep=True\n",
    "print(step)"
   ]
  },
  {
   "cell_type": "code",
   "execution_count": 9,
   "id": "b0a16848",
   "metadata": {},
   "outputs": [
    {
     "name": "stdout",
     "output_type": "stream",
     "text": [
      "0.1\n"
     ]
    }
   ],
   "source": [
    "# смотрим, что шаг становиться другим если поменять значение аргумент endpoint\n",
    "arr, step = np.linspace(1, 2, 10, endpoint=False, retstep=True)\n",
    "print(step)"
   ]
  },
  {
   "cell_type": "code",
   "execution_count": 14,
   "id": "ca83ec36",
   "metadata": {},
   "outputs": [
    {
     "name": "stdout",
     "output_type": "stream",
     "text": [
      "0.46\n"
     ]
    }
   ],
   "source": [
    "# узнаем какой шаг в диапозоне от -6 до 21, состоящего из 60 элементов\n",
    "arr_task, step = np.linspace(-6, 21, 60, endpoint=True, retstep=True)\n",
    "print(round(step, 2))"
   ]
  },
  {
   "cell_type": "code",
   "execution_count": 15,
   "id": "f1ab3a1d",
   "metadata": {},
   "outputs": [
    {
     "name": "stdout",
     "output_type": "stream",
     "text": [
      "0.45\n"
     ]
    }
   ],
   "source": [
    "# узнаем какой шаг в диапозоне от -6 до 21, где число 21 не вкючен в массив \n",
    "arr_task_second, step = np.linspace(-6, 21, 60, endpoint=False, retstep=True)\n",
    "print(round(step, 2))"
   ]
  }
 ],
 "metadata": {
  "kernelspec": {
   "display_name": "Python 3",
   "language": "python",
   "name": "python3"
  },
  "language_info": {
   "codemirror_mode": {
    "name": "ipython",
    "version": 3
   },
   "file_extension": ".py",
   "mimetype": "text/x-python",
   "name": "python",
   "nbconvert_exporter": "python",
   "pygments_lexer": "ipython3",
   "version": "3.12.3"
  }
 },
 "nbformat": 4,
 "nbformat_minor": 5
}
