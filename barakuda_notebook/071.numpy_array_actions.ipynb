{
 "cells": [
  {
   "cell_type": "markdown",
   "id": "3c6816b5",
   "metadata": {},
   "source": [
    "## Действия с массивами\n"
   ]
  },
  {
   "cell_type": "markdown",
   "id": "15965de2",
   "metadata": {},
   "source": [
    "### Изменения формы массива"
   ]
  },
  {
   "cell_type": "code",
   "execution_count": 11,
   "id": "c1839a0e",
   "metadata": {},
   "outputs": [
    {
     "data": {
      "text/plain": [
       "array([0, 1, 2, 3, 4, 5, 6, 7])"
      ]
     },
     "execution_count": 11,
     "metadata": {},
     "output_type": "execute_result"
    }
   ],
   "source": [
    "# обязательный импорт модуля numpy\n",
    "import numpy as np\n",
    "# создаем массив\n",
    "arr = np.arange(8)\n",
    "# проверяем результат\n",
    "arr\n"
   ]
  },
  {
   "cell_type": "markdown",
   "id": "3703a299",
   "metadata": {},
   "source": [
    "#### .shape()"
   ]
  },
  {
   "cell_type": "code",
   "execution_count": 3,
   "id": "f790880c",
   "metadata": {},
   "outputs": [
    {
     "data": {
      "text/plain": [
       "array([[0, 1, 2, 3],\n",
       "       [4, 5, 6, 7]])"
      ]
     },
     "execution_count": 3,
     "metadata": {},
     "output_type": "execute_result"
    }
   ],
   "source": [
    "# изменяем форму массива присвоив функции .shape желаемую форму\n",
    "arr.shape = (2, 4)\n",
    "# проверяем как изменилась форма\n",
    "arr"
   ]
  },
  {
   "cell_type": "markdown",
   "id": "65a531a1",
   "metadata": {},
   "source": [
    "#### .reshape()"
   ]
  },
  {
   "cell_type": "code",
   "execution_count": 6,
   "id": "f10e8fa6",
   "metadata": {},
   "outputs": [
    {
     "name": "stdout",
     "output_type": "stream",
     "text": [
      "[0 1 2 3 4 5 6 7]\n"
     ]
    },
    {
     "data": {
      "text/plain": [
       "array([[0, 1, 2, 3],\n",
       "       [4, 5, 6, 7]])"
      ]
     },
     "execution_count": 6,
     "metadata": {},
     "output_type": "execute_result"
    }
   ],
   "source": [
    "# при помощи данной записи мы можем сохранить в распоряжении массив до \n",
    "# изменеия и новый массив\n",
    "arr = np.arange(8)\n",
    "print(arr)\n",
    "new_arr = arr.reshape(2, 4)\n",
    "new_arr\n"
   ]
  },
  {
   "cell_type": "code",
   "execution_count": 8,
   "id": "cdd5e9b8",
   "metadata": {},
   "outputs": [
    {
     "data": {
      "text/plain": [
       "array([[0, 2, 4, 6],\n",
       "       [1, 3, 5, 7]])"
      ]
     },
     "execution_count": 8,
     "metadata": {},
     "output_type": "execute_result"
    }
   ],
   "source": [
    "# изменяем исходный массив по столбцам при помощи атрибута 'F'\n",
    "new_arr = arr.reshape(2, 4, order='F')\n",
    "new_arr"
   ]
  },
  {
   "cell_type": "markdown",
   "id": "89fe5bd6",
   "metadata": {},
   "source": [
    "#### .transpose()"
   ]
  },
  {
   "cell_type": "code",
   "execution_count": 13,
   "id": "2b8c37d0",
   "metadata": {},
   "outputs": [
    {
     "data": {
      "text/plain": [
       "array([[0, 1, 2, 3],\n",
       "       [4, 5, 6, 7]])"
      ]
     },
     "execution_count": 13,
     "metadata": {},
     "output_type": "execute_result"
    }
   ],
   "source": [
    "# создаем массив\n",
    "arr = np.arange(8)\n",
    "arr\n",
    "# тренирумеся в создании двумерного массива и одномерного\n",
    "arr.shape = (2, 4)\n",
    "arr\n"
   ]
  },
  {
   "cell_type": "code",
   "execution_count": null,
   "id": "99caffcf",
   "metadata": {},
   "outputs": [
    {
     "data": {
      "text/plain": [
       "array([[0, 4],\n",
       "       [1, 5],\n",
       "       [2, 6],\n",
       "       [3, 7]])"
      ]
     },
     "execution_count": 14,
     "metadata": {},
     "output_type": "execute_result"
    }
   ],
   "source": [
    "# создаем массив в котором строки и столбцы поменялись местами\n",
    "arr_trans = arr.transpose()\n",
    "arr_trans"
   ]
  },
  {
   "cell_type": "code",
   "execution_count": 16,
   "id": "9f08b7da",
   "metadata": {},
   "outputs": [
    {
     "name": "stdout",
     "output_type": "stream",
     "text": [
      "(3,)\n",
      "(3,)\n"
     ]
    }
   ],
   "source": [
    "# транспонирование ономерного массива не происходит\n",
    "arr = np.arange(3)\n",
    "print(arr.shape)\n",
    "arr_trans = arr.transpose()\n",
    "print(arr_trans.shape)"
   ]
  },
  {
   "cell_type": "markdown",
   "id": "57b03424",
   "metadata": {},
   "source": [
    "### Индексы и  срезы в массивах"
   ]
  },
  {
   "cell_type": "code",
   "execution_count": 58,
   "id": "6ee90281",
   "metadata": {},
   "outputs": [
    {
     "name": "stdout",
     "output_type": "stream",
     "text": [
      "1.4\n",
      "[1.4 1.6]\n",
      "[2.  1.8 1.6 1.4 1.2 1. ]\n"
     ]
    }
   ],
   "source": [
    "# создаем массив для взятия элемента по индексу\n",
    "arr = np.linspace(1, 2, 6)\n",
    "arr\n",
    "# берем элемент по индексу \n",
    "print(arr[2])\n",
    "# берем срез массива\n",
    "print(arr[2:4])\n",
    "# печатаем массив наоборот\n",
    "print(arr[::-1])"
   ]
  },
  {
   "cell_type": "code",
   "execution_count": 29,
   "id": "0d829a25",
   "metadata": {},
   "outputs": [
    {
     "data": {
      "text/plain": [
       "array([[0. , 0.5, 1. , 1.5],\n",
       "       [2. , 2.5, 3. , 3.5],\n",
       "       [4. , 4.5, 5. , 5.5]])"
      ]
     },
     "execution_count": 29,
     "metadata": {},
     "output_type": "execute_result"
    }
   ],
   "source": [
    "# создаем двумерный массив из одномерного\n",
    "arr_new = np.linspace(0, 6, 12, endpoint=False).reshape(3, 4)\n",
    "arr_new "
   ]
  },
  {
   "cell_type": "code",
   "execution_count": 33,
   "id": "ab02a6d9",
   "metadata": {},
   "outputs": [
    {
     "name": "stdout",
     "output_type": "stream",
     "text": [
      "3.0\n",
      "3.0\n",
      "[1.5 3.5]\n",
      "[[3.  3.5]\n",
      " [5.  5.5]]\n",
      "[[1.  1.5]\n",
      " [3.  3.5]\n",
      " [5.  5.5]]\n",
      "[[0.  0.5 1.  1.5]\n",
      " [2.  2.5 3.  3.5]]\n"
     ]
    }
   ],
   "source": [
    "# такая запись помогает взять элемент как и в случае со списком из списков\n",
    "print(arr_new[1][2])\n",
    "# numpy позволяет брать элементы более красивым способом\n",
    "print(arr_new[1, 2])\n",
    "# в получении элементов можно использовать срезы\n",
    "print(arr_new[:2, 3])\n",
    "# в получении элементов по индексу можно использовать срезы\n",
    "print(arr_new[1:, 2:4])\n",
    "# так мы берем срезы элементов двумерного массива\n",
    "print(arr_new[:, 2:4])\n",
    "# так мы получаем все элементы двумерного массива целиком\n",
    "print(arr_new[:2])"
   ]
  },
  {
   "cell_type": "code",
   "execution_count": 23,
   "id": "c9ee5635",
   "metadata": {},
   "outputs": [
    {
     "name": "stdout",
     "output_type": "stream",
     "text": [
      "10\n"
     ]
    }
   ],
   "source": [
    "arr = np.linspace(1, 7, 10)\n",
    "print(len(arr))"
   ]
  },
  {
   "cell_type": "markdown",
   "id": "4ed946b9",
   "metadata": {},
   "source": []
  },
  {
   "cell_type": "code",
   "execution_count": 18,
   "id": "ccad2de4",
   "metadata": {},
   "outputs": [
    {
     "name": "stdout",
     "output_type": "stream",
     "text": [
      "30305\n",
      "-32037\n",
      "[13240  7994 32592 20149 13754 11795  -564]\n",
      "\n",
      "[-17182  15790  25397  11795  12578    -47]\n",
      "\n",
      "[[-1297 -4593  6451]\n",
      " [28655 -6012 21762]\n",
      " [32592 20149 13754]]\n",
      "\n",
      "[-32037  29943   -564   8225   7181 -18049]\n",
      "\n",
      "[[-13586  25936  13348  13240 -21725 -16841]\n",
      " [ 15203 -30968  28049   7994  -8681 -25392]\n",
      " [ 28445  -1297  28655  32592  30305 -17278]\n",
      " [-27117  -4593  -6012  20149  22260  11740]\n",
      " [ -1781   6451  21762  13754 -17918   5916]\n",
      " [-17182  15790  25397  11795  12578    -47]\n",
      " [-18049   7181   8225   -564  29943 -32037]]\n"
     ]
    }
   ],
   "source": [
    "# Введите свое решение ниже\n",
    "import numpy as np\n",
    "\n",
    "mystery = np.array([[-13586,  15203,  28445, -27117,  -1781, -17182, -18049],\n",
    "       [ 25936, -30968,  -1297,  -4593,   6451,  15790,   7181],\n",
    "       [ 13348,  28049,  28655,  -6012,  21762,  25397,   8225],\n",
    "       [ 13240,   7994,  32592,  20149,  13754,  11795,   -564],\n",
    "       [-21725,  -8681,  30305,  22260, -17918,  12578,  29943],\n",
    "       [-16841, -25392, -17278,  11740,   5916,    -47, -32037]],\n",
    "      dtype=np.int16)\n",
    "\n",
    "# сохраняем элемент из пятой строки и третьего столбца\n",
    "elem_5_3 = mystery[4, 2]\n",
    "print(elem_5_3)\n",
    "# сохраняем элемент из последней строки последнего элемента\n",
    "last = mystery[len(mystery) - 1, len(mystery[0])- 1]\n",
    "print(last)\n",
    "# выделяем четветую строку\n",
    "line_4 = mystery[3]\n",
    "print(line_4)\n",
    "print()\n",
    "# выделяем предпоследний столбец\n",
    "col_2 = mystery[:, len(mystery[0]) - 2]\n",
    "print(col_2)\n",
    "print()\n",
    "# из строк 2-4 получаем столбцы 3-5\n",
    "part = mystery[1:4, 2:5]\n",
    "print(part)\n",
    "print()\n",
    "# получаем последний столбец перевернутым\n",
    "rev = mystery[:len(mystery), len(mystery[0]) - 1]\n",
    "rev = rev[::-1]\n",
    "print(rev)\n",
    "print()\n",
    "# транспонируем массив\n",
    "trans = mystery.transpose()\n",
    "print(trans)"
   ]
  },
  {
   "cell_type": "markdown",
   "id": "f3e78b32",
   "metadata": {},
   "source": [
    "### Сортировка одномерных массивов"
   ]
  },
  {
   "cell_type": "code",
   "execution_count": 21,
   "id": "8785b3d8",
   "metadata": {},
   "outputs": [
    {
     "name": "stdout",
     "output_type": "stream",
     "text": [
      "[8 7 6 5 4 3 2 1]\n",
      "[1 2 3 4 5 6 7 8]\n"
     ]
    }
   ],
   "source": [
    "# создаю одномерный массив для дальнейшей обработки\n",
    "arr = np.array([8, 7, 6, 5, 4, 3, 2, 1])\n",
    "# складываем отсортированный массив в переменную\n",
    "new_arr = np.sort(arr)\n",
    "print(arr)\n",
    "print(new_arr)\n"
   ]
  },
  {
   "cell_type": "code",
   "execution_count": 24,
   "id": "e86fe4ee",
   "metadata": {},
   "outputs": [
    {
     "name": "stdout",
     "output_type": "stream",
     "text": [
      "None\n",
      "[1 2 3 4 5 6 7 8]\n"
     ]
    }
   ],
   "source": [
    "# создаю массив для того, чтбы покзать что можно сортировать еще одним способом\n",
    "arr = np.array([8, 7, 6, 5, 4, 3, 2, 1])\n",
    "# при такой записи возвращается обьект типа None\n",
    "print(arr.sort())\n",
    "# видим, что сама функция возвращается осортиррованной\n",
    "print(arr)"
   ]
  },
  {
   "cell_type": "markdown",
   "id": "b06bc24a",
   "metadata": {},
   "source": [
    "### Работа с пропущенными двнными"
   ]
  },
  {
   "cell_type": "code",
   "execution_count": 12,
   "id": "92638c49",
   "metadata": {},
   "outputs": [
    {
     "name": "stderr",
     "output_type": "stream",
     "text": [
      "/tmp/ipykernel_5944/3237191913.py:4: RuntimeWarning: invalid value encountered in sqrt\n",
      "  roots = np.sqrt(data)\n"
     ]
    },
    {
     "data": {
      "text/plain": [
       "array([2.        , 3.        ,        nan, 3.16227766])"
      ]
     },
     "execution_count": 12,
     "metadata": {},
     "output_type": "execute_result"
    }
   ],
   "source": [
    "# создадим массив и посмотрим как обрабатывать пропущенные данные\n",
    "data = np.array([4, 9, -4, 10])\n",
    "# узнаем способности функции np.sqrt\n",
    "roots = np.sqrt(data)\n",
    "# видим, что в выводе корень из -4 является обьекту nan\n",
    "roots"
   ]
  },
  {
   "cell_type": "code",
   "execution_count": 6,
   "id": "b570b66d",
   "metadata": {},
   "outputs": [
    {
     "name": "stdout",
     "output_type": "stream",
     "text": [
      "<class 'NoneType'>\n",
      "<class 'float'>\n"
     ]
    }
   ],
   "source": [
    "# вспоминаем, что обьект None, это обьект типа Nonetype,\n",
    "# а обьект nan - это отельный представитель класса float\n",
    "print(type(None))\n",
    "print(type(np.nan))"
   ]
  },
  {
   "cell_type": "code",
   "execution_count": 10,
   "id": "3662a823",
   "metadata": {},
   "outputs": [
    {
     "name": "stdout",
     "output_type": "stream",
     "text": [
      "True\n",
      "False\n",
      "True\n",
      "True\n",
      "False\n"
     ]
    }
   ],
   "source": [
    "# запоминаем, что обьекты None могут быть равны друг другу, а \n",
    "# обьекты np.nan нет\n",
    "print(None == None)\n",
    "print(np.nan == np.nan)\n",
    "# хотя при операторе is обькеты np.nan равны\n",
    "print(None is None)\n",
    "print(np.nan is np.nan)\n",
    "print(None is np.nan)"
   ]
  },
  {
   "cell_type": "code",
   "execution_count": null,
   "id": "c7f6728b",
   "metadata": {},
   "outputs": [
    {
     "data": {
      "text/plain": [
       "nan"
      ]
     },
     "execution_count": 12,
     "metadata": {},
     "output_type": "execute_result"
    }
   ],
   "source": [
    "# видим, что расчет не полуиться так как присутствует обьект np.nan\n",
    "sum(roots)"
   ]
  },
  {
   "cell_type": "markdown",
   "id": "c4732c4f",
   "metadata": {},
   "source": [
    "#### np.isnan(<массив>)"
   ]
  },
  {
   "cell_type": "code",
   "execution_count": 16,
   "id": "a4c58d95",
   "metadata": {},
   "outputs": [
    {
     "data": {
      "text/plain": [
       "array([False, False,  True, False])"
      ]
     },
     "execution_count": 16,
     "metadata": {},
     "output_type": "execute_result"
    }
   ],
   "source": [
    "# получаем массив из булевых значение в которых булевый обьект True \n",
    "# является обьектом типа np.nan\n",
    "np.isnan(roots)"
   ]
  },
  {
   "cell_type": "code",
   "execution_count": 7,
   "id": "06088d01",
   "metadata": {},
   "outputs": [
    {
     "data": {
      "text/plain": [
       "array([nan])"
      ]
     },
     "execution_count": 7,
     "metadata": {},
     "output_type": "execute_result"
    }
   ],
   "source": [
    "# выводим обьект типа np.nan для дальнейшего замещения на ноль\n",
    "roots[np.isnan(roots)]"
   ]
  },
  {
   "cell_type": "code",
   "execution_count": 5,
   "id": "bbb0dd04",
   "metadata": {},
   "outputs": [
    {
     "data": {
      "text/plain": [
       "array([2.        , 3.        , 0.        , 3.16227766])"
      ]
     },
     "execution_count": 5,
     "metadata": {},
     "output_type": "execute_result"
    }
   ],
   "source": [
    "# замещаем обьект на ноль\n",
    "roots[np.isnan(roots)] = 0\n",
    "roots"
   ]
  },
  {
   "cell_type": "code",
   "execution_count": 6,
   "id": "23e0f57a",
   "metadata": {},
   "outputs": [
    {
     "data": {
      "text/plain": [
       "8.16227766016838"
      ]
     },
     "execution_count": 6,
     "metadata": {},
     "output_type": "execute_result"
    }
   ],
   "source": [
    "sum(roots)"
   ]
  },
  {
   "cell_type": "code",
   "execution_count": 7,
   "id": "9fe43f02",
   "metadata": {},
   "outputs": [
    {
     "name": "stdout",
     "output_type": "stream",
     "text": [
      "True\n"
     ]
    }
   ],
   "source": [
    "print(np.isnan(np.nan))"
   ]
  },
  {
   "cell_type": "code",
   "execution_count": 46,
   "id": "14cd918d",
   "metadata": {},
   "outputs": [
    {
     "name": "stdout",
     "output_type": "stream",
     "text": [
      "[-2365. 12279. 16132. 25933. 28745.]\n"
     ]
    },
    {
     "name": "stderr",
     "output_type": "stream",
     "text": [
      "/tmp/ipykernel_5944/1457285775.py:23: RuntimeWarning: invalid value encountered in cast\n",
      "  mystery_int = np.int32(mystery)\n"
     ]
    }
   ],
   "source": [
    "mystery = np.array([ 12279., -26024.,  28745.,  np.nan,  31244.,  -2365.,  -6974.,\n",
    "        -9212., np.nan, -17722.,  16132.,  25933.,  np.nan, -16431.,\n",
    "        29810.], dtype=np.float32)\n",
    "\n",
    "# узнаю сколько обьектов nan существует в масиве mystery\n",
    "nans_index = np.isnan(mystery)\n",
    "nans_index\n",
    "\n",
    "count = 0\n",
    "for a in nans_index:\n",
    "    if a == True:\n",
    "        count += 1\n",
    "n_nan = count\n",
    "n_nan \n",
    "\n",
    "mystery_new = mystery.copy()\n",
    "# создаем новый масив в котором обьекты типа np.nan замещены на 0\n",
    "mystery_new[np.isnan(mystery_new)] = 0\n",
    "mystery_new\n",
    "\n",
    "\n",
    "# меняю тип данных\n",
    "mystery_int = np.int32(mystery)\n",
    "mystery_int\n",
    "\n",
    "# сортирую по возрастанию\n",
    "array = np.sort(mystery)\n",
    "array\n",
    "\n",
    "# создаю двуменый массив, который заполняется по столбцам при помощи метода\n",
    "# .reshape()\n",
    "table = array.reshape(5, 3, order='F')\n",
    "table\n",
    "\n",
    "# сохраняю в переменнуб col только нужный мне срез\n",
    "col = table[:5, 1]\n",
    "print(col)\n"
   ]
  }
 ],
 "metadata": {
  "kernelspec": {
   "display_name": "Python 3",
   "language": "python",
   "name": "python3"
  },
  "language_info": {
   "codemirror_mode": {
    "name": "ipython",
    "version": 3
   },
   "file_extension": ".py",
   "mimetype": "text/x-python",
   "name": "python",
   "nbconvert_exporter": "python",
   "pygments_lexer": "ipython3",
   "version": "3.12.3"
  }
 },
 "nbformat": 4,
 "nbformat_minor": 5
}
