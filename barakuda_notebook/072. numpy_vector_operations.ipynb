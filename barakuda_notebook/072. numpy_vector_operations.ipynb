{
 "cells": [
  {
   "cell_type": "markdown",
   "id": "4891c6ce",
   "metadata": {},
   "source": [
    "# Векторы в Numpy"
   ]
  },
  {
   "cell_type": "markdown",
   "id": "2a965bc7",
   "metadata": {},
   "source": [
    "## Векторы в Numpy и арифметика"
   ]
  },
  {
   "cell_type": "code",
   "execution_count": 14,
   "id": "f834d854",
   "metadata": {},
   "outputs": [
    {
     "name": "stdout",
     "output_type": "stream",
     "text": [
      "[14.  10.  10.6 15.5]\n"
     ]
    },
    {
     "data": {
      "text/plain": [
       "[2, 4, 7, 2.5, 12, 6, 3.6, 13]"
      ]
     },
     "execution_count": 14,
     "metadata": {},
     "output_type": "execute_result"
    }
   ],
   "source": [
    "# смотрим как поэлементно складываются два вектора\n",
    "import numpy as np\n",
    "vec1 = np.array([2, 4, 7, 2.5])\n",
    "vec2 = np.array([12, 6, 3.6, 13])\n",
    "print(vec1 + vec2)\n",
    "\n",
    "# понимаем, что есть различие между списками и массивами\n",
    "list1 = [2, 4, 7, 2.5]\n",
    "list2 = [12, 6, 3.6, 13]\n",
    "list1 + list2\n"
   ]
  },
  {
   "cell_type": "code",
   "execution_count": null,
   "id": "c8ef0337",
   "metadata": {},
   "outputs": [
    {
     "name": "stdout",
     "output_type": "stream",
     "text": [
      "[24.  24.  25.2 32.5]\n"
     ]
    },
    {
     "ename": "ValueError",
     "evalue": "operands could not be broadcast together with shapes (4,) (3,) ",
     "output_type": "error",
     "traceback": [
      "\u001b[0;31m---------------------------------------------------------------------------\u001b[0m",
      "\u001b[0;31mValueError\u001b[0m                                Traceback (most recent call last)",
      "Cell \u001b[0;32mIn[13], line 9\u001b[0m\n\u001b[1;32m      7\u001b[0m vec1 \u001b[38;5;241m=\u001b[39m np\u001b[38;5;241m.\u001b[39marray([\u001b[38;5;241m2\u001b[39m, \u001b[38;5;241m4\u001b[39m, \u001b[38;5;241m7\u001b[39m, \u001b[38;5;241m2.5\u001b[39m])\n\u001b[1;32m      8\u001b[0m vec2 \u001b[38;5;241m=\u001b[39m np\u001b[38;5;241m.\u001b[39marray([\u001b[38;5;241m12\u001b[39m, \u001b[38;5;241m6\u001b[39m, \u001b[38;5;241m3.6\u001b[39m])\n\u001b[0;32m----> 9\u001b[0m \u001b[43mvec1\u001b[49m\u001b[43m \u001b[49m\u001b[38;5;241;43m*\u001b[39;49m\u001b[43m \u001b[49m\u001b[43mvec2\u001b[49m\n",
      "\u001b[0;31mValueError\u001b[0m: operands could not be broadcast together with shapes (4,) (3,) "
     ]
    }
   ],
   "source": [
    "# можно находить произведение векторов\n",
    "vec1 = np.array([2, 4, 7, 2.5])\n",
    "vec2 = np.array([12, 6, 3.6, 13])\n",
    "print(vec1 * vec2)\n",
    "\n",
    "# если вектора разной длинны, то выдается ошибка\n",
    "vec1 = np.array([2, 4, 7, 2.5])\n",
    "vec2 = np.array([12, 6, 3.6])\n",
    "vec1 * vec2\n"
   ]
  },
  {
   "cell_type": "code",
   "execution_count": 15,
   "id": "908f45cf",
   "metadata": {},
   "outputs": [
    {
     "data": {
      "text/plain": [
       "array([20., 40., 70., 25.])"
      ]
     },
     "execution_count": 15,
     "metadata": {},
     "output_type": "execute_result"
    }
   ],
   "source": [
    "# знаем,что умножив вектор на одно число, ошибки не возникнет\n",
    "vec1 = np.array([2, 4, 7, 2.5])\n",
    "vec1 * 10"
   ]
  },
  {
   "cell_type": "code",
   "execution_count": 17,
   "id": "3e33cad5",
   "metadata": {},
   "outputs": [
    {
     "data": {
      "text/plain": [
       "array([False, False,  True, False])"
      ]
     },
     "execution_count": 17,
     "metadata": {},
     "output_type": "execute_result"
    }
   ],
   "source": [
    "# сравнение двух векторов дает нам ответ с булевыми обьектами\n",
    "vec1 = np.array([2, 4, 7, 2.5])\n",
    "vec2 = np.array([12, 6, 3.6, 13])\n",
    "vec1 > vec2"
   ]
  },
  {
   "cell_type": "code",
   "execution_count": 19,
   "id": "7f54d4f7",
   "metadata": {},
   "outputs": [
    {
     "data": {
      "text/plain": [
       "array([ True,  True,  True,  True])"
      ]
     },
     "execution_count": 19,
     "metadata": {},
     "output_type": "execute_result"
    }
   ],
   "source": [
    "# каждый элемент сравнивается с одним числом,\n",
    "# результат аналогичен предыдуще строке кода\n",
    "vec1 = np.array([12, 6, 3.6, 13])\n",
    "vec1 <= 20"
   ]
  },
  {
   "cell_type": "markdown",
   "id": "490cbcda",
   "metadata": {},
   "source": [
    "### Задание 8.2"
   ]
  },
  {
   "cell_type": "code",
   "execution_count": null,
   "id": "598dc729",
   "metadata": {},
   "outputs": [
    {
     "ename": "ValueError",
     "evalue": "operands could not be broadcast together with shapes (4,) (3,) ",
     "output_type": "error",
     "traceback": [
      "\u001b[0;31m---------------------------------------------------------------------------\u001b[0m",
      "\u001b[0;31mValueError\u001b[0m                                Traceback (most recent call last)",
      "Cell \u001b[0;32mIn[20], line 4\u001b[0m\n\u001b[1;32m      2\u001b[0m vec1 \u001b[38;5;241m=\u001b[39m np\u001b[38;5;241m.\u001b[39marray([\u001b[38;5;241m12\u001b[39m, \u001b[38;5;241m45\u001b[39m, \u001b[38;5;241m34\u001b[39m, \u001b[38;5;241m46\u001b[39m])\n\u001b[1;32m      3\u001b[0m vec2 \u001b[38;5;241m=\u001b[39m np\u001b[38;5;241m.\u001b[39marray([\u001b[38;5;241m12\u001b[39m, \u001b[38;5;241m5\u001b[39m, \u001b[38;5;241m75\u001b[39m])\n\u001b[0;32m----> 4\u001b[0m \u001b[43mvec1\u001b[49m\u001b[43m \u001b[49m\u001b[38;5;241;43m>\u001b[39;49m\u001b[38;5;241;43m=\u001b[39;49m\u001b[43m \u001b[49m\u001b[43mvec2\u001b[49m\n",
      "\u001b[0;31mValueError\u001b[0m: operands could not be broadcast together with shapes (4,) (3,) "
     ]
    }
   ],
   "source": [
    "# вектора с разной длинной не попасть под сравнение \n",
    "vec1 = np.array([12, 45, 34, 46])\n",
    "vec2 = np.array([12, 5, 75])\n",
    "vec1 >= vec2"
   ]
  },
  {
   "cell_type": "markdown",
   "id": "670146da",
   "metadata": {},
   "source": [
    "## Продвинутые операции с векторами"
   ]
  },
  {
   "cell_type": "code",
   "execution_count": 23,
   "id": "aae08144",
   "metadata": {},
   "outputs": [
    {
     "name": "stdout",
     "output_type": "stream",
     "text": [
      "5.0\n"
     ]
    },
    {
     "data": {
      "text/plain": [
       "5.0"
      ]
     },
     "execution_count": 23,
     "metadata": {},
     "output_type": "execute_result"
    }
   ],
   "source": [
    "# вычисляем длинну вектора \n",
    "vec = np.array([3, 4])\n",
    "length = np.sqrt(sum(vec ** 2))\n",
    "print(length)\n",
    "\n",
    "# используем быстрый способ нахождения длинны вектора из библиотеки linalg\n",
    "# библиотеки Numpy\n",
    "length = np.linalg.norm(vec)\n",
    "length"
   ]
  },
  {
   "cell_type": "code",
   "execution_count": 26,
   "id": "367cef89",
   "metadata": {},
   "outputs": [
    {
     "name": "stdout",
     "output_type": "stream",
     "text": [
      "12.206555615733702\n"
     ]
    },
    {
     "data": {
      "text/plain": [
       "12.206555615733702"
      ]
     },
     "execution_count": 26,
     "metadata": {},
     "output_type": "execute_result"
    }
   ],
   "source": [
    "# находим расстояние между векторами\n",
    "vec1 = np.array([0, 3, 5])\n",
    "vec2 = np.array([12, 4, 7])\n",
    "distance = np.sqrt(np.sum((vec1 - vec2) ** 2))\n",
    "print(distance)\n",
    "\n",
    "# более лаконичный способ с использованием модуля .linalg, \n",
    "# тоже находит расстояние\n",
    "distance = np.linalg.norm(vec1 - vec2)\n",
    "distance"
   ]
  },
  {
   "cell_type": "code",
   "execution_count": 30,
   "id": "af60b1c2",
   "metadata": {},
   "outputs": [
    {
     "name": "stdout",
     "output_type": "stream",
     "text": [
      "250.0\n"
     ]
    },
    {
     "data": {
      "text/plain": [
       "250.0"
      ]
     },
     "execution_count": 30,
     "metadata": {},
     "output_type": "execute_result"
    }
   ],
   "source": [
    "# находим скальярное произведение, для того чтобы узнать угол\n",
    "vec1 = np.arange(1, 6)\n",
    "vec2 = np.linspace(10, 20, 5)\n",
    "scalar_product = np.sum(vec1 * vec2)\n",
    "print(scalar_product)\n",
    "\n",
    "# вышезаписанный код можно упростить при помощи встроенной функции .dot\n",
    "scalar_product = np.dot(vec1, vec2)\n",
    "scalar_product"
   ]
  },
  {
   "cell_type": "markdown",
   "id": "ec63ae62",
   "metadata": {},
   "source": [
    "## Задание 8.6"
   ]
  },
  {
   "cell_type": "code",
   "execution_count": 37,
   "id": "81eb69d7",
   "metadata": {},
   "outputs": [
    {
     "name": "stdout",
     "output_type": "stream",
     "text": [
      "False\n",
      "True\n",
      "False\n",
      "************************************************************\n",
      "False\n",
      "False\n",
      "True\n",
      "************************************************************\n",
      "34 4828 68\n"
     ]
    }
   ],
   "source": [
    "a = np.array([23, 34,27])\n",
    "b = np.array([-54, 1, 46])\n",
    "c = np.array([46, 68, 54])\n",
    "\n",
    "# находим длинну векторов длятого чтобы использовать эту информацию \n",
    "# при определении сонаправленности векторов\n",
    "a_length = np.linalg.norm(a)\n",
    "b_length = np.linalg.norm(b)\n",
    "c_length = np.linalg.norm(c)\n",
    "\n",
    "# длинна суммы веторов позволяет определить сонаправленность векторов\n",
    "ab_sum = np.linalg.norm(a + b)\n",
    "ac_sum = np.linalg.norm(a + c)\n",
    "bc_sum = np.linalg.norm(b + c)\n",
    "\n",
    "# определяем сонаправленные вектора\n",
    "print(a_length + b_length == ab_sum)\n",
    "print(a_length + c_length == ac_sum)\n",
    "print(b_length + c_length == bc_sum)\n",
    "\n",
    "# рисую много точек для удобного прочтенния вывода\n",
    "print('*' * 60)\n",
    "\n",
    "# находим, какок из расстояния двух векторв больше 100\n",
    "print(np.linalg.norm(a - b) > 100)\n",
    "print(np.linalg.norm(a - c) > 100)\n",
    "print(np.linalg.norm(b - c) > 100)\n",
    "\n",
    "print('*' * 60)\n",
    "\n",
    "# .dot более лаконичный способ нахождения скалярного произведения\n",
    "ab_scalar = np.dot(a, b)\n",
    "ac_scalar = np.dot(a, c)\n",
    "bc_scalar = np.dot(b, c)\n",
    "print(ab_scalar, ac_scalar, bc_scalar)"
   ]
  },
  {
   "cell_type": "markdown",
   "id": "e960ddc8",
   "metadata": {},
   "source": [
    "## Базовые статистические функции для векторов"
   ]
  },
  {
   "cell_type": "markdown",
   "id": "b234eed5",
   "metadata": {},
   "source": [
    "### np.min(), np.max()"
   ]
  },
  {
   "cell_type": "code",
   "execution_count": 40,
   "id": "391dcb6a",
   "metadata": {},
   "outputs": [
    {
     "name": "stdout",
     "output_type": "stream",
     "text": [
      "1\n"
     ]
    },
    {
     "data": {
      "text/plain": [
       "28"
      ]
     },
     "execution_count": 40,
     "metadata": {},
     "output_type": "execute_result"
    }
   ],
   "source": [
    "# создали одномерный массив\n",
    "vec = np.array([2, 7, 18, 28, 18, 1, 8, 4])\n",
    "# находим минимум и максимум вектора\n",
    "print(np.min(vec))\n",
    "np.max(vec)"
   ]
  },
  {
   "cell_type": "markdown",
   "id": "267b8e75",
   "metadata": {},
   "source": [
    "### .mean()"
   ]
  },
  {
   "cell_type": "code",
   "execution_count": 42,
   "id": "7ffc291a",
   "metadata": {},
   "outputs": [
    {
     "data": {
      "text/plain": [
       "10.625"
      ]
     },
     "execution_count": 42,
     "metadata": {},
     "output_type": "execute_result"
    }
   ],
   "source": [
    "# одномерный массив нужен для того чтобы в нем найти среднее значение\n",
    "vec = np.array([2, 7, 18, 27, 18, 1, 8, 4])\n",
    "# узнаем среднее значение\n",
    "vec.mean()"
   ]
  }
 ],
 "metadata": {
  "kernelspec": {
   "display_name": "Python 3",
   "language": "python",
   "name": "python3"
  },
  "language_info": {
   "codemirror_mode": {
    "name": "ipython",
    "version": 3
   },
   "file_extension": ".py",
   "mimetype": "text/x-python",
   "name": "python",
   "nbconvert_exporter": "python",
   "pygments_lexer": "ipython3",
   "version": "3.12.3"
  }
 },
 "nbformat": 4,
 "nbformat_minor": 5
}
