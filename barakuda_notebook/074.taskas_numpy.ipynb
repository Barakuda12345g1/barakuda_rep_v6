{
 "cells": [
  {
   "cell_type": "markdown",
   "id": "33307232",
   "metadata": {},
   "source": [
    "# Knowledge solidifying"
   ]
  },
  {
   "cell_type": "code",
   "execution_count": 1,
   "id": "a634d50a",
   "metadata": {},
   "outputs": [
    {
     "data": {
      "text/plain": [
       "0"
      ]
     },
     "execution_count": 1,
     "metadata": {},
     "output_type": "execute_result"
    }
   ],
   "source": [
    "import numpy as np\n",
    "num = np.int16('-65536')\n",
    "num"
   ]
  },
  {
   "cell_type": "markdown",
   "id": "2bfc4343",
   "metadata": {},
   "source": [
    "## Задание 10.6"
   ]
  },
  {
   "cell_type": "markdown",
   "id": "fc04ccbe",
   "metadata": {},
   "source": [
    "Напишите функцию get_chess(a), которая принимает на вход длину стороны квадрата a и возвращает двумерный массив формы (a, a), заполненный 0 и 1 в шахматном порядке. В левом верхнем углу всегда должен быть ноль.\n",
    "\n",
    "Примечание. воспользуйтесь функцией np.zeros, а затем с помощью срезов без циклов задайте необходимым элементам значение 1.\n",
    "\n",
    "В Python для получения каждого второго элемента используется срез [::2]. Подумайте, как грамотно применить этот принцип к двумерному массиву."
   ]
  },
  {
   "cell_type": "code",
   "execution_count": 2,
   "id": "2877b93f",
   "metadata": {},
   "outputs": [
    {
     "data": {
      "text/plain": [
       "array([[0., 1., 0., 1., 0., 1., 0., 1., 0., 1.],\n",
       "       [1., 0., 1., 0., 1., 0., 1., 0., 1., 0.],\n",
       "       [0., 1., 0., 1., 0., 1., 0., 1., 0., 1.],\n",
       "       [1., 0., 1., 0., 1., 0., 1., 0., 1., 0.],\n",
       "       [0., 1., 0., 1., 0., 1., 0., 1., 0., 1.],\n",
       "       [1., 0., 1., 0., 1., 0., 1., 0., 1., 0.],\n",
       "       [0., 1., 0., 1., 0., 1., 0., 1., 0., 1.],\n",
       "       [1., 0., 1., 0., 1., 0., 1., 0., 1., 0.],\n",
       "       [0., 1., 0., 1., 0., 1., 0., 1., 0., 1.],\n",
       "       [1., 0., 1., 0., 1., 0., 1., 0., 1., 0.]])"
      ]
     },
     "execution_count": 2,
     "metadata": {},
     "output_type": "execute_result"
    }
   ],
   "source": [
    "def get_chess(side):\n",
    "    # если число четное то, метод описанный в блоке else не сработает\n",
    "    if side % 2 == 0:\n",
    "        # узнаем количество элементов\n",
    "        arr = np.zeros((side, side))\n",
    "        arr.size\n",
    "        # выствляем нужную нам последовательность цифр в одномерном массиве \n",
    "        arr = np.zeros(arr.size)\n",
    "        arr[::2] = 1\n",
    "        # воссоздаю заного мнономерный массив\n",
    "        arr.shape = ((side, side))\n",
    "        # в каждой нечетной строке выствляю порядк цифр 0 1 0 1 и т.д.\n",
    "        arr[::2, :] = 1\n",
    "        arr[::2, ::2] = 0\n",
    "        # обязательное возвращене массива \n",
    "        return arr\n",
    "    # иначе делаем так\n",
    "    else:\n",
    "        # будем извлекать информацию о количестве элементов\n",
    "        arr = np.zeros((side, side))\n",
    "        # будем преобразовывать многомерный масив в одномерный на основании \n",
    "        # информации о количестве элементов\n",
    "        arr.size\n",
    "        # делаем каждый второй элемент 1\n",
    "        arr = np.zeros(arr.size)\n",
    "        # сначала превратили все в 1\n",
    "        arr[:] = 1\n",
    "        # а потом делаем каждый второй элемент 0\n",
    "        arr[::2] = 0\n",
    "        arr.shape = ((side, side))\n",
    "        # пересоздаем масив для вывода из функции\n",
    "        #arr.shape = (side, side)\n",
    "        # возвращаем резултат\n",
    "        return arr\n",
    "\n",
    "# получается красиво\n",
    "get_chess(10)"
   ]
  },
  {
   "cell_type": "markdown",
   "id": "5c2045ef",
   "metadata": {},
   "source": [
    "## Задание 10.7"
   ]
  },
  {
   "cell_type": "markdown",
   "id": "e8598e86",
   "metadata": {},
   "source": [
    "Вы разрабатываете приложение для прослушивания музыки. Конечно же, там будет доступна функция перемешивания плейлиста. Пользователю может настолько понравиться перемешанная версия плейлиста, что он захочет сохранить его копию. Однако вы не хотите хранить в памяти новую версию плейлиста, а просто хотите сохранять тот seed, с которым он был сгенерирован.\n",
    "\n",
    "Для этого напишите функцию shuffle_seed(array), которая принимает на вход массив из чисел, генерирует случайное число для seed в диапазоне от 0 до 2**32 - 1 (включительно) и возвращает кортеж: перемешанный с данным seed массив (исходный массив должен оставаться без изменений), а также seed, с которым этот массив был получен.\n",
    "\n"
   ]
  },
  {
   "cell_type": "code",
   "execution_count": 3,
   "id": "0f4e835c",
   "metadata": {},
   "outputs": [
    {
     "data": {
      "text/plain": [
       "(array([2, 6, 7, 1, 5, 4, 3]), 1009165886)"
      ]
     },
     "execution_count": 3,
     "metadata": {},
     "output_type": "execute_result"
    }
   ],
   "source": [
    "# создаем функцию\n",
    "def shuffle_seed(array):\n",
    "    # создаем случайное целое число, которое будет сидом\n",
    "    gen_numb = np.int64(np.random.rand() * (2 ** 32 -1))\n",
    "    np.random.seed(gen_numb)\n",
    "    # перемешиваем масив\n",
    "    np.random.shuffle(array)\n",
    "    \n",
    "    # возвращаем через запятую массив и сид\n",
    "    return array, gen_numb\n",
    "\n",
    "shuffle_seed(np.array([1, 2, 3, 4, 5, 6, 7]))\n",
    "    \n"
   ]
  },
  {
   "cell_type": "code",
   "execution_count": 4,
   "id": "1463f361",
   "metadata": {},
   "outputs": [
    {
     "data": {
      "text/plain": [
       "array([2, 3, 1, 5, 6, 4, 7])"
      ]
     },
     "execution_count": 4,
     "metadata": {},
     "output_type": "execute_result"
    }
   ],
   "source": [
    "arr = np.array([1, 2, 3, 4, 5, 6, 7])\n",
    "np.random.shuffle(arr)\n",
    "arr"
   ]
  },
  {
   "cell_type": "markdown",
   "id": "463697a0",
   "metadata": {},
   "source": [
    "## Задание 10.8"
   ]
  },
  {
   "cell_type": "markdown",
   "id": "e81b17b8",
   "metadata": {},
   "source": [
    "Напишите функцию min_max_dist(*vectors), которая принимает на вход неограниченное число векторов через запятую. Гарантируется, что все векторы, которые передаются, одинаковой длины.\n",
    "\n",
    "Функция возвращает минимальное и максимальное расстояние между векторами в виде кортежа."
   ]
  },
  {
   "cell_type": "code",
   "execution_count": 5,
   "id": "47c22928",
   "metadata": {},
   "outputs": [
    {
     "data": {
      "text/plain": [
       "(array([1, 2, 3]), array([4, 5, 6]), array([7, 8, 9]))"
      ]
     },
     "execution_count": 5,
     "metadata": {},
     "output_type": "execute_result"
    }
   ],
   "source": [
    "vec1 = np.array([1,2,3])\n",
    "vec2 = np.array([4,5,6])\n",
    "vec3 = np.array([7, 8, 9])\n",
    "\n",
    "#min_max_dist(vec1, vec2, vec3)\n",
    "\n",
    "a = 1\n",
    "b = 2\n",
    "c = 3\n",
    "d = 4\n",
    "example = vec1, vec2, vec3\n",
    "\n",
    "def ex_func(*example):\n",
    "    \n",
    "    #np.linalg.norm(vec1 - vec2 - vec3)\n",
    "\n",
    "    return example\n",
    "\n",
    "ex_func(*example)"
   ]
  },
  {
   "cell_type": "code",
   "execution_count": 10,
   "id": "ea836bf2",
   "metadata": {},
   "outputs": [
    {
     "data": {
      "text/plain": [
       "(5.196152422706632, 10.392304845413264)"
      ]
     },
     "execution_count": 10,
     "metadata": {},
     "output_type": "execute_result"
    }
   ],
   "source": [
    "import numpy as np\n",
    "\n",
    "\n",
    "vec1 = np.array([1, 2, 3])\n",
    "vec2 = np.array([4, 5, 6])\n",
    "vec3 = np.array([7, 8, 9])\n",
    "\n",
    "\n",
    "# инициируем функцию\n",
    "def min_max_dist(*vectors):\n",
    "    # создаем список из масивов, для обработки каждого элемента\n",
    "    # с каждым элементом\n",
    "    array_list = []\n",
    "    # для каждого элемента найдем найдем расстояние между веторами из переменной \n",
    "    # vectors\n",
    "    for elem in vectors:\n",
    "        array_list.append(elem)\n",
    "    # создаю список для хранения в нем расстояний\n",
    "    dist_list = []\n",
    "    # проверяем работу по нахожденю расстояний \n",
    "    for elem in array_list:\n",
    "        for second_elem in vectors:\n",
    "            distance = np.linalg.norm(elem - second_elem)\n",
    "            dist_list.append(distance)\n",
    "    # создаю список без нулей для красоты и для удобства выбора минимального и\n",
    "    # максимального значения\n",
    "    result_list = []\n",
    "    for elem in dist_list:\n",
    "        if elem == 0.0:\n",
    "            continue\n",
    "        else:\n",
    "            result_list.append(elem)\n",
    "    return min(result_list), max(result_list)\n",
    "        \n",
    "    \n",
    "min_max_dist(vec1, vec2, vec3)        \n",
    "        "
   ]
  },
  {
   "cell_type": "markdown",
   "id": "3e6fac72",
   "metadata": {},
   "source": [
    "## Задание 10.9"
   ]
  },
  {
   "cell_type": "markdown",
   "id": "9d776043",
   "metadata": {},
   "source": [
    "Напишите функцию any_normal, которая принимает на вход неограниченное число векторов через запятую. Гарантируется, что все векторы, которые передаются, одинаковой длины.\n",
    "\n",
    "Функция возвращает True, если есть хотя бы одна пара перпендикулярных векторов. Иначе возвращает False."
   ]
  },
  {
   "cell_type": "code",
   "execution_count": 13,
   "id": "9b7b157a",
   "metadata": {},
   "outputs": [
    {
     "data": {
      "text/plain": [
       "True"
      ]
     },
     "execution_count": 13,
     "metadata": {},
     "output_type": "execute_result"
    }
   ],
   "source": [
    "import numpy as np\n",
    "\n",
    "\n",
    "vec1 = np.array([2, 1])\n",
    "vec2 = np.array([-1, 2])\n",
    "vec3 = np.array([3,4])\n",
    "\n",
    "# инициализирую функцию\n",
    "def any_normal(*vectors):\n",
    "    # создаю список из элементов переменной vectors, для того чтобы итерировать\n",
    "    elem_list = []\n",
    "    # заполняю пустой список\n",
    "    for elem in vectors:\n",
    "        elem_list.append(elem)\n",
    "    # создаю пустой список, который будет заполнен скалярными произведениями\n",
    "    # пар векторов    \n",
    "    scalar_list = []\n",
    "    # заполняю список скалярными произведениями\n",
    "    for elem in elem_list:\n",
    "        for second_elem in vectors:\n",
    "            scalar_product = np.dot(elem, second_elem)\n",
    "            scalar_list.append(scalar_product)\n",
    "    # ищем условие для поиска перпендиклярных векторов\n",
    "    if 0 in scalar_list:\n",
    "        return True\n",
    "    else:\n",
    "        return False\n",
    "\n",
    "any_normal(vec1, vec2, vec3)    \n",
    "\n"
   ]
  },
  {
   "cell_type": "markdown",
   "id": "75556f6f",
   "metadata": {},
   "source": [
    "## Задание 10.10"
   ]
  },
  {
   "cell_type": "markdown",
   "id": "9859c231",
   "metadata": {},
   "source": [
    "Напишите функцию get_loto(num), генерирующую трёхмерный массив случайных целых чисел от 1 до 100 (включительно). Это поля для игры в лото.\n",
    "\n",
    "Трёхмерный массив должен состоять из таблиц чисел формы 5х5, то есть итоговая форма — (num, 5, 5).\n",
    "\n",
    "Функция возвращает полученный массив."
   ]
  },
  {
   "cell_type": "code",
   "execution_count": null,
   "id": "1eb27f6c",
   "metadata": {},
   "outputs": [
    {
     "data": {
      "text/plain": [
       "(4, 5, 5)"
      ]
     },
     "execution_count": 8,
     "metadata": {},
     "output_type": "execute_result"
    }
   ],
   "source": [
    "# скачаиваем библиотеку Numpy\n",
    "import numpy as np\n",
    "\n",
    "\n",
    "# инициализируем функцию\n",
    "def get_loto(num):\n",
    "    # такое обращение позволяет создать масиивы из случайных целых чисел\n",
    "    arr = np.random.randint(1, 100, size=(num, 5, 5))\n",
    "    # возвращаем массив\n",
    "    return arr\n",
    "\n",
    "get_loto(4).shape\n",
    "    "
   ]
  },
  {
   "cell_type": "markdown",
   "id": "778a0477",
   "metadata": {},
   "source": [
    "## Задание 10.11"
   ]
  },
  {
   "cell_type": "markdown",
   "id": "03cd2f18",
   "metadata": {},
   "source": [
    "Напишите функцию get_unique_loto(num). Она так же, как и функция в задании 49.9.10, генерирует num полей для игры в лото, однако теперь на каждом поле 5х5 числа не могут повторяться.\n",
    "\n",
    "Функция также должна возвращать массив формы num x 5 x 5."
   ]
  },
  {
   "cell_type": "code",
   "execution_count": 140,
   "id": "56b15aeb",
   "metadata": {},
   "outputs": [
    {
     "name": "stdout",
     "output_type": "stream",
     "text": [
      "[[[55. 49. 96. 46. 83.]\n",
      "  [85. 20. 57. 87. 41.]\n",
      "  [68. 26. 29. 33. 39.]\n",
      "  [35. 27. 44. 82. 92.]\n",
      "  [78. 56. 31. 62. 91.]]\n",
      "\n",
      " [[72. 56. 88. 60. 29.]\n",
      "  [68. 36.  8.  2. 40.]\n",
      "  [96.  4. 26. 65. 71.]\n",
      "  [45. 64. 25. 16. 67.]\n",
      "  [69. 12. 99. 15. 50.]]\n",
      "\n",
      " [[30. 49.  5. 85. 23.]\n",
      "  [99. 12. 83. 57. 82.]\n",
      "  [66. 96. 97. 89. 72.]\n",
      "  [80. 13. 88. 87. 51.]\n",
      "  [27. 76. 60. 62. 22.]]\n",
      "\n",
      " [[77. 96. 81. 31. 78.]\n",
      "  [67. 76. 15. 50.  4.]\n",
      "  [54. 94. 49. 83. 95.]\n",
      "  [69. 80. 66. 65. 34.]\n",
      "  [85. 43. 71. 30. 21.]]]\n"
     ]
    }
   ],
   "source": [
    "# обязательный вызов библиотеки numpy\n",
    "import numpy as np\n",
    "\n",
    "\n",
    "# инициализирую функцию\n",
    "def get_unique_loto(num):\n",
    "    # будем изменять элементы пустого масива на уникальные поля\n",
    "    zeros_array = np.zeros((num, 5, 5))\n",
    "    # пройдемся циклом по этоиу масиву и заменим элементы при помощи \n",
    "    # np.random.choice() и .reshape()\n",
    "    for i, elem in enumerate(zeros_array):\n",
    "        # раскладываем масив с числами от 1 до 100\n",
    "        num_array = np.arange(1, 101)\n",
    "        # выбираем 25 чисел и меняем форму на (5, 5)\n",
    "        unique_choice = np.random.choice(num_array, size=25, replace=False)\n",
    "        choice_reshape = unique_choice.reshape(5, 5)\n",
    "        # теперь заполняем массив из нулей \n",
    "        zeros_array[i] = choice_reshape\n",
    "        \n",
    "    return zeros_array \n",
    "\n",
    "print(get_unique_loto(4))\n",
    "\n",
    "        "
   ]
  },
  {
   "cell_type": "code",
   "execution_count": null,
   "id": "e2d46dce",
   "metadata": {},
   "outputs": [
    {
     "data": {
      "text/plain": [
       "array([[[99., 91., 14., 90., 61.],\n",
       "        [28., 10.,  7., 85., 79.],\n",
       "        [ 5., 53., 64., 95., 20.],\n",
       "        [58., 56., 41., 32., 24.],\n",
       "        [55., 82., 83., 36., 84.]],\n",
       "\n",
       "       [[96., 81., 17.,  2., 73.],\n",
       "        [71., 29., 65.,  1., 28.],\n",
       "        [14., 64., 41.,  7., 60.],\n",
       "        [25., 63., 50., 11., 39.],\n",
       "        [87., 75., 12., 45., 91.]],\n",
       "\n",
       "       [[25., 14., 26.,  7., 85.],\n",
       "        [59.,  8., 42., 11., 13.],\n",
       "        [49., 29., 53., 45., 31.],\n",
       "        [78., 38., 88., 30., 51.],\n",
       "        [64.,  6., 69., 40., 61.]]])"
      ]
     },
     "execution_count": 139,
     "metadata": {},
     "output_type": "execute_result"
    }
   ],
   "source": [
    "# импортирую библиотеку Numpy для работы\n",
    "import numpy as np\n",
    "\n",
    "\n",
    "# создаю функцию, которая будет выдавать поля без повторяющихся элементов\n",
    "def get_unique_loto(num):\n",
    "    # пустой массив будем пополнять элементами, полями\n",
    "    # исходный масив должен иметь такое количество измерений\n",
    "    # сколько будет введено в аргументе функциии\n",
    "    arr = np.zeros((num, 5, 5))\n",
    "    # создаем массив с заданным в синтаксисе аргументом\n",
    "    unique_array = np.random.randint(1, 100, size=(num, 5, 5))\n",
    "    # чтобы воссоздать элементы в новом массиве создаю массив\n",
    "    # содержащий числа от 1 до 100\n",
    "    arr_num = np.arange(1, 101)\n",
    "  \n",
    "    # создаю цикл для обработки и создания уникального масива\n",
    "    for i, elem in enumerate(unique_array):\n",
    "        # создаю условие проверяющее на уникальность\n",
    "        if len(set(elem.flatten())) == len(elem.flatten()):\n",
    "            arr[i] = elem\n",
    "        # иначе подставляем массив из уникальных чисел, \n",
    "        # преобразованный в поле 5 х 5\n",
    "        else:\n",
    "            choice_arr = np.random.choice(arr_num, size=25, replace=False)\n",
    "            choice_shape = choice_arr.reshape(5, 5)\n",
    "            arr[i] = choice_shape\n",
    "            \n",
    "    # возвращаем унмкальную функцию\n",
    "    return arr\n",
    "\n",
    "# проверяем работу функции\n",
    "get_unique_loto(3)       \n",
    "            \n",
    "    "
   ]
  }
 ],
 "metadata": {
  "kernelspec": {
   "display_name": "Python 3",
   "language": "python",
   "name": "python3"
  },
  "language_info": {
   "codemirror_mode": {
    "name": "ipython",
    "version": 3
   },
   "file_extension": ".py",
   "mimetype": "text/x-python",
   "name": "python",
   "nbconvert_exporter": "python",
   "pygments_lexer": "ipython3",
   "version": "3.12.3"
  }
 },
 "nbformat": 4,
 "nbformat_minor": 5
}
