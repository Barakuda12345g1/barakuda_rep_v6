{
 "cells": [
  {
   "cell_type": "code",
   "execution_count": null,
   "id": "3da3e729",
   "metadata": {},
   "outputs": [
    {
     "data": {
      "text/plain": [
       "261.5"
      ]
     },
     "execution_count": 2,
     "metadata": {},
     "output_type": "execute_result"
    }
   ],
   "source": [
    "import numpy as np\n",
    "\n",
    "# смотрим на работу функции, которая находит среднее значение \n",
    "simplelist = [19, 242, 14, 152, 142, 1000]\n",
    "arr = np.array(simplelist)\n",
    "arr.mean()"
   ]
  },
  {
   "cell_type": "markdown",
   "id": "da52b20d",
   "metadata": {},
   "source": [
    "# Импорт библиотеки Pandas"
   ]
  },
  {
   "cell_type": "code",
   "execution_count": null,
   "id": "f49e3cfb",
   "metadata": {},
   "outputs": [
    {
     "data": {
      "text/plain": [
       "'2.1.4'"
      ]
     },
     "execution_count": 1,
     "metadata": {},
     "output_type": "execute_result"
    }
   ],
   "source": [
    "import pandas as pd\n",
    "pd.__version__      "
   ]
  },
  {
   "cell_type": "code",
   "execution_count": 3,
   "id": "42ce7d00",
   "metadata": {},
   "outputs": [
    {
     "name": "stdout",
     "output_type": "stream",
     "text": [
      "pandas\n"
     ]
    }
   ],
   "source": [
    "# узнаем, что случится если ввести данный код\n",
    "print(pd.__name__)\n"
   ]
  }
 ],
 "metadata": {
  "kernelspec": {
   "display_name": "Python 3",
   "language": "python",
   "name": "python3"
  },
  "language_info": {
   "codemirror_mode": {
    "name": "ipython",
    "version": 3
   },
   "file_extension": ".py",
   "mimetype": "text/x-python",
   "name": "python",
   "nbconvert_exporter": "python",
   "pygments_lexer": "ipython3",
   "version": "3.12.3"
  }
 },
 "nbformat": 4,
 "nbformat_minor": 5
}
