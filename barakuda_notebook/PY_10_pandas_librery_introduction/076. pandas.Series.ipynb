{
 "cells": [
  {
   "cell_type": "markdown",
   "id": "110b0c68",
   "metadata": {},
   "source": [
    "## Создание Series"
   ]
  },
  {
   "cell_type": "markdown",
   "id": "58d54bf4",
   "metadata": {},
   "source": [
    "### Способ 1"
   ]
  },
  {
   "cell_type": "code",
   "execution_count": 3,
   "id": "619ba24b",
   "metadata": {},
   "outputs": [
    {
     "data": {
      "text/plain": [
       "RU            Россия\n",
       "US               США\n",
       "UK    Великобритания\n",
       "KZ        Казакхстан\n",
       "BY          Беларусь\n",
       "Name: countries, dtype: object"
      ]
     },
     "metadata": {},
     "output_type": "display_data"
    }
   ],
   "source": [
    "# используем библиотеку\n",
    "import pandas as pd\n",
    "\n",
    "\n",
    "# таким образом можно отобразить обьект Series-ряд\n",
    "countries = pd.Series(\n",
    "    data = ['Россия', 'США', 'Великобритания', 'Казакхстан', 'Беларусь'],\n",
    "    index = ['RU', 'US', 'UK', 'KZ', 'BY'],\n",
    "    name = 'countries'\n",
    ")\n",
    "\n",
    "# Запоминаем что такой способ вывода данных работает только в файлах .ipynb\n",
    "display(countries)"
   ]
  },
  {
   "cell_type": "code",
   "execution_count": 5,
   "id": "0d86cb9b",
   "metadata": {},
   "outputs": [
    {
     "data": {
      "text/plain": [
       "0            Россия\n",
       "1               США\n",
       "2    Великобритания\n",
       "3        Казакхстан\n",
       "4          Беларусь\n",
       "Name: countries, dtype: object"
      ]
     },
     "metadata": {},
     "output_type": "display_data"
    }
   ],
   "source": [
    "# запоминаем что вывод Series без указания index, автоматически присвоит числа\n",
    "import pandas as pd\n",
    "\n",
    "\n",
    "countries = pd.Series(\n",
    "    data = ['Россия', 'США', 'Великобритания', 'Казакхстан', 'Беларусь'],\n",
    "    name = 'countries'\n",
    ")\n",
    "\n",
    "display(countries)"
   ]
  },
  {
   "cell_type": "markdown",
   "id": "06b4886d",
   "metadata": {},
   "source": [
    "### Способ 2"
   ]
  },
  {
   "cell_type": "code",
   "execution_count": 13,
   "id": "82e56819",
   "metadata": {},
   "outputs": [
    {
     "data": {
      "text/plain": [
       "RU            Россия\n",
       "US               США\n",
       "UK    Великобритания\n",
       "BY          Беларусь\n",
       "KZ       Казакхастан\n",
       "Name: countries, dtype: object"
      ]
     },
     "metadata": {},
     "output_type": "display_data"
    }
   ],
   "source": [
    "# можно создать обьект Series при помощи словаря\n",
    "import pandas as pd\n",
    "\n",
    "\n",
    "countries = pd.Series({\n",
    "    'RU': 'Россия',\n",
    "    'US': 'США', \n",
    "    'UK': 'Великобритания',\n",
    "    'BY': 'Беларусь',\n",
    "    'KZ': 'Казакхастан'},\n",
    "    name = 'countries'\n",
    "    )\n",
    "\n",
    "display(countries)"
   ]
  },
  {
   "cell_type": "markdown",
   "id": "109ce684",
   "metadata": {},
   "source": [
    "## Доступ к данным в Series"
   ]
  },
  {
   "cell_type": "markdown",
   "id": "1ebd3489",
   "metadata": {},
   "source": [
    "### .loc[]"
   ]
  },
  {
   "cell_type": "code",
   "execution_count": 17,
   "id": "43c7982e",
   "metadata": {},
   "outputs": [
    {
     "name": "stdout",
     "output_type": "stream",
     "text": [
      "Беларусь\n",
      "************************************************************\n",
      "BY    Беларусь\n",
      "RU      Россия\n",
      "US         США\n",
      "Name: countries, dtype: object\n"
     ]
    }
   ],
   "source": [
    "# получаем инвормацию по индексу\n",
    "print(countries.loc['BY'])\n",
    "\n",
    "# печатаю для лучшего отображения\n",
    "print('*' * 60)\n",
    "\n",
    "# возвращаем обьект Series с информацией сразу по нескольким индексам \n",
    "print(countries.loc[['BY', 'RU', 'US']])"
   ]
  },
  {
   "cell_type": "markdown",
   "id": "7a17884c",
   "metadata": {},
   "source": [
    "### .iloc[]"
   ]
  },
  {
   "cell_type": "code",
   "execution_count": 20,
   "id": "7760e085",
   "metadata": {},
   "outputs": [
    {
     "name": "stdout",
     "output_type": "stream",
     "text": [
      "Казакхастан\n",
      "************************************************************\n",
      "US               США\n",
      "UK    Великобритания\n",
      "BY          Беларусь\n",
      "Name: countries, dtype: object\n"
     ]
    }
   ],
   "source": [
    "# получаем инфомацию по индексу\n",
    "print(countries.iloc[4])\n",
    "\n",
    "print('*' * 60)\n",
    "\n",
    "# получаем информацию о срезе\n",
    "print(countries.iloc[1:4])"
   ]
  }
 ],
 "metadata": {
  "kernelspec": {
   "display_name": "Python 3",
   "language": "python",
   "name": "python3"
  },
  "language_info": {
   "codemirror_mode": {
    "name": "ipython",
    "version": 3
   },
   "file_extension": ".py",
   "mimetype": "text/x-python",
   "name": "python",
   "nbconvert_exporter": "python",
   "pygments_lexer": "ipython3",
   "version": "3.12.3"
  }
 },
 "nbformat": 4,
 "nbformat_minor": 5
}
