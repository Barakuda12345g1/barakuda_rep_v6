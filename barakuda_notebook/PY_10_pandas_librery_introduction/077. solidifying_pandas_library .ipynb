{
 "cells": [
  {
   "cell_type": "markdown",
   "id": "66cee20c",
   "metadata": {},
   "source": [
    "## Задание 2.4"
   ]
  },
  {
   "cell_type": "markdown",
   "id": "d4d76d1e",
   "metadata": {},
   "source": [
    "В аптеку поступают партии лекарств. Их названия находятся в списке names, количество единиц товара находится в списке counts.\n",
    "\n",
    "Например:\n",
    "\n",
    "names = ['chlorhexidine', 'cyntomycin', 'afobazol'] counts = [15, 18, 7]\n",
    "\n",
    "Напишите функцию create_medications(names, counts), которая создает Series medications, индексами которой являются названия лекарств names, а значениями - их количество в поставке counts.\n",
    "\n",
    "А также напишите функцию get_percent(medications, name), которая возвращает долю количества товара с именем name от общего количества товаров в поставке в процентах.\n",
    "\n",
    "Примечание. Не забудьте ипортировать библиотеки."
   ]
  },
  {
   "cell_type": "code",
   "execution_count": 11,
   "id": "9198f3bb",
   "metadata": {},
   "outputs": [
    {
     "name": "stdout",
     "output_type": "stream",
     "text": [
      "chlorhexidine    15\n",
      "cyntomycin       18\n",
      "afobazol          7\n",
      "Name: medications, dtype: int64\n",
      "************************************************************\n",
      "37.5\n"
     ]
    }
   ],
   "source": [
    "# обязательный импорт pandas\n",
    "import pandas as pd\n",
    "\n",
    "\n",
    "names = ['chlorhexidine', 'cyntomycin', 'afobazol'] \n",
    "counts = [15, 18, 7]\n",
    "\n",
    "# инициализирую функцию которая даст информацию\n",
    "# о всех препаратах в виде обьекта .Series\n",
    "def create_medications(names, counts):\n",
    "    # создаю обьект на основе данных\n",
    "    medications = pd.Series(\n",
    "        data = counts,\n",
    "        index = names,\n",
    "        name = 'medications'\n",
    "    )\n",
    "    \n",
    "    return medications\n",
    "\n",
    "# складываю обработанные данные в виде функции в обьект\n",
    "medications = create_medications(names, counts)\n",
    "print(medications)\n",
    "\n",
    "print('*' * 60)\n",
    "\n",
    "# узнаю долю препарата среди всех препаратов\n",
    "def get_percent(medications, name):\n",
    "    # узнаем количество препаратов \n",
    "    name_count = medications.loc[name]\n",
    "    # узнаем общее колтчество\n",
    "    sum_counts = sum(counts)\n",
    "    # узнаем долю в процентах\n",
    "    result = name_count * 100 / sum_counts\n",
    "    \n",
    "    return result\n",
    "\n",
    "\n",
    "print(get_percent(medications, 'chlorhexidine'))\n"
   ]
  }
 ],
 "metadata": {
  "kernelspec": {
   "display_name": "Python 3",
   "language": "python",
   "name": "python3"
  },
  "language_info": {
   "codemirror_mode": {
    "name": "ipython",
    "version": 3
   },
   "file_extension": ".py",
   "mimetype": "text/x-python",
   "name": "python",
   "nbconvert_exporter": "python",
   "pygments_lexer": "ipython3",
   "version": "3.12.3"
  }
 },
 "nbformat": 4,
 "nbformat_minor": 5
}
