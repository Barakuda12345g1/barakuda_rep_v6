{
 "cells": [
  {
   "cell_type": "markdown",
   "id": "66cee20c",
   "metadata": {},
   "source": [
    "## Задание 2.4"
   ]
  },
  {
   "cell_type": "markdown",
   "id": "d4d76d1e",
   "metadata": {},
   "source": [
    "В аптеку поступают партии лекарств. Их названия находятся в списке names, количество единиц товара находится в списке counts.\n",
    "\n",
    "Например:\n",
    "\n",
    "names = ['chlorhexidine', 'cyntomycin', 'afobazol'] counts = [15, 18, 7]\n",
    "\n",
    "Напишите функцию create_medications(names, counts), которая создает Series medications, индексами которой являются названия лекарств names, а значениями - их количество в поставке counts.\n",
    "\n",
    "А также напишите функцию get_percent(medications, name), которая возвращает долю количества товара с именем name от общего количества товаров в поставке в процентах.\n",
    "\n",
    "Примечание. Не забудьте ипортировать библиотеки."
   ]
  },
  {
   "cell_type": "code",
   "execution_count": 11,
   "id": "9198f3bb",
   "metadata": {},
   "outputs": [
    {
     "name": "stdout",
     "output_type": "stream",
     "text": [
      "chlorhexidine    15\n",
      "cyntomycin       18\n",
      "afobazol          7\n",
      "Name: medications, dtype: int64\n",
      "************************************************************\n",
      "37.5\n"
     ]
    }
   ],
   "source": [
    "# обязательный импорт pandas\n",
    "import pandas as pd\n",
    "\n",
    "\n",
    "names = ['chlorhexidine', 'cyntomycin', 'afobazol'] \n",
    "counts = [15, 18, 7]\n",
    "\n",
    "# инициализирую функцию которая даст информацию\n",
    "# о всех препаратах в виде обьекта .Series\n",
    "def create_medications(names, counts):\n",
    "    # создаю обьект на основе данных\n",
    "    medications = pd.Series(\n",
    "        data = counts,\n",
    "        index = names,\n",
    "        name = 'medications'\n",
    "    )\n",
    "    \n",
    "    return medications\n",
    "\n",
    "# складываю обработанные данные в виде функции в обьект\n",
    "medications = create_medications(names, counts)\n",
    "print(medications)\n",
    "\n",
    "print('*' * 60)\n",
    "\n",
    "# узнаю долю препарата среди всех препаратов\n",
    "def get_percent(medications, name):\n",
    "    # узнаем количество препаратов \n",
    "    name_count = medications.loc[name]\n",
    "    # узнаем общее колтчество\n",
    "    sum_counts = sum(counts)\n",
    "    # узнаем долю в процентах\n",
    "    result = name_count * 100 / sum_counts\n",
    "    \n",
    "    return result\n",
    "\n",
    "\n",
    "print(get_percent(medications, 'chlorhexidine'))\n"
   ]
  },
  {
   "cell_type": "markdown",
   "id": "2268b4e9",
   "metadata": {},
   "source": [
    "## Задача 3.5"
   ]
  },
  {
   "cell_type": "markdown",
   "id": "16e255b8",
   "metadata": {},
   "source": [
    "Вы работаете аналитиком в компании ScienceYou. Ваша задача — проанализировать чистую прибыль.\n",
    "\n",
    "Доходы (income), расходы (expenses) и годы (years), соответствующие им, предоставлены вам в виде списков.\n",
    "\n",
    "Например:\n",
    "\n",
    "income = [478, 512, 196]\n",
    "expenses = [156, 130, 270]\n",
    "years = [2018, 2019, 2020]\n",
    "\n",
    "Создайте функцию create_companyDF(income, expenses, years), которая возвращает DataFrame, составленный из входных данных со столбцами Income и Expenses и индексами, соответствующими годам рассматриваемого периода.\n",
    "\n",
    "Пример такого DataFrame представлен ниже.\n",
    "\n",
    "    Income  Expenses\n",
    "2018    478     156\n",
    "2019    512     130\n",
    "2020    196     270\n",
    "\n",
    "Также напишите функцию get_profit(df, year), которая возвращает разницу между доходом и расходом, записанными в таблице df, за год year.\n",
    "\n",
    "Примечание. Если информация за запрашиваемый год не указана в вашей таблице, вам необходимо вернуть None."
   ]
  },
  {
   "cell_type": "code",
   "execution_count": 18,
   "id": "28000ac6",
   "metadata": {},
   "outputs": [
    {
     "name": "stdout",
     "output_type": "stream",
     "text": [
      "      Income  Expenses\n",
      "2018     478       156\n",
      "2019     512       130\n",
      "2020     196       270\n",
      "************************************************************\n",
      "None\n",
      "************************************************************\n",
      "382\n"
     ]
    }
   ],
   "source": [
    "# получаем доступ к pandas\n",
    "import pandas as pd\n",
    "\n",
    "\n",
    "income = [478, 512, 196]\n",
    "expenses = [156, 130, 270]\n",
    "years = [2018, 2019, 2020]\n",
    "\n",
    "# создаем функцию\n",
    "def create_companyDF(income, expenses, years):\n",
    "    # закрепляем работу по созданию таблицы первым способом через словарь\n",
    "    company_df = pd.DataFrame({\n",
    "        'Income': income,\n",
    "        'Expenses': expenses,\n",
    "    })\n",
    "    # расставляем ассоциативные метки\n",
    "    company_df.index = years\n",
    "    \n",
    "    # смотрим на таблицу\n",
    "    return company_df\n",
    "\n",
    "print(create_companyDF(income, expenses, years))\n",
    "\n",
    "# помещаем таблицу в переменную\n",
    "df = create_companyDF(income, expenses, years)\n",
    "# вычисляем разницу между доходом и расходом\n",
    "def get_profit(df, year):\n",
    "    # создаю условие проверяющее что введенный аргумент\n",
    "    # действительно находится в списке ассоциативных меток\n",
    "    if year in years:\n",
    "        # закидываем нужные данные\n",
    "        # из табылицы в переменные для проведения расчета\n",
    "        income = df.loc[year, 'Income']\n",
    "        expenses = df.loc[year, 'Expenses']\n",
    "        result = income - expenses\n",
    "        return result\n",
    "    # если года в таблице нет, то возвращаю None\n",
    "    else:\n",
    "        return None\n",
    "\n",
    "print('*' * 60)\n",
    "\n",
    "print(get_profit(df, 2012))    \n",
    "    \n",
    "print('*' * 60)\n",
    "\n",
    "print(get_profit(df, 2019))\n",
    "    "
   ]
  }
 ],
 "metadata": {
  "kernelspec": {
   "display_name": "Python 3",
   "language": "python",
   "name": "python3"
  },
  "language_info": {
   "codemirror_mode": {
    "name": "ipython",
    "version": 3
   },
   "file_extension": ".py",
   "mimetype": "text/x-python",
   "name": "python",
   "nbconvert_exporter": "python",
   "pygments_lexer": "ipython3",
   "version": "3.12.3"
  }
 },
 "nbformat": 4,
 "nbformat_minor": 5
}
