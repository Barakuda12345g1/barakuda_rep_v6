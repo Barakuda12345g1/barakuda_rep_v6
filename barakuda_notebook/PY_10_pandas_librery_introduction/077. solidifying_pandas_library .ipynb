{
 "cells": [
  {
   "cell_type": "markdown",
   "id": "66cee20c",
   "metadata": {},
   "source": [
    "## Задание 2.4"
   ]
  },
  {
   "cell_type": "markdown",
   "id": "d4d76d1e",
   "metadata": {},
   "source": [
    "В аптеку поступают партии лекарств. Их названия находятся в списке names, количество единиц товара находится в списке counts.\n",
    "\n",
    "Например:\n",
    "\n",
    "names = ['chlorhexidine', 'cyntomycin', 'afobazol'] counts = [15, 18, 7]\n",
    "\n",
    "Напишите функцию create_medications(names, counts), которая создает Series medications, индексами которой являются названия лекарств names, а значениями - их количество в поставке counts.\n",
    "\n",
    "А также напишите функцию get_percent(medications, name), которая возвращает долю количества товара с именем name от общего количества товаров в поставке в процентах.\n",
    "\n",
    "Примечание. Не забудьте ипортировать библиотеки."
   ]
  },
  {
   "cell_type": "code",
   "execution_count": 11,
   "id": "9198f3bb",
   "metadata": {},
   "outputs": [
    {
     "name": "stdout",
     "output_type": "stream",
     "text": [
      "chlorhexidine    15\n",
      "cyntomycin       18\n",
      "afobazol          7\n",
      "Name: medications, dtype: int64\n",
      "************************************************************\n",
      "37.5\n"
     ]
    }
   ],
   "source": [
    "# обязательный импорт pandas\n",
    "import pandas as pd\n",
    "\n",
    "\n",
    "names = ['chlorhexidine', 'cyntomycin', 'afobazol'] \n",
    "counts = [15, 18, 7]\n",
    "\n",
    "# инициализирую функцию которая даст информацию\n",
    "# о всех препаратах в виде обьекта .Series\n",
    "def create_medications(names, counts):\n",
    "    # создаю обьект на основе данных\n",
    "    medications = pd.Series(\n",
    "        data = counts,\n",
    "        index = names,\n",
    "        name = 'medications'\n",
    "    )\n",
    "    \n",
    "    return medications\n",
    "\n",
    "# складываю обработанные данные в виде функции в обьект\n",
    "medications = create_medications(names, counts)\n",
    "print(medications)\n",
    "\n",
    "print('*' * 60)\n",
    "\n",
    "# узнаю долю препарата среди всех препаратов\n",
    "def get_percent(medications, name):\n",
    "    # узнаем количество препаратов \n",
    "    name_count = medications.loc[name]\n",
    "    # узнаем общее колтчество\n",
    "    sum_counts = sum(counts)\n",
    "    # узнаем долю в процентах\n",
    "    result = name_count * 100 / sum_counts\n",
    "    \n",
    "    return result\n",
    "\n",
    "\n",
    "print(get_percent(medications, 'chlorhexidine'))\n"
   ]
  },
  {
   "cell_type": "markdown",
   "id": "2268b4e9",
   "metadata": {},
   "source": [
    "## Задача 3.5"
   ]
  },
  {
   "cell_type": "markdown",
   "id": "16e255b8",
   "metadata": {},
   "source": [
    "Вы работаете аналитиком в компании ScienceYou. Ваша задача — проанализировать чистую прибыль.\n",
    "\n",
    "Доходы (income), расходы (expenses) и годы (years), соответствующие им, предоставлены вам в виде списков.\n",
    "\n",
    "Например:\n",
    "\n",
    "income = [478, 512, 196]\n",
    "expenses = [156, 130, 270]\n",
    "years = [2018, 2019, 2020]\n",
    "\n",
    "Создайте функцию create_companyDF(income, expenses, years), которая возвращает DataFrame, составленный из входных данных со столбцами Income и Expenses и индексами, соответствующими годам рассматриваемого периода.\n",
    "\n",
    "Пример такого DataFrame представлен ниже.\n",
    "\n",
    "    Income  Expenses\n",
    "2018    478     156\n",
    "2019    512     130\n",
    "2020    196     270\n",
    "\n",
    "Также напишите функцию get_profit(df, year), которая возвращает разницу между доходом и расходом, записанными в таблице df, за год year.\n",
    "\n",
    "Примечание. Если информация за запрашиваемый год не указана в вашей таблице, вам необходимо вернуть None."
   ]
  },
  {
   "cell_type": "code",
   "execution_count": 18,
   "id": "28000ac6",
   "metadata": {},
   "outputs": [
    {
     "name": "stdout",
     "output_type": "stream",
     "text": [
      "      Income  Expenses\n",
      "2018     478       156\n",
      "2019     512       130\n",
      "2020     196       270\n",
      "************************************************************\n",
      "None\n",
      "************************************************************\n",
      "382\n"
     ]
    }
   ],
   "source": [
    "# получаем доступ к pandas\n",
    "import pandas as pd\n",
    "\n",
    "\n",
    "income = [478, 512, 196]\n",
    "expenses = [156, 130, 270]\n",
    "years = [2018, 2019, 2020]\n",
    "\n",
    "# создаем функцию\n",
    "def create_companyDF(income, expenses, years):\n",
    "    # закрепляем работу по созданию таблицы первым способом через словарь\n",
    "    company_df = pd.DataFrame({\n",
    "        'Income': income,\n",
    "        'Expenses': expenses,\n",
    "    })\n",
    "    # расставляем ассоциативные метки\n",
    "    company_df.index = years\n",
    "    \n",
    "    # смотрим на таблицу\n",
    "    return company_df\n",
    "\n",
    "print(create_companyDF(income, expenses, years))\n",
    "\n",
    "# помещаем таблицу в переменную\n",
    "df = create_companyDF(income, expenses, years)\n",
    "# вычисляем разницу между доходом и расходом\n",
    "def get_profit(df, year):\n",
    "    # создаю условие проверяющее что введенный аргумент\n",
    "    # действительно находится в списке ассоциативных меток\n",
    "    if year in years:\n",
    "        # закидываем нужные данные\n",
    "        # из табылицы в переменные для проведения расчета\n",
    "        income = df.loc[year, 'Income']\n",
    "        expenses = df.loc[year, 'Expenses']\n",
    "        result = income - expenses\n",
    "        return result\n",
    "    # если года в таблице нет, то возвращаю None\n",
    "    else:\n",
    "        return None\n",
    "\n",
    "print('*' * 60)\n",
    "\n",
    "print(get_profit(df, 2012))    \n",
    "    \n",
    "print('*' * 60)\n",
    "\n",
    "print(get_profit(df, 2019))\n",
    "    "
   ]
  },
  {
   "cell_type": "markdown",
   "id": "d31adb3b",
   "metadata": {},
   "source": [
    "## Задание 6.1"
   ]
  },
  {
   "cell_type": "markdown",
   "id": "f6633c15",
   "metadata": {},
   "source": [
    "Дана таблица data = pd.DataFrame([[0,1], [1, 0], [1, 1]], columns=['А', 'B']). Что выведет код print(data.shape) ?"
   ]
  },
  {
   "cell_type": "code",
   "execution_count": null,
   "id": "97966397",
   "metadata": {},
   "outputs": [
    {
     "data": {
      "text/html": [
       "<div>\n",
       "<style scoped>\n",
       "    .dataframe tbody tr th:only-of-type {\n",
       "        vertical-align: middle;\n",
       "    }\n",
       "\n",
       "    .dataframe tbody tr th {\n",
       "        vertical-align: top;\n",
       "    }\n",
       "\n",
       "    .dataframe thead th {\n",
       "        text-align: right;\n",
       "    }\n",
       "</style>\n",
       "<table border=\"1\" class=\"dataframe\">\n",
       "  <thead>\n",
       "    <tr style=\"text-align: right;\">\n",
       "      <th></th>\n",
       "      <th>A</th>\n",
       "      <th>B</th>\n",
       "    </tr>\n",
       "  </thead>\n",
       "  <tbody>\n",
       "    <tr>\n",
       "      <th>0</th>\n",
       "      <td>0</td>\n",
       "      <td>1</td>\n",
       "    </tr>\n",
       "    <tr>\n",
       "      <th>1</th>\n",
       "      <td>1</td>\n",
       "      <td>0</td>\n",
       "    </tr>\n",
       "    <tr>\n",
       "      <th>2</th>\n",
       "      <td>1</td>\n",
       "      <td>1</td>\n",
       "    </tr>\n",
       "  </tbody>\n",
       "</table>\n",
       "</div>"
      ],
      "text/plain": [
       "   A  B\n",
       "0  0  1\n",
       "1  1  0\n",
       "2  1  1"
      ]
     },
     "metadata": {},
     "output_type": "display_data"
    },
    {
     "data": {
      "text/plain": [
       "(3, 2)"
      ]
     },
     "execution_count": 2,
     "metadata": {},
     "output_type": "execute_result"
    }
   ],
   "source": [
    "# узнаем форму матрицы в DataFrame\n",
    "import pandas as pd\n",
    "\n",
    "\n",
    "data_frame_ex = pd.DataFrame([[0, 1], [1, 0], [1, 1]], columns=['A', 'B'])\n",
    "display(data_frame_ex)\n",
    "data_frame_ex.shape"
   ]
  },
  {
   "cell_type": "markdown",
   "id": "ddce5eac",
   "metadata": {},
   "source": [
    "## Задание 6.8"
   ]
  },
  {
   "cell_type": "markdown",
   "id": "b279e3ae",
   "metadata": {},
   "source": [
    "Выберите верные утверждения в отношении таблицы melb_data:\n"
   ]
  },
  {
   "cell_type": "code",
   "execution_count": null,
   "id": "559259f8",
   "metadata": {},
   "outputs": [
    {
     "data": {
      "text/plain": [
       "Regionname\n",
       "Southern Metropolitan         4695\n",
       "Northern Metropolitan         3890\n",
       "Western Metropolitan          2948\n",
       "Eastern Metropolitan          1471\n",
       "South-Eastern Metropolitan     450\n",
       "Eastern Victoria                53\n",
       "Northern Victoria               41\n",
       "Western Victoria                32\n",
       "Name: count, dtype: int64"
      ]
     },
     "execution_count": 7,
     "metadata": {},
     "output_type": "execute_result"
    }
   ],
   "source": [
    "# используем библиотеку pandas\n",
    "import pandas as pd\n",
    "\n",
    "\n",
    "# читаем csv-файл и создаем переменную\n",
    "melb_data = pd.read_csv('data/melb_data.csv', sep=',')\n",
    "\n",
    "# находим район с самым малым количеством объектов\n",
    "melb_data['Regionname'].value_counts()\n"
   ]
  },
  {
   "cell_type": "code",
   "execution_count": null,
   "id": "a6ddb968",
   "metadata": {},
   "outputs": [
    {
     "data": {
      "text/plain": [
       "Coordinates\n",
       "-37.8361, 144.9966    12\n",
       "-37.8035, 144.985      8\n",
       "-37.8424, 144.9449     6\n",
       "-37.8231, 144.9906     5\n",
       "-37.8127, 145.0094     5\n",
       "                      ..\n",
       "-37.7933, 144.9556     1\n",
       "-37.7931, 144.9565     1\n",
       "-37.7852, 144.9589     1\n",
       "-37.7965, 144.9544     1\n",
       "-37.9213, 145.0854     1\n",
       "Name: count, Length: 13097, dtype: int64"
      ]
     },
     "execution_count": 8,
     "metadata": {},
     "output_type": "execute_result"
    }
   ],
   "source": [
    "# узнаем есть ли у разных адресов одинаковые координаты\n",
    "melb_data['Coordinates'].value_counts()"
   ]
  },
  {
   "cell_type": "code",
   "execution_count": 16,
   "id": "f2ea5e19",
   "metadata": {},
   "outputs": [
    {
     "name": "stdout",
     "output_type": "stream",
     "text": [
      "<class 'pandas.core.frame.DataFrame'>\n",
      "RangeIndex: 13580 entries, 0 to 13579\n",
      "Data columns (total 23 columns):\n",
      " #   Column         Non-Null Count  Dtype  \n",
      "---  ------         --------------  -----  \n",
      " 0   index          13580 non-null  int64  \n",
      " 1   Suburb         13580 non-null  object \n",
      " 2   Address        13580 non-null  object \n",
      " 3   Rooms          13580 non-null  int64  \n",
      " 4   Type           13580 non-null  object \n",
      " 5   Price          13580 non-null  float64\n",
      " 6   Method         13580 non-null  object \n",
      " 7   SellerG        13580 non-null  object \n",
      " 8   Date           13580 non-null  object \n",
      " 9   Distance       13580 non-null  float64\n",
      " 10  Postcode       13580 non-null  int64  \n",
      " 11  Bedroom        13580 non-null  float64\n",
      " 12  Bathroom       13580 non-null  float64\n",
      " 13  Car            13580 non-null  float64\n",
      " 14  Landsize       13580 non-null  float64\n",
      " 15  BuildingArea   13580 non-null  float64\n",
      " 16  YearBuilt      13580 non-null  float64\n",
      " 17  CouncilArea    12211 non-null  object \n",
      " 18  Lattitude      13580 non-null  float64\n",
      " 19  Longtitude     13580 non-null  float64\n",
      " 20  Regionname     13580 non-null  object \n",
      " 21  Propertycount  13580 non-null  float64\n",
      " 22  Coordinates    13580 non-null  object \n",
      "dtypes: float64(11), int64(3), object(9)\n",
      "memory usage: 2.4+ MB\n"
     ]
    },
    {
     "data": {
      "text/plain": [
       "Type\n",
       "h    0.695803\n",
       "u    0.222165\n",
       "t    0.082032\n",
       "Name: proportion, dtype: float64"
      ]
     },
     "execution_count": 16,
     "metadata": {},
     "output_type": "execute_result"
    }
   ],
   "source": [
    "# закрепляем наименование колонок\n",
    "melb_data.info()\n",
    "# узнаем количество домов типа тайн-хаус от общества количества типов\n",
    "melb_data['Type'].value_counts(normalize=True)"
   ]
  },
  {
   "cell_type": "markdown",
   "id": "426e2eee",
   "metadata": {},
   "source": [
    "## Задание 7.3"
   ]
  },
  {
   "cell_type": "markdown",
   "id": "1dd569ec",
   "metadata": {},
   "source": [
    "Чему равно стандартное отклонение (разброс) расстояния от центра города до объекта недвижимости?"
   ]
  },
  {
   "cell_type": "code",
   "execution_count": 25,
   "id": "33410701",
   "metadata": {},
   "outputs": [
    {
     "data": {
      "text/plain": [
       "6"
      ]
     },
     "execution_count": 25,
     "metadata": {},
     "output_type": "execute_result"
    }
   ],
   "source": [
    "# удомным способо работаем со столбиками и агрегирующими методами\n",
    "round(melb_data['Distance'].std())"
   ]
  },
  {
   "cell_type": "markdown",
   "id": "cc45d5d2",
   "metadata": {},
   "source": [
    "## Задание 7.4"
   ]
  },
  {
   "cell_type": "markdown",
   "id": "9757a4e0",
   "metadata": {},
   "source": [
    "Чему равно отклонение (в процентах) медианного значения площади здания от его среднего значения?"
   ]
  },
  {
   "cell_type": "code",
   "execution_count": 27,
   "id": "2aec136b",
   "metadata": {},
   "outputs": [
    {
     "data": {
      "text/plain": [
       "9.764079662364534"
      ]
     },
     "execution_count": 27,
     "metadata": {},
     "output_type": "execute_result"
    }
   ],
   "source": [
    "# находим медианной значение\n",
    "area_median = melb_data['BuildingArea'].median()\n",
    "# кратчайшим способом находим среднее значение\n",
    "area_mean = melb_data['BuildingArea'].mean()\n",
    "# находим стандартное отклонение\n",
    "std_result = (area_median - area_mean) / area_mean\n",
    "# ответ выдаем по модулю и узнаем в процентах\n",
    "abs(std_result) * 100"
   ]
  },
  {
   "cell_type": "markdown",
   "id": "04ba3c54",
   "metadata": {},
   "source": [
    "## Задание 7.5"
   ]
  },
  {
   "cell_type": "markdown",
   "id": "364cc464",
   "metadata": {},
   "source": [
    "Задан ряд чисел [1, 2, 4, 2, 3, 2, 1, 5, 6]. Чему равна мода в данном ряду?"
   ]
  },
  {
   "cell_type": "code",
   "execution_count": 3,
   "id": "ee4dbdc9",
   "metadata": {},
   "outputs": [
    {
     "data": {
      "text/plain": [
       "0    2\n",
       "dtype: int64"
      ]
     },
     "execution_count": 3,
     "metadata": {},
     "output_type": "execute_result"
    }
   ],
   "source": [
    "# импортируем библиотеку\n",
    "import pandas as pd\n",
    "\n",
    "\n",
    "# из обьекта типа .Series будем искать моду\n",
    "ser_mode = pd.Series([1, 2, 4, 2, 3, 2, 1, 5, 6])\n",
    "ser_mode.mode()"
   ]
  },
  {
   "cell_type": "markdown",
   "id": "84e82f0c",
   "metadata": {},
   "source": [
    "## Задание 7.6"
   ]
  },
  {
   "cell_type": "markdown",
   "id": "63c203e6",
   "metadata": {},
   "source": [
    "Сколько спален чаще всего встречается в домах в Мельбурне?"
   ]
  },
  {
   "cell_type": "code",
   "execution_count": 4,
   "id": "c525f2ad",
   "metadata": {},
   "outputs": [
    {
     "data": {
      "text/plain": [
       "0    3\n",
       "Name: Rooms, dtype: int64"
      ]
     },
     "execution_count": 4,
     "metadata": {},
     "output_type": "execute_result"
    }
   ],
   "source": [
    "# читаем для использования csv-файл\n",
    "melb_data = pd.read_csv('data/melb_data.csv', sep=',')\n",
    "\n",
    "# находим моду в колонне Rooms\n",
    "melb_data['Rooms'].mode()"
   ]
  },
  {
   "cell_type": "markdown",
   "id": "543b9439",
   "metadata": {},
   "source": [
    "## Задание 8.1"
   ]
  },
  {
   "cell_type": "markdown",
   "id": "dd34a384",
   "metadata": {},
   "source": [
    "У скольких объектов недвижимости из таблицы melb_data отсутствуют ванные комнаты?"
   ]
  },
  {
   "cell_type": "code",
   "execution_count": null,
   "id": "f302ed56",
   "metadata": {},
   "outputs": [
    {
     "data": {
      "text/plain": [
       "34"
      ]
     },
     "execution_count": 8,
     "metadata": {},
     "output_type": "execute_result"
    }
   ],
   "source": [
    "mask = melb_data['Bathroom'] == 0\n",
    "# ищем количество в таблице самым быстрым способом\n",
    "melb_data[mask].shape[0]"
   ]
  },
  {
   "cell_type": "markdown",
   "id": "ef473e09",
   "metadata": {},
   "source": [
    "## Задание 8.2"
   ]
  },
  {
   "cell_type": "markdown",
   "id": "a761e042",
   "metadata": {},
   "source": [
    "Сколько в таблице melb_data объектов недвижимости, которые были проданы риелторской компанией Nelson и стоимость которых составила больше 3 миллионов?"
   ]
  },
  {
   "cell_type": "code",
   "execution_count": null,
   "id": "9addbc3c",
   "metadata": {},
   "outputs": [
    {
     "data": {
      "text/plain": [
       "5"
      ]
     },
     "execution_count": 10,
     "metadata": {},
     "output_type": "execute_result"
    }
   ],
   "source": [
    "# запомнаем как выглялит упрощенная запись фильтрации\n",
    "melb_data[(melb_data['SellerG'] == 'Nelson') & (melb_data['Price'] > 3000000)].shape[0]"
   ]
  },
  {
   "cell_type": "markdown",
   "id": "d12b5bb7",
   "metadata": {},
   "source": [
    "## Задание 8.3"
   ]
  },
  {
   "cell_type": "markdown",
   "id": "56f5c8b5",
   "metadata": {},
   "source": [
    "Какова минимальная стоимость участка без здания (площадь здания равна 0) в таблице melb_data?"
   ]
  },
  {
   "cell_type": "code",
   "execution_count": 14,
   "id": "d018da45",
   "metadata": {},
   "outputs": [
    {
     "data": {
      "text/plain": [
       "412500.0"
      ]
     },
     "execution_count": 14,
     "metadata": {},
     "output_type": "execute_result"
    }
   ],
   "source": [
    "# находим решение по ключам и с агрегирующим методом\n",
    "melb_data[melb_data['BuildingArea'] == 0]['Price'].min()\n"
   ]
  },
  {
   "cell_type": "markdown",
   "id": "35aa1a76",
   "metadata": {},
   "source": [
    "## Задание 8.4"
   ]
  },
  {
   "cell_type": "markdown",
   "id": "8164b6ce",
   "metadata": {},
   "source": [
    "Какова средняя цена объектов недвижимости в таблице melb_data с ценой менее одного миллиона, в которых либо количество комнат больше пяти, либо здание моложе 2015 года?"
   ]
  },
  {
   "cell_type": "code",
   "execution_count": 18,
   "id": "0e84259d",
   "metadata": {},
   "outputs": [
    {
     "data": {
      "text/plain": [
       "769239"
      ]
     },
     "execution_count": 18,
     "metadata": {},
     "output_type": "execute_result"
    }
   ],
   "source": [
    "# находим результат фильтрации\n",
    "round(melb_data[((melb_data['Rooms'] > 5) | (melb_data['YearBuilt'] > 2015)) & \\\n",
    "                (melb_data['Price'] < 1000000)]['Price'].mean())"
   ]
  },
  {
   "cell_type": "markdown",
   "id": "412ee7af",
   "metadata": {},
   "source": [
    "## Задание 8.5"
   ]
  },
  {
   "cell_type": "markdown",
   "id": "8da42a90",
   "metadata": {},
   "source": [
    "В каком районе Мельбурна чаще всего продаются виллы и коттеджи (тип здания — h) с ценой меньше трёх миллионов?\n"
   ]
  },
  {
   "cell_type": "code",
   "execution_count": null,
   "id": "693e43f1",
   "metadata": {},
   "outputs": [
    {
     "data": {
      "text/plain": [
       "0    Southern Metropolitan\n",
       "Name: Regionname, dtype: object"
      ]
     },
     "execution_count": 30,
     "metadata": {},
     "output_type": "execute_result"
    }
   ],
   "source": [
    "# находим райно из фильтрованных условий\n",
    "melb_data[(melb_data['Type'] == 'h') & melb_data['Price'] < 3000000]\\\n",
    "    ['Regionname'].mode()"
   ]
  }
 ],
 "metadata": {
  "kernelspec": {
   "display_name": "Python 3",
   "language": "python",
   "name": "python3"
  },
  "language_info": {
   "codemirror_mode": {
    "name": "ipython",
    "version": 3
   },
   "file_extension": ".py",
   "mimetype": "text/x-python",
   "name": "python",
   "nbconvert_exporter": "python",
   "pygments_lexer": "ipython3",
   "version": "3.12.3"
  }
 },
 "nbformat": 4,
 "nbformat_minor": 5
}
