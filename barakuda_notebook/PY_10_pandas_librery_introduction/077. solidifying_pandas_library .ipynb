{
 "cells": [
  {
   "cell_type": "markdown",
   "id": "66cee20c",
   "metadata": {},
   "source": [
    "## Задание 2.4"
   ]
  },
  {
   "cell_type": "markdown",
   "id": "d4d76d1e",
   "metadata": {},
   "source": [
    "В аптеку поступают партии лекарств. Их названия находятся в списке names, количество единиц товара находится в списке counts.\n",
    "\n",
    "Например:\n",
    "\n",
    "names = ['chlorhexidine', 'cyntomycin', 'afobazol'] counts = [15, 18, 7]\n",
    "\n",
    "Напишите функцию create_medications(names, counts), которая создает Series medications, индексами которой являются названия лекарств names, а значениями - их количество в поставке counts.\n",
    "\n",
    "А также напишите функцию get_percent(medications, name), которая возвращает долю количества товара с именем name от общего количества товаров в поставке в процентах.\n",
    "\n",
    "Примечание. Не забудьте ипортировать библиотеки."
   ]
  },
  {
   "cell_type": "code",
   "execution_count": 11,
   "id": "9198f3bb",
   "metadata": {},
   "outputs": [
    {
     "name": "stdout",
     "output_type": "stream",
     "text": [
      "chlorhexidine    15\n",
      "cyntomycin       18\n",
      "afobazol          7\n",
      "Name: medications, dtype: int64\n",
      "************************************************************\n",
      "37.5\n"
     ]
    }
   ],
   "source": [
    "# обязательный импорт pandas\n",
    "import pandas as pd\n",
    "\n",
    "\n",
    "names = ['chlorhexidine', 'cyntomycin', 'afobazol'] \n",
    "counts = [15, 18, 7]\n",
    "\n",
    "# инициализирую функцию которая даст информацию\n",
    "# о всех препаратах в виде обьекта .Series\n",
    "def create_medications(names, counts):\n",
    "    # создаю обьект на основе данных\n",
    "    medications = pd.Series(\n",
    "        data = counts,\n",
    "        index = names,\n",
    "        name = 'medications'\n",
    "    )\n",
    "    \n",
    "    return medications\n",
    "\n",
    "# складываю обработанные данные в виде функции в обьект\n",
    "medications = create_medications(names, counts)\n",
    "print(medications)\n",
    "\n",
    "print('*' * 60)\n",
    "\n",
    "# узнаю долю препарата среди всех препаратов\n",
    "def get_percent(medications, name):\n",
    "    # узнаем количество препаратов \n",
    "    name_count = medications.loc[name]\n",
    "    # узнаем общее колтчество\n",
    "    sum_counts = sum(counts)\n",
    "    # узнаем долю в процентах\n",
    "    result = name_count * 100 / sum_counts\n",
    "    \n",
    "    return result\n",
    "\n",
    "\n",
    "print(get_percent(medications, 'chlorhexidine'))\n"
   ]
  },
  {
   "cell_type": "markdown",
   "id": "2268b4e9",
   "metadata": {},
   "source": [
    "## Задача 3.5"
   ]
  },
  {
   "cell_type": "markdown",
   "id": "16e255b8",
   "metadata": {},
   "source": [
    "Вы работаете аналитиком в компании ScienceYou. Ваша задача — проанализировать чистую прибыль.\n",
    "\n",
    "Доходы (income), расходы (expenses) и годы (years), соответствующие им, предоставлены вам в виде списков.\n",
    "\n",
    "Например:\n",
    "\n",
    "income = [478, 512, 196]\n",
    "expenses = [156, 130, 270]\n",
    "years = [2018, 2019, 2020]\n",
    "\n",
    "Создайте функцию create_companyDF(income, expenses, years), которая возвращает DataFrame, составленный из входных данных со столбцами Income и Expenses и индексами, соответствующими годам рассматриваемого периода.\n",
    "\n",
    "Пример такого DataFrame представлен ниже.\n",
    "\n",
    "    Income  Expenses\n",
    "2018    478     156\n",
    "2019    512     130\n",
    "2020    196     270\n",
    "\n",
    "Также напишите функцию get_profit(df, year), которая возвращает разницу между доходом и расходом, записанными в таблице df, за год year.\n",
    "\n",
    "Примечание. Если информация за запрашиваемый год не указана в вашей таблице, вам необходимо вернуть None."
   ]
  },
  {
   "cell_type": "code",
   "execution_count": 18,
   "id": "28000ac6",
   "metadata": {},
   "outputs": [
    {
     "name": "stdout",
     "output_type": "stream",
     "text": [
      "      Income  Expenses\n",
      "2018     478       156\n",
      "2019     512       130\n",
      "2020     196       270\n",
      "************************************************************\n",
      "None\n",
      "************************************************************\n",
      "382\n"
     ]
    }
   ],
   "source": [
    "# получаем доступ к pandas\n",
    "import pandas as pd\n",
    "\n",
    "\n",
    "income = [478, 512, 196]\n",
    "expenses = [156, 130, 270]\n",
    "years = [2018, 2019, 2020]\n",
    "\n",
    "# создаем функцию\n",
    "def create_companyDF(income, expenses, years):\n",
    "    # закрепляем работу по созданию таблицы первым способом через словарь\n",
    "    company_df = pd.DataFrame({\n",
    "        'Income': income,\n",
    "        'Expenses': expenses,\n",
    "    })\n",
    "    # расставляем ассоциативные метки\n",
    "    company_df.index = years\n",
    "    \n",
    "    # смотрим на таблицу\n",
    "    return company_df\n",
    "\n",
    "print(create_companyDF(income, expenses, years))\n",
    "\n",
    "# помещаем таблицу в переменную\n",
    "df = create_companyDF(income, expenses, years)\n",
    "# вычисляем разницу между доходом и расходом\n",
    "def get_profit(df, year):\n",
    "    # создаю условие проверяющее что введенный аргумент\n",
    "    # действительно находится в списке ассоциативных меток\n",
    "    if year in years:\n",
    "        # закидываем нужные данные\n",
    "        # из табылицы в переменные для проведения расчета\n",
    "        income = df.loc[year, 'Income']\n",
    "        expenses = df.loc[year, 'Expenses']\n",
    "        result = income - expenses\n",
    "        return result\n",
    "    # если года в таблице нет, то возвращаю None\n",
    "    else:\n",
    "        return None\n",
    "\n",
    "print('*' * 60)\n",
    "\n",
    "print(get_profit(df, 2012))    \n",
    "    \n",
    "print('*' * 60)\n",
    "\n",
    "print(get_profit(df, 2019))\n",
    "    "
   ]
  },
  {
   "cell_type": "markdown",
   "id": "d31adb3b",
   "metadata": {},
   "source": [
    "## Задание 6.1"
   ]
  },
  {
   "cell_type": "markdown",
   "id": "f6633c15",
   "metadata": {},
   "source": [
    "Дана таблица data = pd.DataFrame([[0,1], [1, 0], [1, 1]], columns=['А', 'B']). Что выведет код print(data.shape) ?"
   ]
  },
  {
   "cell_type": "code",
   "execution_count": null,
   "id": "97966397",
   "metadata": {},
   "outputs": [
    {
     "data": {
      "text/html": [
       "<div>\n",
       "<style scoped>\n",
       "    .dataframe tbody tr th:only-of-type {\n",
       "        vertical-align: middle;\n",
       "    }\n",
       "\n",
       "    .dataframe tbody tr th {\n",
       "        vertical-align: top;\n",
       "    }\n",
       "\n",
       "    .dataframe thead th {\n",
       "        text-align: right;\n",
       "    }\n",
       "</style>\n",
       "<table border=\"1\" class=\"dataframe\">\n",
       "  <thead>\n",
       "    <tr style=\"text-align: right;\">\n",
       "      <th></th>\n",
       "      <th>A</th>\n",
       "      <th>B</th>\n",
       "    </tr>\n",
       "  </thead>\n",
       "  <tbody>\n",
       "    <tr>\n",
       "      <th>0</th>\n",
       "      <td>0</td>\n",
       "      <td>1</td>\n",
       "    </tr>\n",
       "    <tr>\n",
       "      <th>1</th>\n",
       "      <td>1</td>\n",
       "      <td>0</td>\n",
       "    </tr>\n",
       "    <tr>\n",
       "      <th>2</th>\n",
       "      <td>1</td>\n",
       "      <td>1</td>\n",
       "    </tr>\n",
       "  </tbody>\n",
       "</table>\n",
       "</div>"
      ],
      "text/plain": [
       "   A  B\n",
       "0  0  1\n",
       "1  1  0\n",
       "2  1  1"
      ]
     },
     "metadata": {},
     "output_type": "display_data"
    },
    {
     "data": {
      "text/plain": [
       "(3, 2)"
      ]
     },
     "execution_count": 2,
     "metadata": {},
     "output_type": "execute_result"
    }
   ],
   "source": [
    "# узнаем форму матрицы в DataFrame\n",
    "import pandas as pd\n",
    "\n",
    "\n",
    "data_frame_ex = pd.DataFrame([[0, 1], [1, 0], [1, 1]], columns=['A', 'B'])\n",
    "display(data_frame_ex)\n",
    "data_frame_ex.shape"
   ]
  },
  {
   "cell_type": "markdown",
   "id": "ddce5eac",
   "metadata": {},
   "source": [
    "## Задание 6.8"
   ]
  },
  {
   "cell_type": "markdown",
   "id": "b279e3ae",
   "metadata": {},
   "source": [
    "Выберите верные утверждения в отношении таблицы melb_data:\n"
   ]
  },
  {
   "cell_type": "code",
   "execution_count": null,
   "id": "559259f8",
   "metadata": {},
   "outputs": [
    {
     "data": {
      "text/plain": [
       "Regionname\n",
       "Southern Metropolitan         4695\n",
       "Northern Metropolitan         3890\n",
       "Western Metropolitan          2948\n",
       "Eastern Metropolitan          1471\n",
       "South-Eastern Metropolitan     450\n",
       "Eastern Victoria                53\n",
       "Northern Victoria               41\n",
       "Western Victoria                32\n",
       "Name: count, dtype: int64"
      ]
     },
     "execution_count": 7,
     "metadata": {},
     "output_type": "execute_result"
    }
   ],
   "source": [
    "# используем библиотеку pandas\n",
    "import pandas as pd\n",
    "\n",
    "\n",
    "# читаем csv-файл и создаем переменную\n",
    "melb_data = pd.read_csv('data/melb_data.csv', sep=',')\n",
    "\n",
    "# находим район с самым малым количеством объектов\n",
    "melb_data['Regionname'].value_counts()\n"
   ]
  },
  {
   "cell_type": "code",
   "execution_count": null,
   "id": "a6ddb968",
   "metadata": {},
   "outputs": [
    {
     "data": {
      "text/plain": [
       "Coordinates\n",
       "-37.8361, 144.9966    12\n",
       "-37.8035, 144.985      8\n",
       "-37.8424, 144.9449     6\n",
       "-37.8231, 144.9906     5\n",
       "-37.8127, 145.0094     5\n",
       "                      ..\n",
       "-37.7933, 144.9556     1\n",
       "-37.7931, 144.9565     1\n",
       "-37.7852, 144.9589     1\n",
       "-37.7965, 144.9544     1\n",
       "-37.9213, 145.0854     1\n",
       "Name: count, Length: 13097, dtype: int64"
      ]
     },
     "execution_count": 8,
     "metadata": {},
     "output_type": "execute_result"
    }
   ],
   "source": [
    "# узнаем есть ли у разных адресов одинаковые координаты\n",
    "melb_data['Coordinates'].value_counts()"
   ]
  },
  {
   "cell_type": "code",
   "execution_count": 16,
   "id": "f2ea5e19",
   "metadata": {},
   "outputs": [
    {
     "name": "stdout",
     "output_type": "stream",
     "text": [
      "<class 'pandas.core.frame.DataFrame'>\n",
      "RangeIndex: 13580 entries, 0 to 13579\n",
      "Data columns (total 23 columns):\n",
      " #   Column         Non-Null Count  Dtype  \n",
      "---  ------         --------------  -----  \n",
      " 0   index          13580 non-null  int64  \n",
      " 1   Suburb         13580 non-null  object \n",
      " 2   Address        13580 non-null  object \n",
      " 3   Rooms          13580 non-null  int64  \n",
      " 4   Type           13580 non-null  object \n",
      " 5   Price          13580 non-null  float64\n",
      " 6   Method         13580 non-null  object \n",
      " 7   SellerG        13580 non-null  object \n",
      " 8   Date           13580 non-null  object \n",
      " 9   Distance       13580 non-null  float64\n",
      " 10  Postcode       13580 non-null  int64  \n",
      " 11  Bedroom        13580 non-null  float64\n",
      " 12  Bathroom       13580 non-null  float64\n",
      " 13  Car            13580 non-null  float64\n",
      " 14  Landsize       13580 non-null  float64\n",
      " 15  BuildingArea   13580 non-null  float64\n",
      " 16  YearBuilt      13580 non-null  float64\n",
      " 17  CouncilArea    12211 non-null  object \n",
      " 18  Lattitude      13580 non-null  float64\n",
      " 19  Longtitude     13580 non-null  float64\n",
      " 20  Regionname     13580 non-null  object \n",
      " 21  Propertycount  13580 non-null  float64\n",
      " 22  Coordinates    13580 non-null  object \n",
      "dtypes: float64(11), int64(3), object(9)\n",
      "memory usage: 2.4+ MB\n"
     ]
    },
    {
     "data": {
      "text/plain": [
       "Type\n",
       "h    0.695803\n",
       "u    0.222165\n",
       "t    0.082032\n",
       "Name: proportion, dtype: float64"
      ]
     },
     "execution_count": 16,
     "metadata": {},
     "output_type": "execute_result"
    }
   ],
   "source": [
    "# закрепляем наименование колонок\n",
    "melb_data.info()\n",
    "# узнаем количество домов типа тайн-хаус от общества количества типов\n",
    "melb_data['Type'].value_counts(normalize=True)"
   ]
  }
 ],
 "metadata": {
  "kernelspec": {
   "display_name": "Python 3",
   "language": "python",
   "name": "python3"
  },
  "language_info": {
   "codemirror_mode": {
    "name": "ipython",
    "version": 3
   },
   "file_extension": ".py",
   "mimetype": "text/x-python",
   "name": "python",
   "nbconvert_exporter": "python",
   "pygments_lexer": "ipython3",
   "version": "3.12.3"
  }
 },
 "nbformat": 4,
 "nbformat_minor": 5
}
