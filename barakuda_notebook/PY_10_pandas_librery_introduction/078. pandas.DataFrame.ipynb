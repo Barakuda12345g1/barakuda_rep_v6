{
 "cells": [
  {
   "cell_type": "markdown",
   "id": "7cfe6ac7",
   "metadata": {},
   "source": [
    "## Создание DataFrame"
   ]
  },
  {
   "cell_type": "markdown",
   "id": "279489ab",
   "metadata": {},
   "source": [
    "### Способ 1"
   ]
  },
  {
   "cell_type": "code",
   "execution_count": 5,
   "id": "56a3fabd",
   "metadata": {},
   "outputs": [
    {
     "data": {
      "text/html": [
       "<div>\n",
       "<style scoped>\n",
       "    .dataframe tbody tr th:only-of-type {\n",
       "        vertical-align: middle;\n",
       "    }\n",
       "\n",
       "    .dataframe tbody tr th {\n",
       "        vertical-align: top;\n",
       "    }\n",
       "\n",
       "    .dataframe thead th {\n",
       "        text-align: right;\n",
       "    }\n",
       "</style>\n",
       "<table border=\"1\" class=\"dataframe\">\n",
       "  <thead>\n",
       "    <tr style=\"text-align: right;\">\n",
       "      <th></th>\n",
       "      <th>countries</th>\n",
       "      <th>population</th>\n",
       "      <th>area</th>\n",
       "    </tr>\n",
       "  </thead>\n",
       "  <tbody>\n",
       "    <tr>\n",
       "      <th>0</th>\n",
       "      <td>Англия</td>\n",
       "      <td>56.29</td>\n",
       "      <td>133396</td>\n",
       "    </tr>\n",
       "    <tr>\n",
       "      <th>1</th>\n",
       "      <td>Канада</td>\n",
       "      <td>38.05</td>\n",
       "      <td>9984670</td>\n",
       "    </tr>\n",
       "    <tr>\n",
       "      <th>2</th>\n",
       "      <td>США</td>\n",
       "      <td>322.48</td>\n",
       "      <td>9826630</td>\n",
       "    </tr>\n",
       "    <tr>\n",
       "      <th>3</th>\n",
       "      <td>Россия</td>\n",
       "      <td>146.24</td>\n",
       "      <td>17125191</td>\n",
       "    </tr>\n",
       "  </tbody>\n",
       "</table>\n",
       "</div>"
      ],
      "text/plain": [
       "  countries  population      area\n",
       "0    Англия       56.29    133396\n",
       "1    Канада       38.05   9984670\n",
       "2       США      322.48   9826630\n",
       "3    Россия      146.24  17125191"
      ]
     },
     "metadata": {},
     "output_type": "display_data"
    },
    {
     "name": "stdout",
     "output_type": "stream",
     "text": [
      "************************************************************\n"
     ]
    },
    {
     "data": {
      "text/html": [
       "<div>\n",
       "<style scoped>\n",
       "    .dataframe tbody tr th:only-of-type {\n",
       "        vertical-align: middle;\n",
       "    }\n",
       "\n",
       "    .dataframe tbody tr th {\n",
       "        vertical-align: top;\n",
       "    }\n",
       "\n",
       "    .dataframe thead th {\n",
       "        text-align: right;\n",
       "    }\n",
       "</style>\n",
       "<table border=\"1\" class=\"dataframe\">\n",
       "  <thead>\n",
       "    <tr style=\"text-align: right;\">\n",
       "      <th></th>\n",
       "      <th>countries</th>\n",
       "      <th>population</th>\n",
       "      <th>area</th>\n",
       "    </tr>\n",
       "  </thead>\n",
       "  <tbody>\n",
       "    <tr>\n",
       "      <th>UK</th>\n",
       "      <td>Англия</td>\n",
       "      <td>56.29</td>\n",
       "      <td>133396</td>\n",
       "    </tr>\n",
       "    <tr>\n",
       "      <th>CA</th>\n",
       "      <td>Канада</td>\n",
       "      <td>38.05</td>\n",
       "      <td>9984670</td>\n",
       "    </tr>\n",
       "    <tr>\n",
       "      <th>US</th>\n",
       "      <td>США</td>\n",
       "      <td>322.48</td>\n",
       "      <td>9826630</td>\n",
       "    </tr>\n",
       "    <tr>\n",
       "      <th>RU</th>\n",
       "      <td>Россия</td>\n",
       "      <td>146.24</td>\n",
       "      <td>17125191</td>\n",
       "    </tr>\n",
       "  </tbody>\n",
       "</table>\n",
       "</div>"
      ],
      "text/plain": [
       "   countries  population      area\n",
       "UK    Англия       56.29    133396\n",
       "CA    Канада       38.05   9984670\n",
       "US       США      322.48   9826630\n",
       "RU    Россия      146.24  17125191"
      ]
     },
     "metadata": {},
     "output_type": "display_data"
    }
   ],
   "source": [
    "import pandas as pd\n",
    "\n",
    "\n",
    "# создаем таблицу при помощи словаря и pd.DataFrame\n",
    "countries_df = pd.DataFrame({\n",
    "    'countries': ['Англия', 'Канада', 'США', 'Россия'],\n",
    "    'population': [56.29, 38.05, 322.48, 146.24],\n",
    "    'area': [133396, 9984670, 9826630, 17125191]\n",
    "})\n",
    "\n",
    "display(countries_df)\n",
    "\n",
    "print('*' * 60)\n",
    "\n",
    "# такая запись индексирует таблицу\n",
    "countries_df.index = ['UK', 'CA', 'US', 'RU']\n",
    "\n",
    "display(countries_df)"
   ]
  },
  {
   "cell_type": "markdown",
   "id": "891c5c8d",
   "metadata": {},
   "source": [
    "### способ 2"
   ]
  },
  {
   "cell_type": "code",
   "execution_count": 8,
   "id": "69bdaf9e",
   "metadata": {},
   "outputs": [
    {
     "data": {
      "text/html": [
       "<div>\n",
       "<style scoped>\n",
       "    .dataframe tbody tr th:only-of-type {\n",
       "        vertical-align: middle;\n",
       "    }\n",
       "\n",
       "    .dataframe tbody tr th {\n",
       "        vertical-align: top;\n",
       "    }\n",
       "\n",
       "    .dataframe thead th {\n",
       "        text-align: right;\n",
       "    }\n",
       "</style>\n",
       "<table border=\"1\" class=\"dataframe\">\n",
       "  <thead>\n",
       "    <tr style=\"text-align: right;\">\n",
       "      <th></th>\n",
       "      <th>country</th>\n",
       "      <th>population</th>\n",
       "      <th>area</th>\n",
       "    </tr>\n",
       "  </thead>\n",
       "  <tbody>\n",
       "    <tr>\n",
       "      <th>UK</th>\n",
       "      <td>Англия</td>\n",
       "      <td>56.29</td>\n",
       "      <td>133396</td>\n",
       "    </tr>\n",
       "    <tr>\n",
       "      <th>CA</th>\n",
       "      <td>Канада</td>\n",
       "      <td>38.05</td>\n",
       "      <td>9984670</td>\n",
       "    </tr>\n",
       "    <tr>\n",
       "      <th>US</th>\n",
       "      <td>США</td>\n",
       "      <td>322.28</td>\n",
       "      <td>9826630</td>\n",
       "    </tr>\n",
       "    <tr>\n",
       "      <th>RU</th>\n",
       "      <td>Россия</td>\n",
       "      <td>146.24</td>\n",
       "      <td>17125191</td>\n",
       "    </tr>\n",
       "  </tbody>\n",
       "</table>\n",
       "</div>"
      ],
      "text/plain": [
       "   country  population      area\n",
       "UK  Англия       56.29    133396\n",
       "CA  Канада       38.05   9984670\n",
       "US     США      322.28   9826630\n",
       "RU  Россия      146.24  17125191"
      ]
     },
     "metadata": {},
     "output_type": "display_data"
    }
   ],
   "source": [
    "# использование вложенных списков также позволяет создавать .DataFrame()\n",
    "countries_df = pd.DataFrame(\n",
    "    data = [\n",
    "        ['Англия', 56.29, 133396],\n",
    "        ['Канада', 38.05, 9984670],\n",
    "        ['США', 322.28, 9826630],\n",
    "        ['Россия', 146.24, 17125191]\n",
    "    ],\n",
    "    columns = ['country', 'population', 'area'],\n",
    "    index = ['UK', 'CA', 'US', 'RU']\n",
    ")\n",
    "\n",
    "display(countries_df)"
   ]
  },
  {
   "cell_type": "markdown",
   "id": "1b819be9",
   "metadata": {},
   "source": [
    "## axis в DataFrame"
   ]
  },
  {
   "cell_type": "code",
   "execution_count": 11,
   "id": "0950cd6c",
   "metadata": {},
   "outputs": [
    {
     "name": "stdout",
     "output_type": "stream",
     "text": [
      "population        140.715\n",
      "area          9267471.750\n",
      "dtype: float64\n",
      "************************************************************\n"
     ]
    },
    {
     "data": {
      "text/plain": [
       "UK      66726.145\n",
       "CA    4992354.025\n",
       "US    4913476.140\n",
       "RU    8562668.620\n",
       "dtype: float64"
      ]
     },
     "execution_count": 11,
     "metadata": {},
     "output_type": "execute_result"
    }
   ],
   "source": [
    "# считаем среднее значение по строкам\n",
    "print(countries_df.mean(axis=0, numeric_only=True))\n",
    "\n",
    "print('*' * 60)\n",
    "\n",
    "# считаем среднее значение по столбцам\n",
    "countries_df.mean(axis=1, numeric_only=True )"
   ]
  },
  {
   "cell_type": "markdown",
   "id": "73db30b2",
   "metadata": {},
   "source": [
    "## Доступ к данным в DataFrame"
   ]
  },
  {
   "cell_type": "code",
   "execution_count": 16,
   "id": "b290dfb2",
   "metadata": {},
   "outputs": [
    {
     "name": "stdout",
     "output_type": "stream",
     "text": [
      "UK     56.29\n",
      "CA     38.05\n",
      "US    322.28\n",
      "RU    146.24\n",
      "Name: population, dtype: float64\n",
      "************************************************************\n",
      "UK     56.29\n",
      "CA     38.05\n",
      "US    322.28\n",
      "RU    146.24\n",
      "Name: population, dtype: float64\n",
      "************************************************************\n"
     ]
    },
    {
     "data": {
      "text/plain": [
       "pandas.core.series.Series"
      ]
     },
     "execution_count": 16,
     "metadata": {},
     "output_type": "execute_result"
    }
   ],
   "source": [
    "# получаем данные о количестве населения\n",
    "print(countries_df.population)\n",
    "\n",
    "print('*' * 60)\n",
    "\n",
    "# получаем данные о количестве населения другим способом\n",
    "print(countries_df['population'])\n",
    "\n",
    "print('*' * 60)\n",
    "\n",
    "# получаем информацию о типе такой информации\n",
    "type(countries_df.population)"
   ]
  },
  {
   "cell_type": "markdown",
   "id": "ed25e9ec",
   "metadata": {},
   "source": [
    "### .loc[], .iloc[]"
   ]
  },
  {
   "cell_type": "code",
   "execution_count": 30,
   "id": "9cc041e3",
   "metadata": {},
   "outputs": [
    {
     "name": "stdout",
     "output_type": "stream",
     "text": [
      "146.24\n",
      "************************************************************\n",
      "population      146.24\n",
      "area          17125191\n",
      "Name: RU, dtype: object\n",
      "************************************************************\n",
      "    population      area\n",
      "CA       38.05   9984670\n",
      "US      322.28   9826630\n",
      "RU      146.24  17125191\n",
      "************************************************************\n"
     ]
    },
    {
     "data": {
      "text/html": [
       "<div>\n",
       "<style scoped>\n",
       "    .dataframe tbody tr th:only-of-type {\n",
       "        vertical-align: middle;\n",
       "    }\n",
       "\n",
       "    .dataframe tbody tr th {\n",
       "        vertical-align: top;\n",
       "    }\n",
       "\n",
       "    .dataframe thead th {\n",
       "        text-align: right;\n",
       "    }\n",
       "</style>\n",
       "<table border=\"1\" class=\"dataframe\">\n",
       "  <thead>\n",
       "    <tr style=\"text-align: right;\">\n",
       "      <th></th>\n",
       "      <th>population</th>\n",
       "      <th>area</th>\n",
       "    </tr>\n",
       "  </thead>\n",
       "  <tbody>\n",
       "    <tr>\n",
       "      <th>CA</th>\n",
       "      <td>38.05</td>\n",
       "      <td>9984670</td>\n",
       "    </tr>\n",
       "    <tr>\n",
       "      <th>US</th>\n",
       "      <td>322.28</td>\n",
       "      <td>9826630</td>\n",
       "    </tr>\n",
       "  </tbody>\n",
       "</table>\n",
       "</div>"
      ],
      "text/plain": [
       "    population     area\n",
       "CA       38.05  9984670\n",
       "US      322.28  9826630"
      ]
     },
     "execution_count": 30,
     "metadata": {},
     "output_type": "execute_result"
    }
   ],
   "source": [
    "# узнаем информацию о наседении России\n",
    "print(countries_df.loc['RU', 'population'])\n",
    "\n",
    "print('*' * 60)\n",
    "\n",
    "# узнаем информацию о населении и площади России одновреиенно \n",
    "print(countries_df.loc['RU', ['population', 'area']])\n",
    "\n",
    "print('*' * 60)\n",
    "\n",
    "# берем вырезки из таблицы\n",
    "print(countries_df.loc[['CA', 'US', 'RU'], ['population', 'area']])\n",
    "\n",
    "print('*' * 60)\n",
    "\n",
    "# берем вырезки из таблицы при помощи индексов\n",
    "countries_df.iloc[1:3, 1:3]"
   ]
  }
 ],
 "metadata": {
  "kernelspec": {
   "display_name": "Python 3",
   "language": "python",
   "name": "python3"
  },
  "language_info": {
   "codemirror_mode": {
    "name": "ipython",
    "version": 3
   },
   "file_extension": ".py",
   "mimetype": "text/x-python",
   "name": "python",
   "nbconvert_exporter": "python",
   "pygments_lexer": "ipython3",
   "version": "3.12.3"
  }
 },
 "nbformat": 4,
 "nbformat_minor": 5
}
