{
 "cells": [
  {
   "cell_type": "code",
   "execution_count": null,
   "id": "ddb00ba4",
   "metadata": {},
   "outputs": [
    {
     "name": "stdout",
     "output_type": "stream",
     "text": [
      "1310000.0\n",
      "************************************************************\n",
      "10/09/2016\n",
      "************************************************************\n",
      "3\n"
     ]
    }
   ],
   "source": [
    "import pandas as pd\n",
    "\n",
    "\n",
    "# читаем csv-файл и закидиываем его в переменную\n",
    "melb_data = pd.read_csv('data/melb_data.csv', sep=',')\n",
    "# находим цену обьекта недвижимости под индексом 15\n",
    "print(melb_data.iloc[15, 5])\n",
    "\n",
    "print('*' * 60)\n",
    "\n",
    "# узнаем дату продажи обьекта под индексом 90\n",
    "print(melb_data.iloc[90, 8])\n",
    "\n",
    "print('*' * 60)\n",
    "\n",
    "# узнаем во сколько раз площадь одного обьекта больше другого \n",
    "square_one = melb_data.iloc[3521, 14]\n",
    "square_two = melb_data.iloc[1690, 14]\n",
    "# ответ округляем до целого числа\n",
    "print(round(square_one / square_two))"
   ]
  }
 ],
 "metadata": {
  "kernelspec": {
   "display_name": "Python 3",
   "language": "python",
   "name": "python3"
  },
  "language_info": {
   "codemirror_mode": {
    "name": "ipython",
    "version": 3
   },
   "file_extension": ".py",
   "mimetype": "text/x-python",
   "name": "python",
   "nbconvert_exporter": "python",
   "pygments_lexer": "ipython3",
   "version": "3.12.3"
  }
 },
 "nbformat": 4,
 "nbformat_minor": 5
}
