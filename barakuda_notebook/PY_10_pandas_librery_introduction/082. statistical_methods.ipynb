{
 "cells": [
  {
   "cell_type": "markdown",
   "id": "57dbc498",
   "metadata": {},
   "source": [
    "## Агрегирующие методы"
   ]
  },
  {
   "cell_type": "code",
   "execution_count": 12,
   "id": "6647a990",
   "metadata": {},
   "outputs": [
    {
     "name": "stdout",
     "output_type": "stream",
     "text": [
      "1075684.079455081\n",
      "************************************************************\n",
      "10.0\n",
      "************************************************************\n",
      "Total income of real estate agencies is: 1752934775.8799999\n",
      "Total income of real estate agencies is: 1752934775.8799999\n",
      "************************************************************\n",
      "0.21205713983546193\n",
      "************************************************************\n",
      "21.205713983546193\n"
     ]
    }
   ],
   "source": [
    "# инициализируем pandas\n",
    "import pandas as pd\n",
    "\n",
    "\n",
    "# читаем csv-файл\n",
    "melb_data = pd.read_csv('data/melb_data.csv', sep=',')\n",
    "\n",
    "# находим знчение только для одного столбца\n",
    "print(melb_data['Price'].mean())\n",
    "\n",
    "print('*' * 60)\n",
    "\n",
    "\n",
    "# находим максимальное коичество парковочных мест\n",
    "print(melb_data['Car'].max())\n",
    "\n",
    "print('*' * 60)\n",
    "\n",
    "# процентная ставка на которую надо увеличить\n",
    "# общую сумму цены всех домов в Мельбурне\n",
    "rate = 0.12\n",
    "# узнаем какая будет сумма со ставкой\n",
    "income = melb_data['Price'].sum() * rate\n",
    "# освежаем память и пользуемся f-строками и .format()\n",
    "print(f'Total income of real estate agencies is: {income}')\n",
    "print('Total income of real estate agencies is: {income}'.format(income=income))\n",
    "\n",
    "print('*' * 60)\n",
    "\n",
    "# находим медианное значение\n",
    "melb_median = melb_data['Landsize'].median()\n",
    "# находим среднее значение\n",
    "melb_mean = melb_data['Landsize'].mean()\n",
    "# находим отклонение по модулю\n",
    "print(abs((melb_median - melb_mean) / melb_mean)) \n",
    "\n",
    "print('*' * 60)\n",
    "\n",
    "# чтобы узнать долю отклонения в процентах умножаем на 100\n",
    "print((abs((melb_median - melb_mean) / melb_mean)) * 100)\n"
   ]
  },
  {
   "cell_type": "markdown",
   "id": "0f587899",
   "metadata": {},
   "source": [
    "## Модальное значение"
   ]
  },
  {
   "cell_type": "markdown",
   "id": "28af6765",
   "metadata": {},
   "source": [
    "### .mode()"
   ]
  },
  {
   "cell_type": "code",
   "execution_count": 15,
   "id": "3285ccec",
   "metadata": {},
   "outputs": [
    {
     "name": "stdout",
     "output_type": "stream",
     "text": [
      "0    3\n",
      "Name: Rooms, dtype: int64\n",
      "************************************************************\n"
     ]
    },
    {
     "data": {
      "text/plain": [
       "0    Southern Metropolitan\n",
       "Name: Regionname, dtype: object"
      ]
     },
     "execution_count": 15,
     "metadata": {},
     "output_type": "execute_result"
    }
   ],
   "source": [
    "# вычислим какое количество комнат чаще всего встречается \n",
    "print(melb_data['Rooms'].mode())\n",
    "\n",
    "print('*' * 60)\n",
    "\n",
    "# смотрим на работу функции .mode(), ищем самые популярные районы\n",
    "melb_data['Regionname'].mode()\n"
   ]
  }
 ],
 "metadata": {
  "kernelspec": {
   "display_name": "Python 3",
   "language": "python",
   "name": "python3"
  },
  "language_info": {
   "codemirror_mode": {
    "name": "ipython",
    "version": 3
   },
   "file_extension": ".py",
   "mimetype": "text/x-python",
   "name": "python",
   "nbconvert_exporter": "python",
   "pygments_lexer": "ipython3",
   "version": "3.12.3"
  }
 },
 "nbformat": 4,
 "nbformat_minor": 5
}
