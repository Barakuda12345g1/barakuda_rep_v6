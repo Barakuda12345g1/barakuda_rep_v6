{
 "cells": [
  {
   "cell_type": "code",
   "execution_count": 46,
   "id": "f0dca9b3",
   "metadata": {},
   "outputs": [
    {
     "data": {
      "text/plain": [
       "13378"
      ]
     },
     "metadata": {},
     "output_type": "display_data"
    }
   ],
   "source": [
    "# импортируем библиотеку\n",
    "import pandas as pd\n",
    "\n",
    "\n",
    "# читаем csv-файл\n",
    "melb_data = pd.read_csv('data/melb_data_ps.csv', sep=',')\n",
    "# работаем с копией\n",
    "melb_df = melb_data.copy()\n",
    "\n",
    "# смотрим на количество уникальных значений в столбце при помощи nunique()\n",
    "display(melb_df['Address'].nunique())"
   ]
  },
  {
   "cell_type": "code",
   "execution_count": 9,
   "id": "911dadc0",
   "metadata": {},
   "outputs": [
    {
     "name": "stdout",
     "output_type": "stream",
     "text": [
      "2/119 Railway St N\n",
      "9/400 Dandenong Rd\n",
      "172 Danks St\n"
     ]
    }
   ],
   "source": [
    "# смотрим на различные значения в столбце column\n",
    "print(melb_df['Address'].loc[177])\n",
    "print(melb_df['Address'].loc[1812])\n",
    "print(melb_df['Address'].loc[9001])"
   ]
  },
  {
   "cell_type": "code",
   "execution_count": 55,
   "id": "2058234d",
   "metadata": {},
   "outputs": [
    {
     "data": {
      "text/plain": [
       "0        St\n",
       "1        St\n",
       "2        St\n",
       "3        La\n",
       "4        St\n",
       "         ..\n",
       "13575    Cr\n",
       "13576    Dr\n",
       "13577    St\n",
       "13578    St\n",
       "13579    St\n",
       "Name: Address, Length: 13580, dtype: object"
      ]
     },
     "metadata": {},
     "output_type": "display_data"
    },
    {
     "name": "stdout",
     "output_type": "stream",
     "text": [
      "56\n"
     ]
    },
    {
     "data": {
      "text/plain": [
       "Address\n",
       "St           8012\n",
       "Rd           2825\n",
       "Ct            612\n",
       "Dr            447\n",
       "Av            321\n",
       "Gr            311\n",
       "Pde           211\n",
       "Pl            169\n",
       "Cr            152\n",
       "Cl            100\n",
       "La             67\n",
       "Bvd            53\n",
       "Tce            47\n",
       "Wy             40\n",
       "Avenue         40\n",
       "Cct            25\n",
       "Hwy            24\n",
       "Parade         15\n",
       "Boulevard      13\n",
       "Sq             11\n",
       "Crescent        9\n",
       "Cir             7\n",
       "Strand          7\n",
       "Esplanade       6\n",
       "Grove           5\n",
       "Grn             4\n",
       "Fairway         4\n",
       "Mews            4\n",
       "Gdns            4\n",
       "Righi           3\n",
       "Crossway        3\n",
       "Esp             2\n",
       "Ridge           2\n",
       "Victoria        2\n",
       "Crofts          2\n",
       "Athol           1\n",
       "Highway         1\n",
       "Cove            1\n",
       "Grange          1\n",
       "Res             1\n",
       "Terrace         1\n",
       "Qy              1\n",
       "Glade           1\n",
       "Nook            1\n",
       "Eyrie           1\n",
       "Loop            1\n",
       "Dell            1\n",
       "East            1\n",
       "Summit          1\n",
       "Grand           1\n",
       "Gra             1\n",
       "Hts             1\n",
       "Outlook         1\n",
       "Woodland        1\n",
       "Ave             1\n",
       "Corso           1\n",
       "Name: count, dtype: int64"
      ]
     },
     "metadata": {},
     "output_type": "display_data"
    },
    {
     "data": {
      "text/plain": [
       "Index(['St', 'Rd', 'Ct', 'Dr', 'Av', 'Gr', 'Pde', 'Pl', 'Cr', 'Cl'], dtype='object', name='Address')"
      ]
     },
     "metadata": {},
     "output_type": "display_data"
    },
    {
     "data": {
      "text/plain": [
       "Address\n",
       "St           8012\n",
       "Rd           2825\n",
       "Ct            612\n",
       "Dr            447\n",
       "Av            361\n",
       "Gr            311\n",
       "Pde           226\n",
       "Pl            169\n",
       "Cr            152\n",
       "Cl            100\n",
       "La             67\n",
       "Bvd            66\n",
       "Tce            47\n",
       "Wy             40\n",
       "Cct            25\n",
       "Hwy            24\n",
       "Sq             11\n",
       "Crescent        9\n",
       "Strand          7\n",
       "Cir             7\n",
       "Esplanade       6\n",
       "Grove           5\n",
       "Fairway         4\n",
       "Gdns            4\n",
       "Mews            4\n",
       "Grn             4\n",
       "Crossway        3\n",
       "Righi           3\n",
       "Esp             2\n",
       "Ridge           2\n",
       "Crofts          2\n",
       "Victoria        2\n",
       "Highway         1\n",
       "Athol           1\n",
       "Cove            1\n",
       "Grange          1\n",
       "Res             1\n",
       "Terrace         1\n",
       "Qy              1\n",
       "Glade           1\n",
       "Nook            1\n",
       "Dell            1\n",
       "Eyrie           1\n",
       "East            1\n",
       "Loop            1\n",
       "Grand           1\n",
       "Gra             1\n",
       "Summit          1\n",
       "Hts             1\n",
       "Outlook         1\n",
       "Woodland        1\n",
       "Ave             1\n",
       "Corso           1\n",
       "Name: count, dtype: int64"
      ]
     },
     "metadata": {},
     "output_type": "display_data"
    },
    {
     "data": {
      "text/plain": [
       "0           St\n",
       "1           St\n",
       "2           St\n",
       "3        other\n",
       "4           St\n",
       "         ...  \n",
       "13575       Cr\n",
       "13576       Dr\n",
       "13577       St\n",
       "13578       St\n",
       "13579       St\n",
       "Name: StreetType, Length: 13580, dtype: object"
      ]
     },
     "metadata": {},
     "output_type": "display_data"
    },
    {
     "data": {
      "text/plain": [
       "StreetType\n",
       "St       8012\n",
       "Rd       2825\n",
       "Ct        612\n",
       "Dr        447\n",
       "other     365\n",
       "Av        361\n",
       "Gr        311\n",
       "Pde       226\n",
       "Pl        169\n",
       "Cr        152\n",
       "Cl        100\n",
       "Name: count, dtype: int64"
      ]
     },
     "metadata": {},
     "output_type": "display_data"
    },
    {
     "data": {
      "text/plain": [
       "11"
      ]
     },
     "metadata": {},
     "output_type": "display_data"
    }
   ],
   "source": [
    "# на вход поступает строка одной позиции с адресом\n",
    "def get_street_type(address):\n",
    "    # создаем список географических пометок\n",
    "    exclude_list = ['S', 'N', 'W', 'E']\n",
    "    # разделяем строку по пробелам\n",
    "    address_list = address.split(' ')\n",
    "    # узнаем какой последний элемент списка и заносим его в переменную\n",
    "    street_type = address_list[-1]\n",
    "    # проверяем на то что это географическая пометка и создаем условие\n",
    "    if street_type in exclude_list:\n",
    "        # переопределяем на второй с конца элемент\n",
    "        street_type = address_list[-2]\n",
    "    # если все в порядке возвращаем тип улицы\n",
    "    return street_type\n",
    "\n",
    "# используем функцию на столбец и получаем отдельные типы улиц в переменной\n",
    "street_types = melb_df['Address'].apply(get_street_type)\n",
    "display(street_types)\n",
    "\n",
    "# смотрим сколько уникальных значений у нас получилось \n",
    "print(street_types.nunique())\n",
    "\n",
    "# смотрим на частоту каждого подтипа\n",
    "display(street_types.value_counts())\n",
    "\n",
    "# из обьекта типа Series выделим десять самых популяряных\n",
    "popular_stypes = street_types.value_counts().nlargest(10).index\n",
    "display(popular_stypes)\n",
    "\n",
    "# переопределяем и чистим обьект типа Series\n",
    "street_types = street_types.apply(lambda x: x if x != 'Avenue' else 'Av')\n",
    "street_types = street_types.apply(lambda x: x if x != 'Boulevard' else 'Bvd')\n",
    "street_types = street_types.apply(lambda x: x if x != 'Parade' else 'Pde')\n",
    "display(street_types.value_counts())\n",
    "\n",
    "# применим lambda-функцию на обьект Series со всеми подтипами\n",
    "# а те кто не входит в список популярных меняем на other\n",
    "melb_df['StreetType'] = street_types.apply(lambda x: x if x in popular_stypes \\\n",
    "    else 'other')\n",
    "display(melb_df['StreetType'])\n",
    "\n",
    "display(melb_df['StreetType'].value_counts())\n",
    "\n",
    "# смотрим на то что у нас получилось уменьшить количество уникальных элементов\n",
    "display(melb_df['StreetType'].nunique())\n",
    "\n",
    "# удаляем ненужный признак\n",
    "#melb_df = melb_df.drop('Address', axis=1)"
   ]
  }
 ],
 "metadata": {
  "kernelspec": {
   "display_name": "Python 3",
   "language": "python",
   "name": "python3"
  },
  "language_info": {
   "codemirror_mode": {
    "name": "ipython",
    "version": 3
   },
   "file_extension": ".py",
   "mimetype": "text/x-python",
   "name": "python",
   "nbconvert_exporter": "python",
   "pygments_lexer": "ipython3",
   "version": "3.12.3"
  }
 },
 "nbformat": 4,
 "nbformat_minor": 5
}
