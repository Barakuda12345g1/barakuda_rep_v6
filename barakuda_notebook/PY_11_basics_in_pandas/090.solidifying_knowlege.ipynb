{
 "cells": [
  {
   "cell_type": "markdown",
   "id": "3b847b78",
   "metadata": {},
   "source": [
    "## Задания 6.1 - 6.12"
   ]
  },
  {
   "cell_type": "markdown",
   "id": "34ece36d",
   "metadata": {},
   "source": [
    "Датасет представляет собой таблицу с информацией о 300 тысячах поездок за первые пять дней сентября 2018 года и включает в себя следующую информацию:\n",
    "\n",
    "        starttime — время начала поездки (дата, время);\n",
    "        stoptime — время окончания поездки (дата, время);\n",
    "        start station id — идентификатор стартовой стоянки;\n",
    "        start station name — название стартовой стоянки;\n",
    "        start station latitude, start station longitude — географическая широта и долгота стартовой стоянки;\n",
    "        end station id — идентификатор конечной стоянки;\n",
    "\n",
    "        end station name — название конечной стоянки;\n",
    "        end station latitude, end station longitude — географическая широта и долгота конечной стоянки;\n",
    "        bikeid — идентификатор велосипеда;\n",
    "        usertype — тип пользователя (Customer — клиент с подпиской на 24 часа или на три дня, Subscriber — подписчик с годовой арендой велосипеда);\n",
    "        birth year — год рождения клиента;\n",
    "        gender — пол клиента (0 — неизвестный, 1 — мужчина, 2 — женщина).\n",
    "\n"
   ]
  },
  {
   "cell_type": "markdown",
   "id": "8ab67dd2",
   "metadata": {},
   "source": [
    "### Задание 6.1"
   ]
  },
  {
   "cell_type": "markdown",
   "id": "04515ae7",
   "metadata": {},
   "source": [
    "Сколько пропусков в столбце start station id?"
   ]
  },
  {
   "cell_type": "code",
   "execution_count": 1,
   "id": "b157af02",
   "metadata": {},
   "outputs": [
    {
     "name": "stdout",
     "output_type": "stream",
     "text": [
      "<class 'pandas.core.frame.DataFrame'>\n",
      "RangeIndex: 300000 entries, 0 to 299999\n",
      "Data columns (total 14 columns):\n",
      " #   Column                   Non-Null Count   Dtype  \n",
      "---  ------                   --------------   -----  \n",
      " 0   starttime                300000 non-null  object \n",
      " 1   stoptime                 300000 non-null  object \n",
      " 2   start station id         299831 non-null  float64\n",
      " 3   start station name       299831 non-null  object \n",
      " 4   start station latitude   300000 non-null  float64\n",
      " 5   start station longitude  300000 non-null  float64\n",
      " 6   end station id           299831 non-null  float64\n",
      " 7   end station name         299831 non-null  object \n",
      " 8   end station latitude     300000 non-null  float64\n",
      " 9   end station longitude    300000 non-null  float64\n",
      " 10  bikeid                   300000 non-null  int64  \n",
      " 11  usertype                 300000 non-null  object \n",
      " 12  birth year               300000 non-null  int64  \n",
      " 13  gender                   300000 non-null  int64  \n",
      "dtypes: float64(6), int64(3), object(5)\n",
      "memory usage: 32.0+ MB\n"
     ]
    },
    {
     "data": {
      "text/plain": [
       "None"
      ]
     },
     "metadata": {},
     "output_type": "display_data"
    }
   ],
   "source": [
    "# получаем доступ к библиотеке pandas\n",
    "import pandas as pd\n",
    "\n",
    "\n",
    "# читаем csv-файл в переменную\n",
    "citibike_data = pd.read_csv('data/citibike-tripdata.csv', sep=',')\n",
    "citibike_df = citibike_data.copy()\n",
    "\n",
    "display(citibike_df.info())\n",
    "# 169"
   ]
  },
  {
   "cell_type": "markdown",
   "id": "186a3e9e",
   "metadata": {},
   "source": [
    "## Задание 6.3"
   ]
  },
  {
   "cell_type": "markdown",
   "id": "96c3afa1",
   "metadata": {},
   "source": [
    "Найдите идентификатор самой популярной стартовой стоянки. Запишите идентификатор в виде целого числа."
   ]
  },
  {
   "cell_type": "code",
   "execution_count": 2,
   "id": "bb640606",
   "metadata": {},
   "outputs": [
    {
     "data": {
      "text/plain": [
       "0    281.0\n",
       "Name: start station id, dtype: float64"
      ]
     },
     "metadata": {},
     "output_type": "display_data"
    },
    {
     "data": {
      "text/plain": [
       "start station id\n",
       "281.0     1928\n",
       "2006.0    1909\n",
       "519.0     1873\n",
       "514.0     1845\n",
       "426.0     1835\n",
       "          ... \n",
       "3432.0      15\n",
       "3599.0      11\n",
       "2005.0       9\n",
       "3704.0       7\n",
       "3583.0       6\n",
       "Name: count, Length: 759, dtype: int64"
      ]
     },
     "metadata": {},
     "output_type": "display_data"
    }
   ],
   "source": [
    "# узнаем моду агрегирующим методом\n",
    "display(citibike_df['start station id'].mode())\n",
    "# смотрим моду при помощи метода .value_counts()\n",
    "display(citibike_df['start station id'].value_counts())\n",
    "# 281"
   ]
  },
  {
   "cell_type": "markdown",
   "id": "030e77f2",
   "metadata": {},
   "source": [
    "# Задание 6.4"
   ]
  },
  {
   "cell_type": "markdown",
   "id": "53da7894",
   "metadata": {},
   "source": [
    "Велосипед с каким идентификатором является самым популярным?"
   ]
  },
  {
   "cell_type": "code",
   "execution_count": 3,
   "id": "5110f647",
   "metadata": {},
   "outputs": [
    {
     "name": "stdout",
     "output_type": "stream",
     "text": [
      "<class 'pandas.core.frame.DataFrame'>\n",
      "RangeIndex: 300000 entries, 0 to 299999\n",
      "Data columns (total 14 columns):\n",
      " #   Column                   Non-Null Count   Dtype  \n",
      "---  ------                   --------------   -----  \n",
      " 0   starttime                300000 non-null  object \n",
      " 1   stoptime                 300000 non-null  object \n",
      " 2   start station id         299831 non-null  float64\n",
      " 3   start station name       299831 non-null  object \n",
      " 4   start station latitude   300000 non-null  float64\n",
      " 5   start station longitude  300000 non-null  float64\n",
      " 6   end station id           299831 non-null  float64\n",
      " 7   end station name         299831 non-null  object \n",
      " 8   end station latitude     300000 non-null  float64\n",
      " 9   end station longitude    300000 non-null  float64\n",
      " 10  bikeid                   300000 non-null  int64  \n",
      " 11  usertype                 300000 non-null  object \n",
      " 12  birth year               300000 non-null  int64  \n",
      " 13  gender                   300000 non-null  int64  \n",
      "dtypes: float64(6), int64(3), object(5)\n",
      "memory usage: 32.0+ MB\n"
     ]
    },
    {
     "data": {
      "text/plain": [
       "None"
      ]
     },
     "metadata": {},
     "output_type": "display_data"
    },
    {
     "data": {
      "text/plain": [
       "0    33887\n",
       "Name: bikeid, dtype: int64"
      ]
     },
     "metadata": {},
     "output_type": "display_data"
    },
    {
     "data": {
      "text/plain": [
       "bikeid\n",
       "33887    107\n",
       "34358    104\n",
       "34258    103\n",
       "34159    103\n",
       "33916    102\n",
       "        ... \n",
       "19685      1\n",
       "18083      1\n",
       "17567      1\n",
       "15122      1\n",
       "25967      1\n",
       "Name: count, Length: 10004, dtype: int64"
      ]
     },
     "metadata": {},
     "output_type": "display_data"
    }
   ],
   "source": [
    "# смотрим на информацию о таблице\n",
    "display(citibike_df.info())\n",
    "# смотрим на моду среди идентификаторов велосипеда\n",
    "display(citibike_df['bikeid'].mode())\n",
    "# перпроверяю в общем случае\n",
    "display(citibike_df['bikeid'].value_counts())\n",
    "# 33887"
   ]
  },
  {
   "cell_type": "markdown",
   "id": "9344cf6f",
   "metadata": {},
   "source": [
    "## Задание 6.5"
   ]
  },
  {
   "cell_type": "markdown",
   "id": "585d6930",
   "metadata": {},
   "source": [
    "Какой тип клиентов (столбец usertype) является преобладающим — Subscriber или Customer? В качестве ответа запишите долю клиентов преобладающего типа среди общего количества клиентов. Ответ округлите до сотых."
   ]
  },
  {
   "cell_type": "code",
   "execution_count": 4,
   "id": "9ca3afe7",
   "metadata": {},
   "outputs": [
    {
     "name": "stdout",
     "output_type": "stream",
     "text": [
      "<class 'pandas.core.frame.DataFrame'>\n",
      "RangeIndex: 300000 entries, 0 to 299999\n",
      "Data columns (total 14 columns):\n",
      " #   Column                   Non-Null Count   Dtype  \n",
      "---  ------                   --------------   -----  \n",
      " 0   starttime                300000 non-null  object \n",
      " 1   stoptime                 300000 non-null  object \n",
      " 2   start station id         299831 non-null  float64\n",
      " 3   start station name       299831 non-null  object \n",
      " 4   start station latitude   300000 non-null  float64\n",
      " 5   start station longitude  300000 non-null  float64\n",
      " 6   end station id           299831 non-null  float64\n",
      " 7   end station name         299831 non-null  object \n",
      " 8   end station latitude     300000 non-null  float64\n",
      " 9   end station longitude    300000 non-null  float64\n",
      " 10  bikeid                   300000 non-null  int64  \n",
      " 11  usertype                 300000 non-null  object \n",
      " 12  birth year               300000 non-null  int64  \n",
      " 13  gender                   300000 non-null  int64  \n",
      "dtypes: float64(6), int64(3), object(5)\n",
      "memory usage: 32.0+ MB\n"
     ]
    },
    {
     "data": {
      "text/plain": [
       "None"
      ]
     },
     "metadata": {},
     "output_type": "display_data"
    },
    {
     "data": {
      "text/plain": [
       "usertype\n",
       "Subscriber    0.77\n",
       "Customer      0.23\n",
       "Name: proportion, dtype: float64"
      ]
     },
     "metadata": {},
     "output_type": "display_data"
    }
   ],
   "source": [
    "display(citibike_df.info())\n",
    "# смотрим на долю разновидности клиентов при помощи параметра normalize\n",
    "display(round(citibike_df['usertype'].value_counts(normalize=True), 2))\n",
    "# 0.77"
   ]
  },
  {
   "cell_type": "markdown",
   "id": "50b7ad4c",
   "metadata": {},
   "source": [
    "## Задание 6.6"
   ]
  },
  {
   "cell_type": "markdown",
   "id": "b9e374f0",
   "metadata": {},
   "source": [
    "Кто больше занимается велоспортом — мужчины или женщины? В ответ запишите число поездок для той группы, у которой их больше."
   ]
  },
  {
   "cell_type": "code",
   "execution_count": 5,
   "id": "137dcba0",
   "metadata": {},
   "outputs": [
    {
     "data": {
      "text/plain": [
       "0    1\n",
       "Name: gender, dtype: int64"
      ]
     },
     "metadata": {},
     "output_type": "display_data"
    },
    {
     "data": {
      "text/plain": [
       "gender\n",
       "1    183582\n",
       "2     74506\n",
       "0     41912\n",
       "Name: count, dtype: int64"
      ]
     },
     "metadata": {},
     "output_type": "display_data"
    },
    {
     "name": "stdout",
     "output_type": "stream",
     "text": [
      "Average amount of man citibike trip is 183582\n"
     ]
    }
   ],
   "source": [
    "# смотрим ответ при помощи агрегирующего метода .mode()\n",
    "display(citibike_df['gender'].mode())\n",
    "# смотрим на количество повторенией уникальных элементов\n",
    "display(citibike_df['gender'].value_counts())\n",
    "print(f'Average amount of man citibike trip is {citibike_df['gender'].value_counts().iloc[0]}')"
   ]
  },
  {
   "cell_type": "markdown",
   "id": "8523d72e",
   "metadata": {},
   "source": [
    "# Задание 6.8"
   ]
  },
  {
   "cell_type": "markdown",
   "id": "86efbdb2",
   "metadata": {},
   "source": [
    "В первую очередь удалим лишнюю информацию из данных.\n",
    "\n",
    "В наших данных присутствуют столбцы, которые дублируют информацию друг о друге: это столбцы с идентификатором и названием стартовой и конечной стоянки. Удалите признаки идентификаторов стоянок. Сколько столбцов осталось?"
   ]
  },
  {
   "cell_type": "code",
   "execution_count": 6,
   "id": "7a117c2a",
   "metadata": {},
   "outputs": [
    {
     "name": "stdout",
     "output_type": "stream",
     "text": [
      "<class 'pandas.core.frame.DataFrame'>\n",
      "RangeIndex: 300000 entries, 0 to 299999\n",
      "Data columns (total 14 columns):\n",
      " #   Column                   Non-Null Count   Dtype  \n",
      "---  ------                   --------------   -----  \n",
      " 0   starttime                300000 non-null  object \n",
      " 1   stoptime                 300000 non-null  object \n",
      " 2   start station id         299831 non-null  float64\n",
      " 3   start station name       299831 non-null  object \n",
      " 4   start station latitude   300000 non-null  float64\n",
      " 5   start station longitude  300000 non-null  float64\n",
      " 6   end station id           299831 non-null  float64\n",
      " 7   end station name         299831 non-null  object \n",
      " 8   end station latitude     300000 non-null  float64\n",
      " 9   end station longitude    300000 non-null  float64\n",
      " 10  bikeid                   300000 non-null  int64  \n",
      " 11  usertype                 300000 non-null  object \n",
      " 12  birth year               300000 non-null  int64  \n",
      " 13  gender                   300000 non-null  int64  \n",
      "dtypes: float64(6), int64(3), object(5)\n",
      "memory usage: 32.0+ MB\n"
     ]
    },
    {
     "data": {
      "text/plain": [
       "None"
      ]
     },
     "metadata": {},
     "output_type": "display_data"
    },
    {
     "name": "stdout",
     "output_type": "stream",
     "text": [
      "<class 'pandas.core.frame.DataFrame'>\n",
      "RangeIndex: 300000 entries, 0 to 299999\n",
      "Data columns (total 12 columns):\n",
      " #   Column                   Non-Null Count   Dtype  \n",
      "---  ------                   --------------   -----  \n",
      " 0   starttime                300000 non-null  object \n",
      " 1   stoptime                 300000 non-null  object \n",
      " 2   start station name       299831 non-null  object \n",
      " 3   start station latitude   300000 non-null  float64\n",
      " 4   start station longitude  300000 non-null  float64\n",
      " 5   end station name         299831 non-null  object \n",
      " 6   end station latitude     300000 non-null  float64\n",
      " 7   end station longitude    300000 non-null  float64\n",
      " 8   bikeid                   300000 non-null  int64  \n",
      " 9   usertype                 300000 non-null  object \n",
      " 10  birth year               300000 non-null  int64  \n",
      " 11  gender                   300000 non-null  int64  \n",
      "dtypes: float64(4), int64(3), object(5)\n",
      "memory usage: 27.5+ MB\n"
     ]
    },
    {
     "data": {
      "text/plain": [
       "None"
      ]
     },
     "metadata": {},
     "output_type": "display_data"
    }
   ],
   "source": [
    "display(citibike_df.info())\n",
    "# производим удаление при помощи метода .drop()\n",
    "citibike_df.drop(['start station id', 'end station id'], axis=1, inplace=True)\n",
    "display(citibike_df.info())\n",
    "# 12"
   ]
  },
  {
   "cell_type": "markdown",
   "id": "4befdc2b",
   "metadata": {},
   "source": [
    "## Задание 6.9"
   ]
  },
  {
   "cell_type": "markdown",
   "id": "10e6d26a",
   "metadata": {},
   "source": [
    "Замените признак birth year на более понятный признак возраста клиента age. Годом отсчёта возраста выберите 2018 год. Столбец birth year удалите из таблицы. Сколько поездок совершено клиентами старше 60 лет?"
   ]
  },
  {
   "cell_type": "code",
   "execution_count": 7,
   "id": "e81b7191",
   "metadata": {},
   "outputs": [
    {
     "data": {
      "text/plain": [
       "0         1980\n",
       "1         1969\n",
       "2         1975\n",
       "3         1984\n",
       "4         1994\n",
       "          ... \n",
       "299995    1990\n",
       "299996    1982\n",
       "299997    1991\n",
       "299998    1975\n",
       "299999    1966\n",
       "Name: birth year, Length: 300000, dtype: int64"
      ]
     },
     "metadata": {},
     "output_type": "display_data"
    },
    {
     "data": {
      "text/plain": [
       "0         38\n",
       "1         49\n",
       "2         43\n",
       "3         34\n",
       "4         24\n",
       "          ..\n",
       "299995    28\n",
       "299996    36\n",
       "299997    27\n",
       "299998    43\n",
       "299999    52\n",
       "Name: age, Length: 300000, dtype: int64"
      ]
     },
     "metadata": {},
     "output_type": "display_data"
    },
    {
     "name": "stdout",
     "output_type": "stream",
     "text": [
      "<class 'pandas.core.frame.DataFrame'>\n",
      "RangeIndex: 300000 entries, 0 to 299999\n",
      "Data columns (total 12 columns):\n",
      " #   Column                   Non-Null Count   Dtype  \n",
      "---  ------                   --------------   -----  \n",
      " 0   starttime                300000 non-null  object \n",
      " 1   stoptime                 300000 non-null  object \n",
      " 2   start station name       299831 non-null  object \n",
      " 3   start station latitude   300000 non-null  float64\n",
      " 4   start station longitude  300000 non-null  float64\n",
      " 5   end station name         299831 non-null  object \n",
      " 6   end station latitude     300000 non-null  float64\n",
      " 7   end station longitude    300000 non-null  float64\n",
      " 8   bikeid                   300000 non-null  int64  \n",
      " 9   usertype                 300000 non-null  object \n",
      " 10  gender                   300000 non-null  int64  \n",
      " 11  age                      300000 non-null  int64  \n",
      "dtypes: float64(4), int64(3), object(5)\n",
      "memory usage: 27.5+ MB\n"
     ]
    },
    {
     "data": {
      "text/plain": [
       "None"
      ]
     },
     "metadata": {},
     "output_type": "display_data"
    },
    {
     "data": {
      "text/plain": [
       "11837"
      ]
     },
     "metadata": {},
     "output_type": "display_data"
    }
   ],
   "source": [
    "# видим что после запуска кода, повторить его не получится\n",
    "display(citibike_df['birth year'])\n",
    "# проводим математическую операцию, узнаем разницу\n",
    "citibike_df['age'] = 2018 - citibike_df['birth year']\n",
    "display(citibike_df['age'])\n",
    "# убиарем признак birth year за ненадобностью\n",
    "citibike_df.drop('birth year', axis=1, inplace=True)\n",
    "display(citibike_df.info())\n",
    "# закрепляем применение фильтрации и метода .shape\n",
    "display(citibike_df[citibike_df['age'] > 60].shape[0])\n"
   ]
  },
  {
   "cell_type": "markdown",
   "id": "21cbb404",
   "metadata": {},
   "source": [
    "## Задание 6.10"
   ]
  },
  {
   "cell_type": "markdown",
   "id": "1b156ed0",
   "metadata": {},
   "source": [
    "Создайте признак длительности поездки trip duration. Для этого вычислите интервал времени между временем окончания поездки (stoptime) и её началом (starttime). Сколько целых минут длилась поездка под индексом 3 в таблице?"
   ]
  },
  {
   "cell_type": "code",
   "execution_count": null,
   "id": "be741824",
   "metadata": {},
   "outputs": [
    {
     "name": "stdout",
     "output_type": "stream",
     "text": [
      "<class 'pandas.core.frame.DataFrame'>\n",
      "RangeIndex: 300000 entries, 0 to 299999\n",
      "Data columns (total 13 columns):\n",
      " #   Column                   Non-Null Count   Dtype          \n",
      "---  ------                   --------------   -----          \n",
      " 0   starttime                300000 non-null  datetime64[ns] \n",
      " 1   stoptime                 300000 non-null  datetime64[ns] \n",
      " 2   start station name       299831 non-null  object         \n",
      " 3   start station latitude   300000 non-null  float64        \n",
      " 4   start station longitude  300000 non-null  float64        \n",
      " 5   end station name         299831 non-null  object         \n",
      " 6   end station latitude     300000 non-null  float64        \n",
      " 7   end station longitude    300000 non-null  float64        \n",
      " 8   bikeid                   300000 non-null  int64          \n",
      " 9   usertype                 300000 non-null  object         \n",
      " 10  gender                   300000 non-null  int64          \n",
      " 11  age                      300000 non-null  int64          \n",
      " 12  trip duration            300000 non-null  timedelta64[ns]\n",
      "dtypes: datetime64[ns](2), float64(4), int64(3), object(3), timedelta64[ns](1)\n",
      "memory usage: 29.8+ MB\n"
     ]
    },
    {
     "data": {
      "text/plain": [
       "None"
      ]
     },
     "metadata": {},
     "output_type": "display_data"
    },
    {
     "name": "stdout",
     "output_type": "stream",
     "text": [
      "<class 'pandas.core.frame.DataFrame'>\n",
      "RangeIndex: 300000 entries, 0 to 299999\n",
      "Data columns (total 13 columns):\n",
      " #   Column                   Non-Null Count   Dtype          \n",
      "---  ------                   --------------   -----          \n",
      " 0   starttime                300000 non-null  datetime64[ns] \n",
      " 1   stoptime                 300000 non-null  datetime64[ns] \n",
      " 2   start station name       299831 non-null  object         \n",
      " 3   start station latitude   300000 non-null  float64        \n",
      " 4   start station longitude  300000 non-null  float64        \n",
      " 5   end station name         299831 non-null  object         \n",
      " 6   end station latitude     300000 non-null  float64        \n",
      " 7   end station longitude    300000 non-null  float64        \n",
      " 8   bikeid                   300000 non-null  int64          \n",
      " 9   usertype                 300000 non-null  object         \n",
      " 10  gender                   300000 non-null  int64          \n",
      " 11  age                      300000 non-null  int64          \n",
      " 12  trip duration            300000 non-null  timedelta64[ns]\n",
      "dtypes: datetime64[ns](2), float64(4), int64(3), object(3), timedelta64[ns](1)\n",
      "memory usage: 29.8+ MB\n"
     ]
    },
    {
     "data": {
      "text/plain": [
       "None"
      ]
     },
     "metadata": {},
     "output_type": "display_data"
    },
    {
     "data": {
      "text/plain": [
       "0        0 days 00:27:15.365000\n",
       "1        0 days 00:02:12.200000\n",
       "2        0 days 00:55:37.898000\n",
       "3        0 days 00:07:16.837000\n",
       "4        0 days 02:20:57.993000\n",
       "                  ...          \n",
       "299995   0 days 00:07:23.648000\n",
       "299996   0 days 00:11:33.138000\n",
       "299997   0 days 00:05:12.997000\n",
       "299998   0 days 00:56:00.092000\n",
       "299999   0 days 00:03:45.051000\n",
       "Name: trip duration, Length: 300000, dtype: timedelta64[ns]"
      ]
     },
     "metadata": {},
     "output_type": "display_data"
    },
    {
     "name": "stdout",
     "output_type": "stream",
     "text": [
      "The third index citibike trip last :0 days 00:07:16.837000\n"
     ]
    }
   ],
   "source": [
    "display(citibike_df.info())\n",
    "citibike_df['starttime'] = pd.to_datetime(citibike_df['starttime'])\n",
    "citibike_df['stoptime'] = pd.to_datetime(citibike_df['stoptime'])\n",
    "display(citibike_df.info())\n",
    "\n",
    "citibike_df['trip duration'] = citibike_df['stoptime'] - \\\n",
    "    citibike_df['starttime']\n",
    "display(citibike_df['trip duration'])   \n",
    " \n",
    "\n",
    "# красиво печатаем ответ\n",
    "print(f'The third index citibike trip last :{citibike_df['trip duration'].\\\n",
    "    iloc[3]}')\n",
    "\n"
   ]
  },
  {
   "cell_type": "markdown",
   "id": "b008838c",
   "metadata": {},
   "source": [
    "## Задание 6.11"
   ]
  },
  {
   "cell_type": "markdown",
   "id": "ffe734eb",
   "metadata": {},
   "source": [
    "Создайте «признак-мигалку» weekend, который равен 1, если поездка начиналась в выходной день (суббота или воскресенье), и 0 — в противном случае. Выясните, сколько поездок начиналось в выходные."
   ]
  },
  {
   "cell_type": "code",
   "execution_count": 35,
   "id": "72ef0fb3",
   "metadata": {},
   "outputs": [
    {
     "name": "stdout",
     "output_type": "stream",
     "text": [
      "<class 'pandas.core.frame.DataFrame'>\n",
      "RangeIndex: 300000 entries, 0 to 299999\n",
      "Data columns (total 14 columns):\n",
      " #   Column                   Non-Null Count   Dtype          \n",
      "---  ------                   --------------   -----          \n",
      " 0   starttime                300000 non-null  datetime64[ns] \n",
      " 1   stoptime                 300000 non-null  datetime64[ns] \n",
      " 2   start station name       299831 non-null  object         \n",
      " 3   start station latitude   300000 non-null  float64        \n",
      " 4   start station longitude  300000 non-null  float64        \n",
      " 5   end station name         299831 non-null  object         \n",
      " 6   end station latitude     300000 non-null  float64        \n",
      " 7   end station longitude    300000 non-null  float64        \n",
      " 8   bikeid                   300000 non-null  int64          \n",
      " 9   usertype                 300000 non-null  object         \n",
      " 10  gender                   300000 non-null  int64          \n",
      " 11  age                      300000 non-null  int64          \n",
      " 12  trip duration            300000 non-null  timedelta64[ns]\n",
      " 13  weekend                  300000 non-null  int64          \n",
      "dtypes: datetime64[ns](2), float64(4), int64(4), object(3), timedelta64[ns](1)\n",
      "memory usage: 32.0+ MB\n"
     ]
    },
    {
     "data": {
      "text/plain": [
       "None"
      ]
     },
     "metadata": {},
     "output_type": "display_data"
    },
    {
     "data": {
      "text/plain": [
       "0         5\n",
       "1         5\n",
       "2         5\n",
       "3         5\n",
       "4         5\n",
       "         ..\n",
       "299995    2\n",
       "299996    2\n",
       "299997    2\n",
       "299998    2\n",
       "299999    2\n",
       "Name: weekend, Length: 300000, dtype: int32"
      ]
     },
     "metadata": {},
     "output_type": "display_data"
    },
    {
     "name": "stdout",
     "output_type": "stream",
     "text": [
      "Number of weekend bike trip: 115135\n"
     ]
    }
   ],
   "source": [
    "display(citibike_df.info())\n",
    "# создаем новую таблицу с \n",
    "citibike_df['weekend'] = citibike_df['starttime'].dt.dayofweek\n",
    "display(citibike_df['weekend'])\n",
    "\n",
    "# напишем функцию которая будет менять значения на 0 или 1 в зависимости от\n",
    "# дня недели\n",
    "def weekend_col(arg):\n",
    "    # создадим список с исключениями\n",
    "    exclude_list = [0, 1, 2, 3, 4]\n",
    "    # условие проверит какая цифра поступает в функцию\n",
    "    if arg in exclude_list:\n",
    "        return 0\n",
    "    else:\n",
    "        return 1\n",
    "    \n",
    "# применим фунцию на признак\n",
    "citibike_df['weekend'] = citibike_df['weekend'].apply(weekend_col)    \n",
    "value_weekend = citibike_df['weekend'].value_counts()\n",
    "print(f'Number of weekend bike trip: {value_weekend.iloc[1]}')\n",
    "\n"
   ]
  },
  {
   "cell_type": "markdown",
   "id": "ea4b8d8d",
   "metadata": {},
   "source": [
    "## Задание 6.12"
   ]
  },
  {
   "cell_type": "markdown",
   "id": "2e611560",
   "metadata": {},
   "source": [
    "Создайте признак времени суток поездки time_of_day. Время суток будем определять из часа начала поездки. Условимся, что:\n",
    "\n",
    "    поездка совершается ночью (night), если её час приходится на интервал от 0 (включительно) до 6 (включительно) часов;\n",
    "    поездка совершается утром (morning), если её час приходится на интервал от 6 (не включительно) до 12 (включительно) часов;\n",
    "    поездка совершается днём (day), если её час приходится на интервал от 12 (не включительно) до 18 (включительно) часов;\n",
    "    поездка совершается вечером (evening), если её час приходится на интервал от 18 (не включительно) до 23 часов (включительно).\n",
    "\n",
    "Во сколько раз количество поездок, совершённых днём, больше, чем количество поездок, совёршенных ночью, за представленный в данных период времени? Ответ округлите до целых."
   ]
  },
  {
   "cell_type": "code",
   "execution_count": null,
   "id": "7ed8a9f9",
   "metadata": {},
   "outputs": [
    {
     "data": {
      "text/plain": [
       "0          0\n",
       "1          0\n",
       "2          0\n",
       "3          0\n",
       "4          0\n",
       "          ..\n",
       "299995    19\n",
       "299996    19\n",
       "299997    19\n",
       "299998    19\n",
       "299999    19\n",
       "Name: starttime, Length: 300000, dtype: int32"
      ]
     },
     "metadata": {},
     "output_type": "display_data"
    },
    {
     "data": {
      "text/plain": [
       "0           night\n",
       "1           night\n",
       "2           night\n",
       "3           night\n",
       "4           night\n",
       "           ...   \n",
       "299995    evening\n",
       "299996    evening\n",
       "299997    evening\n",
       "299998    evening\n",
       "299999    evening\n",
       "Name: time_of_day, Length: 300000, dtype: object"
      ]
     },
     "metadata": {},
     "output_type": "display_data"
    },
    {
     "name": "stdout",
     "output_type": "stream",
     "text": [
      "<class 'pandas.core.frame.DataFrame'>\n",
      "RangeIndex: 300000 entries, 0 to 299999\n",
      "Data columns (total 15 columns):\n",
      " #   Column                   Non-Null Count   Dtype          \n",
      "---  ------                   --------------   -----          \n",
      " 0   starttime                300000 non-null  datetime64[ns] \n",
      " 1   stoptime                 300000 non-null  datetime64[ns] \n",
      " 2   start station name       299831 non-null  object         \n",
      " 3   start station latitude   300000 non-null  float64        \n",
      " 4   start station longitude  300000 non-null  float64        \n",
      " 5   end station name         299831 non-null  object         \n",
      " 6   end station latitude     300000 non-null  float64        \n",
      " 7   end station longitude    300000 non-null  float64        \n",
      " 8   bikeid                   300000 non-null  int64          \n",
      " 9   usertype                 300000 non-null  object         \n",
      " 10  gender                   300000 non-null  int64          \n",
      " 11  age                      300000 non-null  int64          \n",
      " 12  trip duration            300000 non-null  timedelta64[ns]\n",
      " 13  weekend                  300000 non-null  int64          \n",
      " 14  time_of_day              300000 non-null  object         \n",
      "dtypes: datetime64[ns](2), float64(4), int64(4), object(4), timedelta64[ns](1)\n",
      "memory usage: 34.3+ MB\n"
     ]
    },
    {
     "data": {
      "text/plain": [
       "None"
      ]
     },
     "metadata": {},
     "output_type": "display_data"
    },
    {
     "name": "stdout",
     "output_type": "stream",
     "text": [
      "Number of how much day rides bigger then night rides:     9\n"
     ]
    }
   ],
   "source": [
    "# обьект pd.Series будет содержать информацию о часе начала поездки\n",
    "start_hour = citibike_df['starttime'].dt.hour\n",
    "display(start_hour)\n",
    "# пишем функцию, которая сгруппирует признак по условию \n",
    "def start_interval(arg):\n",
    "    # создадим списки интервалов\n",
    "    night = [0, 1, 2, 3, 4, 5, 6]\n",
    "    morning = [7, 8, 9, 10, 11, 12]\n",
    "    day = [13, 14, 15, 16, 17, 18]\n",
    "    evening = [19, 20, 21, 22, 23]\n",
    "    # проверяем аргумент на вхожденеи в какой-либо из списков\n",
    "    if arg in night:\n",
    "        return 'night'\n",
    "    elif arg in morning:\n",
    "        return 'morning'\n",
    "    elif arg in day:\n",
    "        return 'day'\n",
    "    else:\n",
    "        return 'evening'\n",
    "    \n",
    "# применяем функцию в новый столбец\n",
    "\n",
    "citibike_df['time_of_day'] = start_hour.apply(start_interval)\n",
    "display(citibike_df['time_of_day'])\n",
    "display(citibike_df.info())\n",
    "\n",
    "# смотрим во сколько количество поездок совершенны\n",
    "# днем больше количества поездок совершенных ночью красивым способом\n",
    "day_unique = citibike_df['time_of_day'].value_counts().loc['day']\n",
    "night_unique = citibike_df['time_of_day'].value_counts().loc['night']\n",
    "print(f'Number of how much day rides bigger then night rides: \\\n",
    "    {round(day_unique / night_unique)}')"
   ]
  }
 ],
 "metadata": {
  "kernelspec": {
   "display_name": "Python 3",
   "language": "python",
   "name": "python3"
  },
  "language_info": {
   "codemirror_mode": {
    "name": "ipython",
    "version": 3
   },
   "file_extension": ".py",
   "mimetype": "text/x-python",
   "name": "python",
   "nbconvert_exporter": "python",
   "pygments_lexer": "ipython3",
   "version": "3.12.3"
  }
 },
 "nbformat": 4,
 "nbformat_minor": 5
}
