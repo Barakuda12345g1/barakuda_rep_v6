{
 "cells": [
  {
   "cell_type": "code",
   "execution_count": null,
   "id": "cfc9fb1f",
   "metadata": {},
   "outputs": [],
   "source": [
    "import pandas as pd\n",
    "\n",
    "\n",
    "melb_df = pd.read_csv('data/melb_data_fe.csv', sep=',')"
   ]
  },
  {
   "cell_type": "markdown",
   "id": "479cafe9",
   "metadata": {},
   "source": [
    "## Задание 1.1"
   ]
  },
  {
   "cell_type": "markdown",
   "id": "523cb2eb",
   "metadata": {},
   "source": [
    "Преобразуйте столбец Date в формат datetime и выделите квартал (quarter) продажи объектов недвижимости. Найдите второй по популярности квартал продажи. В качестве ответа запишите число объектов, проданных в этом квартале."
   ]
  },
  {
   "cell_type": "code",
   "execution_count": null,
   "id": "e31e133c",
   "metadata": {},
   "outputs": [
    {
     "data": {
      "text/plain": [
       "0       2016-03-12\n",
       "1       2016-04-02\n",
       "2       2017-04-03\n",
       "3       2017-04-03\n",
       "4       2016-04-06\n",
       "           ...    \n",
       "13575   2017-08-26\n",
       "13576   2017-08-26\n",
       "13577   2017-08-26\n",
       "13578   2017-08-26\n",
       "13579   2017-08-26\n",
       "Name: Date, Length: 13580, dtype: datetime64[ns]"
      ]
     },
     "metadata": {},
     "output_type": "display_data"
    },
    {
     "data": {
      "text/plain": [
       "0        1\n",
       "1        2\n",
       "2        2\n",
       "3        2\n",
       "4        2\n",
       "        ..\n",
       "13575    3\n",
       "13576    3\n",
       "13577    3\n",
       "13578    3\n",
       "13579    3\n",
       "Name: Date, Length: 13580, dtype: int32"
      ]
     },
     "metadata": {},
     "output_type": "display_data"
    },
    {
     "data": {
      "text/plain": [
       "Date\n",
       "3    4873\n",
       "2    4359\n",
       "4    2329\n",
       "1    2019\n",
       "Name: count, dtype: int64"
      ]
     },
     "metadata": {},
     "output_type": "display_data"
    }
   ],
   "source": [
    "# меняю тип признака\n",
    "melb_df['Date'] = pd.to_datetime(melb_df['Date'])\n",
    "display(melb_df['Date'])\n",
    "\n",
    "# помещаю ряд в переменную для подготовки признака\n",
    "quarter_column = melb_df['Date'].dt.quarter\n",
    "display(quarter_column)\n",
    "# отображаем количество уникальных элементов\n",
    "display(quarter_column.value_counts())\n",
    "# 4359"
   ]
  },
  {
   "cell_type": "markdown",
   "id": "122e5960",
   "metadata": {},
   "source": [
    "## Заданине 1.2"
   ]
  },
  {
   "cell_type": "markdown",
   "id": "3c039c48",
   "metadata": {},
   "source": [
    "Преобразуйте все столбцы, в которых меньше 150 уникальных значений, в тип данных category, исключив из преобразования столбцы Date, Rooms, Bedroom, Bathroom, Car.\n",
    "\n",
    "В качестве ответа запишите результирующее количество столбцов, которые имеют тип данных category."
   ]
  },
  {
   "cell_type": "code",
   "execution_count": 14,
   "id": "078df968",
   "metadata": {},
   "outputs": [
    {
     "name": "stdout",
     "output_type": "stream",
     "text": [
      "<class 'pandas.core.frame.DataFrame'>\n",
      "RangeIndex: 13580 entries, 0 to 13579\n",
      "Data columns (total 26 columns):\n",
      " #   Column           Non-Null Count  Dtype         \n",
      "---  ------           --------------  -----         \n",
      " 0   Suburb           13580 non-null  category      \n",
      " 1   Rooms            13580 non-null  int64         \n",
      " 2   Type             13580 non-null  category      \n",
      " 3   Price            13580 non-null  float64       \n",
      " 4   Method           13580 non-null  category      \n",
      " 5   SellerG          13580 non-null  category      \n",
      " 6   Date             13580 non-null  datetime64[ns]\n",
      " 7   Distance         13580 non-null  float64       \n",
      " 8   Postcode         13580 non-null  int64         \n",
      " 9   Bedroom          13580 non-null  int64         \n",
      " 10  Bathroom         13580 non-null  int64         \n",
      " 11  Car              13580 non-null  int64         \n",
      " 12  Landsize         13580 non-null  float64       \n",
      " 13  BuildingArea     13580 non-null  float64       \n",
      " 14  CouncilArea      12211 non-null  category      \n",
      " 15  Lattitude        13580 non-null  float64       \n",
      " 16  Longtitude       13580 non-null  float64       \n",
      " 17  Regionname       13580 non-null  category      \n",
      " 18  Propertycount    13580 non-null  int64         \n",
      " 19  MeanRoomsSquare  13580 non-null  float64       \n",
      " 20  AreaRatio        13580 non-null  float64       \n",
      " 21  MonthSale        13580 non-null  category      \n",
      " 22  AgeBuilding      13580 non-null  int64         \n",
      " 23  WeekdaySale      13580 non-null  category      \n",
      " 24  StreetType       13580 non-null  category      \n",
      " 25  Weekend          13580 non-null  category      \n",
      "dtypes: category(10), datetime64[ns](1), float64(8), int64(7)\n",
      "memory usage: 1.8 MB\n"
     ]
    },
    {
     "data": {
      "text/plain": [
       "None"
      ]
     },
     "metadata": {},
     "output_type": "display_data"
    }
   ],
   "source": [
    "# создаю список исключений\n",
    "exclude_list = ['Date', 'Rooms', 'Bedroom', 'Bathroom', 'Car']\n",
    "# создаю переменную для фильтрации\n",
    "max_unique_count = 150\n",
    "# расматриваем каждый признак\n",
    "for col in melb_df.columns:\n",
    "    # условием выбираем нужные признаки\n",
    "    if melb_df[col].nunique() < max_unique_count and col not in exclude_list:\n",
    "        melb_df[col] = melb_df[col].astype('category')\n",
    "\n",
    "display(melb_df.info())        "
   ]
  },
  {
   "cell_type": "code",
   "execution_count": null,
   "id": "32f8cc4a",
   "metadata": {},
   "outputs": [
    {
     "data": {
      "text/plain": [
       "Index(['Suburb', 'Rooms', 'Type', 'Price', 'Method', 'SellerG', 'Date',\n",
       "       'Distance', 'Postcode', 'Bedroom', 'Bathroom', 'Car', 'Landsize',\n",
       "       'BuildingArea', 'CouncilArea', 'Lattitude', 'Longtitude', 'Regionname',\n",
       "       'Propertycount', 'MeanRoomsSquare', 'AreaRatio', 'MonthSale',\n",
       "       'AgeBuilding', 'WeekdaySale', 'StreetType', 'Weekend'],\n",
       "      dtype='object')"
      ]
     },
     "metadata": {},
     "output_type": "display_data"
    }
   ],
   "source": [
    "display(melb_df.columns)\n",
    "\n"
   ]
  },
  {
   "cell_type": "markdown",
   "id": "ecd00cd1",
   "metadata": {},
   "source": [
    "## Задание 2.2"
   ]
  },
  {
   "cell_type": "markdown",
   "id": "56f32ce9",
   "metadata": {},
   "source": [
    "Произведите сортировку столбца AreaRatio по убыванию. После сортировки замените индексы таблицы на новые. Какое значение площади здания находится в строке 1558? Ответ округлите до целого числа."
   ]
  },
  {
   "cell_type": "code",
   "execution_count": null,
   "id": "3c0a4caa",
   "metadata": {},
   "outputs": [],
   "source": [
    "melb_sorted = melb_df.copy()\n"
   ]
  }
 ],
 "metadata": {
  "kernelspec": {
   "display_name": "Python 3",
   "language": "python",
   "name": "python3"
  },
  "language_info": {
   "codemirror_mode": {
    "name": "ipython",
    "version": 3
   },
   "file_extension": ".py",
   "mimetype": "text/x-python",
   "name": "python",
   "nbconvert_exporter": "python",
   "pygments_lexer": "ipython3",
   "version": "3.12.3"
  }
 },
 "nbformat": 4,
 "nbformat_minor": 5
}
